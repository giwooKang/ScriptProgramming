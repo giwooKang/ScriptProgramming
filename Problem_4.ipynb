{
 "cells": [
  {
   "cell_type": "markdown",
   "metadata": {},
   "source": [
    "2016년도 2학기 스크립트프로그래밍 1분반<br/>\n",
    "\n",
    "**project_euler** 문제풀이\n",
    "\n",
    "한국기술교육대학교 컴퓨터공학부<br/>\n",
    "2010136001 4학년 강기우\n",
    "\n",
    "=======================================================================\n",
    "\n",
    "### Problem 4\n",
    "\n",
    "앞에서부터 읽을 때나 뒤에서부터 읽을 때나 모양이 같은 수를 대칭수(palindrome)라고 부릅니다.\n",
    "\n",
    "두 자리 수를 곱해 만들 수 있는 대칭수 중 가장 큰 수는 9009 (= 91 × 99) 입니다.\n",
    "\n",
    "세 자리 수를 곱해 만들 수 있는 가장 큰 대칭수는 얼마입니까?"
   ]
  },
  {
   "cell_type": "code",
   "execution_count": 1,
   "metadata": {
    "collapsed": false
   },
   "outputs": [],
   "source": [
    "def isPalindrome(num):\n",
    "    num_s = str(num)\n",
    "    l = len(num_s)\n",
    "    count = l/2\n",
    "    for i in range(0, count):\n",
    "        if num_s[i] != num_s[l-i-1]:\n",
    "            return False\n",
    "    return True"
   ]
  },
  {
   "cell_type": "markdown",
   "metadata": {},
   "source": [
    "isPalindrome은 해당 수가 대칭수인지 구하는 함수의 정의이다.<br/><br/>\n",
    "파라미터 num을 string 자료형으로 바꾸고, 문자열의 길이를 구해, 길이 len/2 만큼의 인덱스를 앞뒤로 보면서 한번이라도 다른 값이 나오면 False를, 나오지 않으면 대칭수이므로 True를 리턴한다."
   ]
  },
  {
   "cell_type": "code",
   "execution_count": 2,
   "metadata": {
    "collapsed": false
   },
   "outputs": [],
   "source": [
    "max = -1\n",
    "for i in range(100, 1000, 1):\n",
    "    for j in range(i, 1000, 1):\n",
    "        mul = i*j\n",
    "        if isPalindrome(mul) and max < mul :\n",
    "            max = mul\n"
   ]
  },
  {
   "cell_type": "markdown",
   "metadata": {},
   "source": [
    "999*998 과 998*999는 같은 수이다. 따라서 중복 곱셈을 허용할 필요가 없다. 또한 세 자리 수는 100~999 이므로 위와 같은 반복문을 구성할 수 있다.<br/><br/>\n",
    "두 값을 곱하고, 해당 값이 대칭수이면서 현재까지의 최대값보다 크다면, 최대값을 갱신한다."
   ]
  },
  {
   "cell_type": "code",
   "execution_count": 3,
   "metadata": {
    "collapsed": false
   },
   "outputs": [
    {
     "name": "stdout",
     "output_type": "stream",
     "text": [
      "906609\n"
     ]
    }
   ],
   "source": [
    "print max"
   ]
  },
  {
   "cell_type": "code",
   "execution_count": null,
   "metadata": {
    "collapsed": true
   },
   "outputs": [],
   "source": []
  }
 ],
 "metadata": {
  "anaconda-cloud": {},
  "kernelspec": {
   "display_name": "Python [default]",
   "language": "python",
   "name": "python2"
  },
  "language_info": {
   "codemirror_mode": {
    "name": "ipython",
    "version": 2
   },
   "file_extension": ".py",
   "mimetype": "text/x-python",
   "name": "python",
   "nbconvert_exporter": "python",
   "pygments_lexer": "ipython2",
   "version": "2.7.12"
  }
 },
 "nbformat": 4,
 "nbformat_minor": 0
}
