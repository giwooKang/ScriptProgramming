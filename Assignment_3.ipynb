{
 "cells": [
  {
   "cell_type": "markdown",
   "metadata": {},
   "source": [
    "<h1>Assignment 3</h1>\n",
    "<h3>한국기술교육대 컴퓨터공학부 \n",
    "<br/>스크립트프로그래밍 1분반 \n",
    "<br/>2010136001 강기우</h3>"
   ]
  },
  {
   "cell_type": "markdown",
   "metadata": {},
   "source": [
    "<h3>문제 1)</h3> \n",
    "<br/>\n",
    "L=[1, 2, 3, 4, 5]일 때 다음 각 문장을 수행한 후의 결과를 보고 납득할 만한 이유를 설명하시오.\n",
    "<br/>\n",
    "\n",
    "- 1) <br/>\n",
    "    - L[1:3] = [100] <br/> print L\n",
    "- 2) \n",
    "    - L[1:3] = [(100)] <br/> print L\n",
    "- 3) \n",
    "    - L[1:3] = 100 <br/> print L\n",
    "- 4) \n",
    "    - L[1:3] = (100) <br/> print L\n",
    "- 5) \n",
    "    - L[1:3] = (100, 101, 102) <br/> print L\n",
    "- 6) \n",
    "    - L[1:3] = [100, 101, 102] <br/> print L\n",
    "- 7) \n",
    "    - L[1:3] = [(100, 101, 102)] <br/> print L\n",
    "- 8) \n",
    "    - L[1:3] = [[100, 101, 102]] <br/> print L"
   ]
  },
  {
   "cell_type": "code",
   "execution_count": 4,
   "metadata": {
    "collapsed": false
   },
   "outputs": [
    {
     "name": "stdout",
     "output_type": "stream",
     "text": [
      "[1, 100, 4, 5]\n"
     ]
    }
   ],
   "source": [
    "L = [1,2,3,4,5]\n",
    "L[1:3] = [100] \n",
    "print L"
   ]
  },
  {
   "cell_type": "markdown",
   "metadata": {},
   "source": [
    "<font color=blue>\n",
    "1)번 <br/>\n",
    "대입 연산이다. L[1:3], 즉 L의 1번지, 2번지에 해당하는 리스트를 [100] 리스트로 대체한다. 이 경우 [2, 3] 이 [100] 으로 대체되어 [1, 100, 4, 5] 가 된다.\n",
    "</font>"
   ]
  },
  {
   "cell_type": "code",
   "execution_count": 12,
   "metadata": {
    "collapsed": false
   },
   "outputs": [
    {
     "name": "stdout",
     "output_type": "stream",
     "text": [
      "[1, 100, 4, 5]\n"
     ]
    }
   ],
   "source": [
    "L = [1,2,3,4,5]\n",
    "L[1:3] = [(100)]\n",
    "print L"
   ]
  },
  {
   "cell_type": "markdown",
   "metadata": {},
   "source": [
    "<font color=blue>\n",
    "2)번 <br/>\n",
    "100을 괄호로 감싼 것 뿐, 1번과 똑같은 뜻이다. 만약 튜플을 넣으려 했다면, (100,) 와 같이 써 튜플임을 명시해야 한다.\n",
    "</font>"
   ]
  },
  {
   "cell_type": "code",
   "execution_count": 13,
   "metadata": {
    "collapsed": false
   },
   "outputs": [
    {
     "ename": "TypeError",
     "evalue": "can only assign an iterable",
     "output_type": "error",
     "traceback": [
      "\u001b[0;31m---------------------------------------------------------------------------\u001b[0m",
      "\u001b[0;31mTypeError\u001b[0m                                 Traceback (most recent call last)",
      "\u001b[0;32m<ipython-input-13-2190a12ebf8f>\u001b[0m in \u001b[0;36m<module>\u001b[0;34m()\u001b[0m\n\u001b[1;32m      1\u001b[0m \u001b[0mL\u001b[0m \u001b[1;33m=\u001b[0m \u001b[1;33m[\u001b[0m\u001b[1;36m1\u001b[0m\u001b[1;33m,\u001b[0m\u001b[1;36m2\u001b[0m\u001b[1;33m,\u001b[0m\u001b[1;36m3\u001b[0m\u001b[1;33m,\u001b[0m\u001b[1;36m4\u001b[0m\u001b[1;33m,\u001b[0m\u001b[1;36m5\u001b[0m\u001b[1;33m]\u001b[0m\u001b[1;33m\u001b[0m\u001b[0m\n\u001b[0;32m----> 2\u001b[0;31m \u001b[0mL\u001b[0m\u001b[1;33m[\u001b[0m\u001b[1;36m1\u001b[0m\u001b[1;33m:\u001b[0m\u001b[1;36m3\u001b[0m\u001b[1;33m]\u001b[0m \u001b[1;33m=\u001b[0m \u001b[1;36m100\u001b[0m\u001b[1;33m\u001b[0m\u001b[0m\n\u001b[0m\u001b[1;32m      3\u001b[0m \u001b[1;32mprint\u001b[0m \u001b[0mL\u001b[0m\u001b[1;33m\u001b[0m\u001b[0m\n",
      "\u001b[0;31mTypeError\u001b[0m: can only assign an iterable"
     ]
    }
   ],
   "source": [
    "L = [1,2,3,4,5]\n",
    "L[1:3] = 100\n",
    "print L"
   ]
  },
  {
   "cell_type": "markdown",
   "metadata": {},
   "source": [
    "<font color=blue>\n",
    "3)번 <br/>\n",
    "1번에서 L[1:3]이 리스트의 1,2번지에 값을 대입하는 것이라고 설명했다. 이 문제의 2행 역시 대입 연산이다. 그러나 2행의 좌항은 iterable, 즉 순서를 갖는 항인 반면, 2행의 우항은 단순한 정수이다. 좌우항의 타입이 달라 타입 에러가 나는 경우이다.\n",
    "</font>"
   ]
  },
  {
   "cell_type": "code",
   "execution_count": 21,
   "metadata": {
    "collapsed": false
   },
   "outputs": [
    {
     "ename": "TypeError",
     "evalue": "can only assign an iterable",
     "output_type": "error",
     "traceback": [
      "\u001b[0;31m---------------------------------------------------------------------------\u001b[0m",
      "\u001b[0;31mTypeError\u001b[0m                                 Traceback (most recent call last)",
      "\u001b[0;32m<ipython-input-21-c5aa4b5b4c59>\u001b[0m in \u001b[0;36m<module>\u001b[0;34m()\u001b[0m\n\u001b[1;32m      1\u001b[0m \u001b[0mL\u001b[0m \u001b[1;33m=\u001b[0m \u001b[1;33m[\u001b[0m\u001b[1;36m1\u001b[0m\u001b[1;33m,\u001b[0m\u001b[1;36m2\u001b[0m\u001b[1;33m,\u001b[0m\u001b[1;36m3\u001b[0m\u001b[1;33m,\u001b[0m\u001b[1;36m4\u001b[0m\u001b[1;33m,\u001b[0m\u001b[1;36m5\u001b[0m\u001b[1;33m]\u001b[0m\u001b[1;33m\u001b[0m\u001b[0m\n\u001b[0;32m----> 2\u001b[0;31m \u001b[0mL\u001b[0m\u001b[1;33m[\u001b[0m\u001b[1;36m1\u001b[0m\u001b[1;33m:\u001b[0m\u001b[1;36m3\u001b[0m\u001b[1;33m]\u001b[0m \u001b[1;33m=\u001b[0m \u001b[1;33m(\u001b[0m\u001b[1;36m100\u001b[0m\u001b[1;33m)\u001b[0m\u001b[1;33m\u001b[0m\u001b[0m\n\u001b[0m\u001b[1;32m      3\u001b[0m \u001b[1;32mprint\u001b[0m \u001b[0mL\u001b[0m\u001b[1;33m\u001b[0m\u001b[0m\n",
      "\u001b[0;31mTypeError\u001b[0m: can only assign an iterable"
     ]
    }
   ],
   "source": [
    "L = [1,2,3,4,5]\n",
    "L[1:3] = (100)\n",
    "print L"
   ]
  },
  {
   "cell_type": "markdown",
   "metadata": {},
   "source": [
    "<font color=blue>\n",
    "4)번 <br/>\n",
    "2번에서도 설명했듯, 튜플로 쓰고싶다면 (100,)와 같이 명시하면 된다. 이렇게 쓰는 경우에는 100 으로 쓴 것과 같으므로 3번과 같은 코드가 된다. 결과 또한 3번에 설명한 그대로이다. 만약 튜플로 썼다면, 튜플은 iterable하므로, 에러 없이 1번처럼 동작할것이다.\n",
    "</font>"
   ]
  },
  {
   "cell_type": "code",
   "execution_count": 15,
   "metadata": {
    "collapsed": false
   },
   "outputs": [
    {
     "name": "stdout",
     "output_type": "stream",
     "text": [
      "[1, 100, 101, 102, 4, 5]\n"
     ]
    }
   ],
   "source": [
    "L = [1,2,3,4,5]\n",
    "L[1:3] = (100, 101, 102)\n",
    "print L"
   ]
  },
  {
   "cell_type": "markdown",
   "metadata": {},
   "source": [
    "<font color=blue>\n",
    "5)번 <br/>\n",
    "대입 연산이고, L의 1항, 2항인 [2, 3] 을 (100, 101, 102)로 대체하는 구문이다. 튜플은 iterable하므로, 리스트에 대입이 가능하다. 따라서 3, 4번과 같은 오류 없이 정상적으로 대입된다.\n",
    "</font>"
   ]
  },
  {
   "cell_type": "code",
   "execution_count": 16,
   "metadata": {
    "collapsed": false
   },
   "outputs": [
    {
     "name": "stdout",
     "output_type": "stream",
     "text": [
      "[1, 100, 101, 102, 4, 5]\n"
     ]
    }
   ],
   "source": [
    "L = [1,2,3,4,5]\n",
    "L[1:3] = [100, 101, 102]\n",
    "print L"
   ]
  },
  {
   "cell_type": "markdown",
   "metadata": {},
   "source": [
    "<font color=blue>\n",
    "6)번 <br/>\n",
    "리스트에 튜플을 대입하는 것은 얼핏 특별해 보이지만, 리스트에 리스트를 대입하는 것은 당연한 결과를 낸다. [2, 3] 리스트에 [100, 101, 102] 리스트를 대입한다. 1번에서 [100] 리스트가 에러 없이 대입된 결과를 보면, [100, 101, 102] 역시 리스트이므로 예상한 대로 동작하는 것은 이상하지 않다.\n",
    "</font>"
   ]
  },
  {
   "cell_type": "code",
   "execution_count": 17,
   "metadata": {
    "collapsed": false
   },
   "outputs": [
    {
     "name": "stdout",
     "output_type": "stream",
     "text": [
      "[1, (100, 101, 102), 4, 5]\n"
     ]
    }
   ],
   "source": [
    "L = [1,2,3,4,5]\n",
    "L[1:3] = [(100, 101, 102)]\n",
    "print L"
   ]
  },
  {
   "cell_type": "markdown",
   "metadata": {},
   "source": [
    "<font color=blue>\n",
    "7)번 <br/>\n",
    "1번의 경우 100은 단순한 정수형이지만 [100], 즉 []으로 감싸 내부의 항이 iterable임을 명시함으로써 좌우항의 변수형이 같아 대입 연산이 실행되었다. 이는 정수의 수가 늘어난 [100, 101, 102] 나 (100, 101, 102)에도 예외없이 적용된다. 이를 변수로 나타내면, L[1:3] = [x] 혹은 (x,) -> [1, x, 4, 5] 이다. 7번의 경우는 이 x가 (100, 101, 102) 라는 하나의 변수, 튜플인 경우라고 생각할 수 있다. 튜플의 각 정수를 iterable화 한 것이 아니고, 튜플 그 자체를 iterable로 한 것과 같다. 따라서 튜플 전체가 하나의 iterable로써 리스트에 대입된 것이다.\n",
    "</font>"
   ]
  },
  {
   "cell_type": "code",
   "execution_count": 18,
   "metadata": {
    "collapsed": false
   },
   "outputs": [
    {
     "name": "stdout",
     "output_type": "stream",
     "text": [
      "[1, [100, 101, 102], 4, 5]\n"
     ]
    }
   ],
   "source": [
    "L = [1,2,3,4,5]\n",
    "L[1:3] = [[100, 101, 102]]\n",
    "print L"
   ]
  },
  {
   "cell_type": "markdown",
   "metadata": {},
   "source": [
    "<font color=blue>\n",
    "8)번 <br/>\n",
    "7번의 경우와 같으나 내부항이 리스트이다. 튜플과 리스트 둘 모두 iterable이므로, 성질이 비슷함을 생각하면 7번의 결과로 8번의 결과를 유추하는 것은 어렵지 않다.\n",
    "</font>"
   ]
  },
  {
   "cell_type": "markdown",
   "metadata": {},
   "source": [
    "<h3>문제 2)</h3> \n",
    "<br/>\n",
    "문자열 S = 'Hello World and Python'에 대해 다음 요구사항에 대한 Python 코드를 제시하시오.\n",
    "<br/>\n",
    "- 1) 단어의 순서가 역순으로 되어진 문자열 ('Python and World Hello')을 만들고\n",
    "- 2) 1)의 결과 문자열에 대해 메소드 split과 join을 이용하여 공백을 모두 없엔 문자열 'PythonandWorldHello'을 만드시오."
   ]
  },
  {
   "cell_type": "code",
   "execution_count": 31,
   "metadata": {
    "collapsed": false
   },
   "outputs": [
    {
     "name": "stdout",
     "output_type": "stream",
     "text": [
      "Python and World Hello\n",
      "PythonandWorldHello\n"
     ]
    }
   ],
   "source": [
    "S = 'Hello World and Python'\n",
    "\n",
    "s = \" \".join(S.split()[::-1]);\n",
    "print s\n",
    "s = \"\".join(s.split());\n",
    "print s"
   ]
  },
  {
   "cell_type": "markdown",
   "metadata": {},
   "source": [
    "<font color=blue>\n",
    "1)번을 split이나 join을 쓰지 않고 만들라는 말은 없어서, 위와 같이 코딩하였다. 1)번 문제에 대해서, 먼저 S.split() 에서 문자열을 공백 단위로 분할한 리스트를 얻고, [::-1] 연산으로 순서를 반대로 바꾼 리스트를 얻었다. 그리고 \" \".join() 을 통해, 공백을 리스트의 각 요소 사이에 넣은 문자열을 얻을 수 있다. 2)번은 1)번의 연산에서 [::-1]을 생략하고, 공백을 껴넣는 대신 \"\"을 껴넣음으로써 공백 없이 단어를 이은 문자열을 얻는다.\n",
    "</font>"
   ]
  },
  {
   "cell_type": "markdown",
   "metadata": {},
   "source": [
    "<h3>문제 3)</h3> \n",
    "<br/>\n",
    "다음 코드를 보고 물음에 답하시오.<br/>\n",
    "\n",
    "    a = [1, 2, 3]\n",
    "    b = a * 3\n",
    "    c = [a] * 3\n",
    "    print b\n",
    "    print c\n",
    "\n",
    "- 1) 위 코드를 수행한 이후 다음 코드를 수행한 후 b와 c의 내용을 확인하시오.\n",
    "        a[0]=0\n",
    "- 2) b와 c 객체의 차이는 무엇인가?"
   ]
  },
  {
   "cell_type": "code",
   "execution_count": 34,
   "metadata": {
    "collapsed": false
   },
   "outputs": [
    {
     "name": "stdout",
     "output_type": "stream",
     "text": [
      "[1, 2, 3, 1, 2, 3, 1, 2, 3]\n",
      "[[1, 2, 3], [1, 2, 3], [1, 2, 3]]\n"
     ]
    }
   ],
   "source": [
    "a = [1, 2, 3]\n",
    "b = a * 3\n",
    "c = [a] * 3\n",
    "print b\n",
    "print c"
   ]
  },
  {
   "cell_type": "code",
   "execution_count": 35,
   "metadata": {
    "collapsed": false
   },
   "outputs": [
    {
     "name": "stdout",
     "output_type": "stream",
     "text": [
      "[1, 2, 3, 1, 2, 3, 1, 2, 3]\n",
      "[[0, 2, 3], [0, 2, 3], [0, 2, 3]]\n"
     ]
    }
   ],
   "source": [
    "a[0] = 0\n",
    "print b\n",
    "print c"
   ]
  },
  {
   "cell_type": "markdown",
   "metadata": {},
   "source": [
    "<font color=blue>\n",
    "1)을 수행한 결과, b는 바뀌지 않았고, c는 바뀌었다. 출력의 결과로 b = a * 3 에서, b에는 a가 3개 들어가는 것이 아닌 a가 갖고 있는 요소 3개가 들어갔으며 c = [a] * 3 에서, 단순히 a가 3개 들어갔음을 확인할 수 있다. 다시 말해, 임의의 상수 집합 x에 대해서<br/>\n",
    "a = [x]<br/>\n",
    "b = a * 3 = [x, x, x]<br/>\n",
    "c = [a] * 3 = [a, a, a]<br/>\n",
    "라고 쓸 수 있다. 1번 문제에서도 보았지만, []로 감싸 내부의 요소를 iterable로 만들 수 있고, [] 연산은 내부에 위치되는 어떤 객체라도 하나의 iterable로 취급할 수 있음을 알 수 있다.\n",
    "</font>"
   ]
  },
  {
   "cell_type": "markdown",
   "metadata": {},
   "source": [
    "<h3>문제 4)</h3> \n",
    "<br/>\n",
    "다음 문자열을 ':'을 기준으로 분리하여 리스트로 만들고 각 문자열의 좌우 공백을 제거하시오 (즉, 문자열 S에서 l을 만들어라)\n",
    "<br/>\n",
    "\n",
    "    s = '  first star   :   second star   :    third star  '\n",
    "    l = ['first star', 'second star', 'third star']\n",
    "    \n",
    "- 1) for ~ in 문을 이용한 코드를 작성하시오.\n",
    "- 2) 리스트 내포(list comprehension)를 이용한 코드를 작성하시오."
   ]
  },
  {
   "cell_type": "code",
   "execution_count": 49,
   "metadata": {
    "collapsed": true
   },
   "outputs": [],
   "source": [
    "s = '  first star   :   second star   :    third star  '\n",
    "l = []"
   ]
  },
  {
   "cell_type": "code",
   "execution_count": 50,
   "metadata": {
    "collapsed": false,
    "scrolled": true
   },
   "outputs": [
    {
     "name": "stdout",
     "output_type": "stream",
     "text": [
      "['first star', 'second star', 'third star']\n"
     ]
    }
   ],
   "source": [
    "for sentense in s.split(\":\"):\n",
    "    l += [sentense.strip()]\n",
    "print l"
   ]
  },
  {
   "cell_type": "code",
   "execution_count": 51,
   "metadata": {
    "collapsed": false
   },
   "outputs": [
    {
     "name": "stdout",
     "output_type": "stream",
     "text": [
      "['first star', 'second star', 'third star']\n"
     ]
    }
   ],
   "source": [
    "l = [sentense.strip() for sentense in s.split(\":\")]\n",
    "print l"
   ]
  },
  {
   "cell_type": "markdown",
   "metadata": {},
   "source": [
    "<font color=blue>\n",
    "1) 번에서, s.split(\":\") 구문으로 : 문자를 기준하여 문장을 분리하고, 여기에 strip() 연산을 수행하여 좌우의 공백을 없앤다. 이후 []으로 감싸 string 자료형을 iterable하게 만들고, 이를 l 리스트에 추가한다. 2) 번에서는 1)번과 같은 내용을 리스트 내포 문법을 이용하여 같은 결과를 낸다.\n",
    "</font>"
   ]
  },
  {
   "cell_type": "markdown",
   "metadata": {},
   "source": [
    "<h3>문제 5)</h3> \n",
    "<br/>\n",
    "다음과 같이 0보다 큰 정수 리스트 변수 list를 인자로 받는 함수 addall(list)와 addallodd(list)를 for ~ in 리터널과 리스트 내포 방식으로 각각 제시하시오.\n",
    "<br/>\n",
    "- 1) addall(list) 함수 (리스트 내의 모든 정수를 더하는 함수로서 해답으로는 for ~ in 리터럴과 리스트 내포 방식으로 각각 제시하시오.)<br/>\n",
    "\n",
    "    \\>>> addall([1])<br/>\n",
    "    1<br/>\n",
    "    \\>>> addall([1, 2, 3, 4, 5, 6, 7, 8, 9])<br/>\n",
    "    45<br/><br/>\n",
    "    \n",
    "- 2) addallodd(list) 함수 (리스트내의 모든 홀수를 더하는 함수로서 해답으로는 for ~ in 리터럴과 리스트 내포 방식으로 각각 제시하시오.)<br/>\n",
    "\n",
    "    \\>>> addallodd([1])<br/>\n",
    "    1<br/>\n",
    "    \\>>> addallodd([1, 2, 3, 4, 5, 6, 7, 8, 9])<br/>\n",
    "    25<br/><br/>\n",
    "    \n",
    "- [참고 1]: 리스트 내포 방식으로 addall() 및 addallodd()함수를 만들 때엔 리스트 내포에 의해 생성된 리스트 결과에 대해 내장 함수를 사용하는 방식을 고려해보시오 (주의: 리스트 내포 방식의 addall() 및 addallodd() 함수의 몸체는 단 1줄로 작성되어야 한다.)\n",
    "- [참고 2]: sum() 등의 내장함수 사용 가능함\n",
    "<br/>"
   ]
  },
  {
   "cell_type": "code",
   "execution_count": 59,
   "metadata": {
    "collapsed": false
   },
   "outputs": [
    {
     "name": "stdout",
     "output_type": "stream",
     "text": [
      "45\n",
      "45\n"
     ]
    }
   ],
   "source": [
    "list = [1, 2, 3, 4, 5, 6, 7, 8, 9]\n",
    "\n",
    "# 1)번 문제의 for~in 리터럴 방식\n",
    "def addall(list):\n",
    "    sum = 0\n",
    "    for i in list:\n",
    "        sum += i\n",
    "    print sum\n",
    "\n",
    "addall(list)\n",
    "\n",
    "# 1)번 문제의 리스트 내포 방식\n",
    "def addall(list):\n",
    "    print sum([i for i in list])\n",
    "\n",
    "addall(list)"
   ]
  },
  {
   "cell_type": "code",
   "execution_count": 60,
   "metadata": {
    "collapsed": false
   },
   "outputs": [
    {
     "name": "stdout",
     "output_type": "stream",
     "text": [
      "25\n",
      "25\n"
     ]
    }
   ],
   "source": [
    "# 2)번 문제의 for~in 리터럴 방식\n",
    "def addallodd(list):\n",
    "    sum = 0\n",
    "    for i in list:\n",
    "        if i%2==1:\n",
    "            sum += i\n",
    "    print sum\n",
    "\n",
    "addallodd(list)\n",
    "\n",
    "# 2)번 문제의 리스트 내포 방식\n",
    "def addallodd(list):\n",
    "    print sum([i for i in list if i%2==1])\n",
    "\n",
    "addallodd(list)"
   ]
  },
  {
   "cell_type": "markdown",
   "metadata": {},
   "source": [
    "<font color=blue>\n",
    "sum() 내장 함수를 사용한 점을 제외하면 1)번과 2)번 모두 코드에 대한 설명은 별도로 필요하지 않다고 생각된다. 리스트 내포 문법을 사용해보는 단순한 연습문제로 보인다.\n",
    "</font>"
   ]
  },
  {
   "cell_type": "markdown",
   "metadata": {},
   "source": [
    "<h3>문제 6)</h3> \n",
    "<br/>\n",
    "다음 코드를 보고 물음에 답하시오.\n",
    "\n",
    "    L1 = [1, 2, 3]\n",
    "    L2 = [4, 5, 6]\n",
    "    d = {'low':L1, 'high':L2}\n",
    "    e = d\n",
    "    f = d.copy()\n",
    "    print d\n",
    "    print e\n",
    "    print f\n",
    "    print\n",
    "    d['low'] = [10, 20, 30]\n",
    "    d['high'][1] = 500\n",
    "    print d\n",
    "    print e\n",
    "    print f\n",
    "\n",
    "- 1) 위 코드의 수행 결과 d와 e는 항상 같은 결과를 출력한다. 그 이유는 무엇인가?\n",
    "- 2) 위 코드의 수행 결과 마지막 f의 내용은 다음과 같다. 이 때 'high' 키의 값 내용 중 500이 출력된 이유와 'low' 키의 값 내용 중 [1, 2, 3]이 출력된 이유를 설명하시오 ([hint]: shallow copy 관점에서 설명하시오.)\n",
    "\n",
    "    {'high': [4, 500, 6], 'low': [1, 2, 3]}\n",
    "<br/>"
   ]
  },
  {
   "cell_type": "code",
   "execution_count": 61,
   "metadata": {
    "collapsed": false
   },
   "outputs": [
    {
     "name": "stdout",
     "output_type": "stream",
     "text": [
      "{'high': [4, 5, 6], 'low': [1, 2, 3]}\n",
      "{'high': [4, 5, 6], 'low': [1, 2, 3]}\n",
      "{'high': [4, 5, 6], 'low': [1, 2, 3]}\n",
      "\n",
      "{'high': [4, 500, 6], 'low': [10, 20, 30]}\n",
      "{'high': [4, 500, 6], 'low': [10, 20, 30]}\n",
      "{'high': [4, 500, 6], 'low': [1, 2, 3]}\n"
     ]
    }
   ],
   "source": [
    "L1 = [1, 2, 3]\n",
    "L2 = [4, 5, 6]\n",
    "d = {'low':L1, 'high':L2}\n",
    "e = d\n",
    "f = d.copy()\n",
    "print d\n",
    "print e\n",
    "print f\n",
    "print\n",
    "d['low'] = [10, 20, 30]\n",
    "d['high'][1] = 500\n",
    "print d\n",
    "print e\n",
    "print f"
   ]
  },
  {
   "cell_type": "markdown",
   "metadata": {},
   "source": [
    "<font color=blue>\n",
    "1) d와 e가 같은 값이 출력되는 이유는 e = d 구문을 통해 e를 초기화 하는 순간, d의 각 요소가 복사되어 e에 포함되는 것이 아닌(deep copy), 메모리 상의 d가 pointing 하는 원본을 e도 pointing 하는 단순 복사(reference 복사)가 일어나기 떄문이다. 어떤 데이터가 변수 x로 초기화 될 때, 변수 x라는 공간 안에 데이터가 내포되는 것이 아니라 데이터는 메모리 상에 로드되고, x는 메모리 상의 데이터의 위치를 pointing하는 것임은 1일차 수업에서 배운 내용이다. e = d 할때 d에 들어있는 내용은 {'high': [4, 5, 6], 'low': [1, 2, 3]} 가 위치하는 메모리 상의 주소이며, 이것이 e에 복사되는 것이다.<br/><br/>\n",
    "2) 반면, f는 초기화 시 f = d.copy() 를 통해 초기화된다. copy() 메소드는 내부 데이터를 말 그대로 복사하여 메모리 상의 다른 영역에 똑같은 데이터를 로드하고 이를 f가 가르키게 하는 얕은 복사(swallow copy)를 수행한다. 얼핏 보면 이 설명은 deep copy를 말하는 듯 하지만, deep copy와 swallow copy는 차이가 있다. swallow copy를 얕은 복사라고 부르는 이유는, 리스트 내의 상수형 데이터는 다른 메모리상에 복사하지만 상수가 아닌 어떤 객체(메모리 상의 다른 공간에 위치하는) 에 대해서는 레퍼런스를 그대로 유지하는 점 때문이다. deep copy의 경우는 레퍼런스를 재귀적으로 추적하여 해당 객체의 내용까지 완벽히 메모리 상의 다른 공간에 복사한다. <br/><br/>\n",
    "\n",
    "이러한 특징 때문에 d, e와 f의 출력 결과가 위와 같이 달라지는 것을 확인할 수 있다. 2) 의 설명을 그림으로 하면 정말 간단한데, 글로 쓰기가 정말 어렵다... 메모리상에서 일어나는 일을 순차적으로 설명하면 다음과 같다. (원래는 [1, 2, 3] 에서 각 정수가 각각 다른 메모리 공간에 로드되고, 리스트는 로드된 각 주소를 갖도록 구성되지만, 너무 복잡해지므로 아래 설명에서는 리스트나 맵 같은 자료형도 하나의 상수라고 생각하고 간소화하였다.)<br/><br/>\n",
    "\n",
    "L1에는 [1,2,3] 이라는 데이터가 적재된 메모리 상의 주소 0x0001이 있다.<br/>\n",
    "L2에는 [4,5,6] 이라는 데이터가 적재된 메모리 상의 주소 0x0002가 있다.<br/>\n",
    "d = {'low':L1, 'high':L2} 구문에서, d에는 {'low':0x0001, 'high':0x0002} 라는 사전 자료형 데이터가 적재된 메모리 상의 주소 0x0003이 적재된다. 여기서 d['low'] = 0x0001, d['high'] = 0x0002 임이 중요하다.<br/>\n",
    "e = d 에서 e에는 d가 갖고 있는 메모리 상의 주소 0x0003이 복사되는 단순 레퍼런스 copy가 일어난다.<br/>\n",
    "f = d.copy() 에서, d.copy()메서드에 의해 메모리 상에 {'low':0x0001, 'high':0x0002} 라는 데이터가 0x0004에 복사되고, f가 이를 pointing하게 되는 swallow copy가 일어난다. 얕은 복사이므로, 사전 자료형의 틀은 복사해서 새 메모리에 로드했지만 L1, L2의 값까지 다른 메모리에 복사하지는 못하고 레퍼런스를 그대로 가져오는 것을 아래 메모리 맵에서 확인할 수 있다.<br/>\n",
    "<br/>\n",
    "현재 메모리 상황은 다음과 같다.<br/>\n",
    "<br/>\n",
    "0x0001 : [1, 2, 3] <- L1<br/>\n",
    "0x0002 : [4, 5, 6] <- L2<br/>\n",
    "0x0003 : {'low':0x0001, 'high':0x0002} <- d, e<br/>\n",
    "0x0004 : {'low':0x0001, 'high':0x0002} <- f<br/>\n",
    "<br/>\n",
    "d['low'] = [10, 20, 30] 에서, [10, 20, 30] 자료형 상수는 새로 등장했으며, 새 메모리 주소, 0x0005에 적재된다. d['low']는 0x0005를 가르키도록 수정된다.<br/>\n",
    "d['high'][1] = 500 에서, d['high'] 는 0x0002이고, 0x0002의 [1]번지의 값을 500으로 수정한다. 위 두 줄이 수행되었을 때 메모리 상황은 다음과 같다.<br/>\n",
    "<br/>\n",
    "0x0001 : [1, 2, 3] <- L1<br/>\n",
    "0x0002 : [4, 500, 6] <- L2<br/>\n",
    "0x0003 : {'low':0x0005, 'high':0x0002} <- d, e<br/>\n",
    "0x0004 : {'low':0x0001, 'high':0x0002} <- f<br/>\n",
    "0x0005 : [10, 20, 30]\n",
    "<br/><br/>\n",
    "여기서 d, e 는 'low' 가 0x0005를 pointing하지만, f의 'low'는 여전히 0x0001을 pointing하고 있음이 중요하다. 출력 결과에서 d, e 와 f의 'high' 가 같은 리스트인데, 'low'는 다른 리스트인 이유가 이 메모리 맵에 보여지고 있다.\n",
    "\n",
    "</font>"
   ]
  },
  {
   "cell_type": "markdown",
   "metadata": {},
   "source": [
    "<h3>문제 7)</h3> \n",
    "<br/>\n",
    "사전 d = {'one':1, 'two':2, 'three':3, 'four':4, 'five':5}가 주어졌을 때 다음 요구사항에 맞는 코드를 제시하시오\n",
    "<br/>\n",
    "- [참고]: d.keys(), d.values()를 통해 리스트를 얻어낸 후 리스트가 지니고 있는 sort(cmp=None, key=None, reverse=False)함수를 활용하시오.\n",
    "- 1) 키의 알파벳 오름차순 순서대로 튜플 (키, 값)을 차례대로 출력하시오.\n",
    "- 2) 키의 알파벳 내림차순 순서대로 튜플 (키, 값)을 차례대로 출력하시오.\n",
    "- 3) 값의 오름차순 순서대로 튜플 (키, 값)을 차례대로 출력하시오.\n",
    "- 4) 값의 내림차순 순서대로 튜플 (키, 값)을 차례대로 출력하시오."
   ]
  },
  {
   "cell_type": "code",
   "execution_count": 115,
   "metadata": {
    "collapsed": false
   },
   "outputs": [
    {
     "name": "stdout",
     "output_type": "stream",
     "text": [
      "('five', 5) ('four', 4) ('one', 1) ('three', 3) ('two', 2)\n",
      "('two', 2) ('three', 3) ('one', 1) ('four', 4) ('five', 5)\n",
      "('one', 1) ('two', 2) ('three', 3) ('four', 4) ('five', 5)\n",
      "('five', 5) ('four', 4) ('three', 3) ('two', 2) ('one', 1)\n"
     ]
    }
   ],
   "source": [
    "def printList(list):\n",
    "    for i in list:\n",
    "        print i,\n",
    "    print\n",
    "\n",
    "d = {'one':1, 'two':2, 'three':3, 'four':4, 'five':5}\n",
    "\n",
    "L_keys = d.keys()\n",
    "L_values = d.values()\n",
    "L_keys.sort()\n",
    "L_values.sort()\n",
    "\n",
    "printList([tup for key in L_keys for tup in d.items() if tup[0]==key])\n",
    "printList([tup for key in reversed(L_keys) for tup in d.items() if tup[0]==key])\n",
    "printList([tup for key in L_values for tup in d.items() if tup[1]==key])\n",
    "printList([tup for key in reversed(L_values) for tup in d.items() if tup[1]==key])"
   ]
  },
  {
   "cell_type": "markdown",
   "metadata": {},
   "source": [
    "<font color=blue>\n",
    "문제의 의도를 잘 모르겠지만, 일단 문제에 나온 대로 keys, values를 얻고 해당 리스트를 sorting한 다음 리스트 내포로 문제에서 요구한 튜플의 리스트를 출력해 보았다. 내림차순을 얻는 방법은 오름차순을 reverse하면 간단히 얻을 수 있다. sort(), reverse() 는 각각 리턴값이 없고 해당 메소드를 호출한 객체에 대해 정렬이나 역순을 수행하지만, sorted() 나 reversed()는 해당하는 리스트는 가만히 두고, 새 리스트에 정렬이나 역순을 수행한 다음 이 새 리스트를 반환해준다. 따라서 위 식 처럼 리스트 내포 식 내부에 써넣을 수가 있다. 물론 sorted(d.keys()) 까지 활용하면 더 짧아지겠지만... 문제의 의도를 파악하지 못해서, 일단 문제에 쓰여 있는 대로 진행했다.\n",
    "</font>"
   ]
  },
  {
   "cell_type": "code",
   "execution_count": null,
   "metadata": {
    "collapsed": true
   },
   "outputs": [],
   "source": []
  },
  {
   "cell_type": "code",
   "execution_count": null,
   "metadata": {
    "collapsed": true
   },
   "outputs": [],
   "source": []
  },
  {
   "cell_type": "code",
   "execution_count": null,
   "metadata": {
    "collapsed": true
   },
   "outputs": [],
   "source": []
  },
  {
   "cell_type": "code",
   "execution_count": null,
   "metadata": {
    "collapsed": true
   },
   "outputs": [],
   "source": []
  },
  {
   "cell_type": "code",
   "execution_count": null,
   "metadata": {
    "collapsed": true
   },
   "outputs": [],
   "source": []
  },
  {
   "cell_type": "code",
   "execution_count": null,
   "metadata": {
    "collapsed": true
   },
   "outputs": [],
   "source": []
  }
 ],
 "metadata": {
  "anaconda-cloud": {},
  "kernelspec": {
   "display_name": "Python [default]",
   "language": "python",
   "name": "python2"
  },
  "language_info": {
   "codemirror_mode": {
    "name": "ipython",
    "version": 2
   },
   "file_extension": ".py",
   "mimetype": "text/x-python",
   "name": "python",
   "nbconvert_exporter": "python",
   "pygments_lexer": "ipython2",
   "version": "2.7.12"
  }
 },
 "nbformat": 4,
 "nbformat_minor": 1
}
