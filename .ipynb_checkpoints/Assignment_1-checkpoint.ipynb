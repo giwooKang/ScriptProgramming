{
 "cells": [
  {
   "cell_type": "markdown",
   "metadata": {},
   "source": [
    "<h1>Assignment 1</h1>\n",
    "<h3>한국기술교육대 컴퓨터공학부 \n",
    "<br/>스크립트프로그래밍 1분반 \n",
    "<br/>2010136001 강기우</h3>"
   ]
  },
  {
   "cell_type": "markdown",
   "metadata": {},
   "source": [
    "<h3>문제 1)</h3> \n",
    "<br/>\n",
    "a=\"Hello Python\" 문자열을 Slicing과 연결 연산자 (+)를 사용하여 \"Python Hello\"로 변경하시오.\n",
    "<br/>\n",
    "- [주의] a 변수 자체에 \"Python Hello\" 문자열이 저장되어야 함\n"
   ]
  },
  {
   "cell_type": "code",
   "execution_count": 1,
   "metadata": {
    "collapsed": false
   },
   "outputs": [
    {
     "name": "stdout",
     "output_type": "stream",
     "text": [
      "Python Hello\n"
     ]
    }
   ],
   "source": [
    "a = \"Hello Python\"\n",
    "a = a[6:12] + a[5:6] + a[0:5]\n",
    "print a"
   ]
  },
  {
   "cell_type": "markdown",
   "metadata": {},
   "source": [
    "<font color=blue>Slicing 과 + 연산자만을 이용해 Python Hello를 만들기 위해서, 3개의 Slicing을 이용하였다. 원본 문자열의 6번째 문자부터 12번째 문자까지를 지정하여 부분 문자열을 만드는 구문이 a[6:12]이다. a[5:6]은 공백 하나를 추가하기 위한 것이고, a[0:5]는 원본 문자열의 앞 5 글자를 만든다. </font>"
   ]
  },
  {
   "cell_type": "markdown",
   "metadata": {},
   "source": [
    "<h3>문제 2)</h3> \n",
    "<br/>\n",
    "b=\"Hello Python World\" 문자열을 Slicing과 연결 연산자 (+)를 사용하여 \"World Python Hello\"로 변경하시오.\n",
    "<br/>\n",
    "- [주의] b 변수 자체에 \"Python Hello\" 문자열이 저장되어야 함\n"
   ]
  },
  {
   "cell_type": "code",
   "execution_count": 2,
   "metadata": {
    "collapsed": false
   },
   "outputs": [
    {
     "name": "stdout",
     "output_type": "stream",
     "text": [
      "World Python Hello\n"
     ]
    }
   ],
   "source": [
    "b = \"Hello Python World\"\n",
    "b = b[13:18] + b[12:13] + b[6:12] + b[5:6] + b[0:5]\n",
    "print b"
   ]
  },
  {
   "cell_type": "markdown",
   "metadata": {},
   "source": [
    "<font color=blue>\n",
    "1번 문제와 같은 방법으로 한다. 문자열을 Slicing과 + 연산자만을 이용해서 만들기 위해 공백도 Slicing으로 가져다가 사용하였다.\n",
    "</font>"
   ]
  },
  {
   "cell_type": "markdown",
   "metadata": {},
   "source": [
    "<h3>문제 3)</h3> \n",
    "<br/>\n",
    "c=\"Hello\"를 \"olleH\"로 변경하시오\n",
    "<br/>\n",
    "- [주의] c 변수 자체에 \"olleH\" 문자열이 저장되어야 함\n"
   ]
  },
  {
   "cell_type": "code",
   "execution_count": 3,
   "metadata": {
    "collapsed": false
   },
   "outputs": [
    {
     "name": "stdout",
     "output_type": "stream",
     "text": [
      "olleH\n"
     ]
    }
   ],
   "source": [
    "c = \"Hello\"\n",
    "c = c[::-1]\n",
    "print c"
   ]
  },
  {
   "cell_type": "markdown",
   "metadata": {},
   "source": [
    "<font color=blue>\n",
    "파이썬에서는 문자열도 문자의 리스트로써 표시한다. 그러므로 list indexing을 지정하여 문자열에서 임의의 범위 문자를 추출하거나(Slicing) 일정 간격의 문자를 갖거나, 순서를 바꾸거나 하는 연산을 쉽게 할 수 있다. 위 문제에서 [::-1]은 리스트와 같이 해석하면, step을 -1로 생성하여 max index에서 min index까지 -1씩 step한 결과를 출력하라는 뜻이 된다. 따라서 출력 결과, 문자열은 그 순서가 거꾸로 된다.\n",
    "</font>"
   ]
  },
  {
   "cell_type": "markdown",
   "metadata": {},
   "source": [
    "<h3>문제 4)</h3> \n",
    "<br/>\n",
    "s=\"python\"에 대해 다음 문제를 풀어보시오.\n",
    "<br/>\n",
    " 1. s[0], s[0][0], s[0][0][0]은 각각 어떤 값이 나오는지 확인하고 그 이유를 나름대로 설명해 보시오.\n",
    " 2. s[-100], s[100]은 값이 나오는지 에러가 나오는지 확인하고 그 결과에 대한 이유를 나름대로 설명해 보시오.\n",
    " 3. s[-100, 100]은 값이 나오는지 에러가 나오는지 확인하고 그 결과에 대한 이유를 나름대로 설명해 보시오.\n",
    " 4. s[1:-1]의 결과를 확인하고 그 결과에 대한 이유를 정확하게 설명하시오.\n",
    " 5. s[3:-3]의 결과를 확인하고 그 결과에 대한 이유를 정확하게 설명하시오.\n"
   ]
  },
  {
   "cell_type": "code",
   "execution_count": 4,
   "metadata": {
    "collapsed": false
   },
   "outputs": [
    {
     "name": "stdout",
     "output_type": "stream",
     "text": [
      "p p p\n"
     ]
    }
   ],
   "source": [
    "# 1번\n",
    "s = \"python\"\n",
    "print s[0], s[0][0], s[0][0][0]"
   ]
  },
  {
   "cell_type": "code",
   "execution_count": 5,
   "metadata": {
    "collapsed": false
   },
   "outputs": [
    {
     "ename": "IndexError",
     "evalue": "string index out of range",
     "output_type": "error",
     "traceback": [
      "\u001b[0;31m---------------------------------------------------------------------------\u001b[0m",
      "\u001b[0;31mIndexError\u001b[0m                                Traceback (most recent call last)",
      "\u001b[0;32m<ipython-input-5-c44a98cf1934>\u001b[0m in \u001b[0;36m<module>\u001b[0;34m()\u001b[0m\n\u001b[1;32m      1\u001b[0m \u001b[1;31m# 2번\u001b[0m\u001b[1;33m\u001b[0m\u001b[1;33m\u001b[0m\u001b[0m\n\u001b[0;32m----> 2\u001b[0;31m \u001b[1;32mprint\u001b[0m \u001b[0ms\u001b[0m\u001b[1;33m[\u001b[0m\u001b[1;33m-\u001b[0m\u001b[1;36m100\u001b[0m\u001b[1;33m]\u001b[0m\u001b[1;33m,\u001b[0m \u001b[0ms\u001b[0m\u001b[1;33m[\u001b[0m\u001b[1;36m100\u001b[0m\u001b[1;33m]\u001b[0m\u001b[1;33m\u001b[0m\u001b[0m\n\u001b[0m",
      "\u001b[0;31mIndexError\u001b[0m: string index out of range"
     ]
    }
   ],
   "source": [
    "# 2번\n",
    "print s[-100], s[100]"
   ]
  },
  {
   "cell_type": "code",
   "execution_count": 6,
   "metadata": {
    "collapsed": false
   },
   "outputs": [
    {
     "ename": "TypeError",
     "evalue": "string indices must be integers, not tuple",
     "output_type": "error",
     "traceback": [
      "\u001b[0;31m---------------------------------------------------------------------------\u001b[0m",
      "\u001b[0;31mTypeError\u001b[0m                                 Traceback (most recent call last)",
      "\u001b[0;32m<ipython-input-6-14d34b076508>\u001b[0m in \u001b[0;36m<module>\u001b[0;34m()\u001b[0m\n\u001b[1;32m      1\u001b[0m \u001b[1;31m# 3번\u001b[0m\u001b[1;33m\u001b[0m\u001b[1;33m\u001b[0m\u001b[0m\n\u001b[0;32m----> 2\u001b[0;31m \u001b[1;32mprint\u001b[0m \u001b[0ms\u001b[0m\u001b[1;33m[\u001b[0m\u001b[1;33m-\u001b[0m\u001b[1;36m100\u001b[0m\u001b[1;33m,\u001b[0m \u001b[1;36m100\u001b[0m\u001b[1;33m]\u001b[0m\u001b[1;33m\u001b[0m\u001b[0m\n\u001b[0m",
      "\u001b[0;31mTypeError\u001b[0m: string indices must be integers, not tuple"
     ]
    }
   ],
   "source": [
    "# 3번 \n",
    "print s[-100, 100]"
   ]
  },
  {
   "cell_type": "code",
   "execution_count": 7,
   "metadata": {
    "collapsed": false
   },
   "outputs": [
    {
     "name": "stdout",
     "output_type": "stream",
     "text": [
      "ytho\n"
     ]
    }
   ],
   "source": [
    "# 4번\n",
    "print s[1:-1]"
   ]
  },
  {
   "cell_type": "code",
   "execution_count": 8,
   "metadata": {
    "collapsed": false
   },
   "outputs": [
    {
     "name": "stdout",
     "output_type": "stream",
     "text": [
      "\n"
     ]
    }
   ],
   "source": [
    "# 5번\n",
    "print s[3:-3]"
   ]
  },
  {
   "cell_type": "markdown",
   "metadata": {},
   "source": [
    "<font color=blue>\n",
    "1번<br/>\n",
    "python의 근간이 된 c와 유사한 문법이라고 생각된다. c에서, index는 pointer의 확장이며 0번지는 언제나 해당 배열의 가장 처음 요소를 가리킨다. 따라서 s[0], s[0][0], s[0][0][0] 모두 구조가 어떻던지 가장 처음의 요소를 가리키는 pointer이므로 셋 모두 p가 출력된다.<br/><br/>\n",
    "2번<br/>\n",
    "에러 내용은 string index out of range이다. 즉, 범위를 벗어난 index를 이용해 참조를 시도했다는 에러이다. s는 현재 0번지부터 5번지까지 있는 문자의 배열이므로, -100과 100은 index로써 사용할 수 없는 것이다.<br/><br/>\n",
    "3번<br/>\n",
    "string indices must be integers, not tuple. 즉 string의 index로 쓰일 수 있는것은 반드시 정수 형태로, 튜플은 사용할 수 없다는 것이다. 여기서 index로 쓰인 값은 [-100, 100]로 튜플이다. 따라서 index로 쓰려면 튜플 대신 정수를 사용해야 한다.<br/><br/>\n",
    "4번<br/>\n",
    "list를 indexing 하기 위한 연산자는 [start : end : step] 의 꼴이다. start의 자리에는 시작 지점의 번지수(integer)가, end자리에는 end 지점의 번지수(integer)가 들어간다. step은 start와 end사이를 일정 간격마다 건너뛸것인지를 결정한다. 4번과 5번에서는 step는 사용하지 않았다. 문제에서는 s[1:-1]의 꼴로 사용하였는데, 특별히 end의 자리에 음수를 넣으면 max index에서 해당 값만큼 후퇴한 번지를 기점으로 잡는다. 즉 s[1:-1]은 Python 의 1번지(y) 에서부터 max index에서부터의 -1번지(n) 까지의 범위를 list indexing하라는 의미를 내포한다. 덧붙여서, list indexing은 end 번지를 포함하지 않는 범위가 된다. 따라서 출력 문자는 end 번지의 n을 포함하지 않는 ytho가 되는 것이다.<br/><br/>\n",
    "5번<br/>\n",
    "4번과 이론은 같으나, 여기서는 s[3:-3]으로 사용하였다. 즉 s=Python 에서, start 번지[h] 로부터 end 번지 [h] 까지의 범위를 list indexing한 것이다. 하지만 4번에서도 설명했듯이, list indexing은 end 번지 직전까지만을 indexing한다. 이는 실질적으로 s[3:3]과 다름이 없다. 이 경우 list indexing 은 indexing할 범위가 없으므로 아무것도 출력하지 않는다.\n",
    "</font>"
   ]
  },
  {
   "cell_type": "markdown",
   "metadata": {},
   "source": [
    "<h3>문제 5)</h3> \n",
    "<br/>\n",
    "for문을 활용하여 1부터 100사이의 홀수를 출력하시오."
   ]
  },
  {
   "cell_type": "code",
   "execution_count": 16,
   "metadata": {
    "collapsed": false
   },
   "outputs": [
    {
     "name": "stdout",
     "output_type": "stream",
     "text": [
      "1 3 5 7 9 11 13 15 17 19 21 23 25 27 29 31 33 35 37 39 41 43 45 47 49 51 53 55 57 59 61 63 65 67 69 71 73 75 77 79 81 83 85 87 89 91 93 95 97 99\n"
     ]
    }
   ],
   "source": [
    "for i in range(101):\n",
    "    if i%2==1:\n",
    "        print i,"
   ]
  },
  {
   "cell_type": "markdown",
   "metadata": {},
   "source": [
    "<font color=blue>\n",
    "for 문을 1부터 100까지 반복하도록 한 뒤, i를 나누어 나머지가 1이라면 홀수인 것이므로 i를 출력한다.\n",
    "</font>"
   ]
  },
  {
   "cell_type": "markdown",
   "metadata": {},
   "source": [
    "<h3>문제 6)</h3> \n",
    "<br/>\n",
    "while문을 활용하여 1부터 100사이의 짝수의 합을 계산하여 출력하시오."
   ]
  },
  {
   "cell_type": "code",
   "execution_count": 12,
   "metadata": {
    "collapsed": false
   },
   "outputs": [
    {
     "name": "stdout",
     "output_type": "stream",
     "text": [
      "2550\n"
     ]
    }
   ],
   "source": [
    "i = 1\n",
    "sum = 0\n",
    "while i<101:\n",
    "    if i%2==0:\n",
    "        sum += i\n",
    "    i+=1\n",
    "        \n",
    "print sum"
   ]
  },
  {
   "cell_type": "markdown",
   "metadata": {},
   "source": [
    "<font color=blue>\n",
    "while구문은 조건이 참일 때만 반복되는 구문이다. i가 101 보다 작은 경우가 조건이므로 i=100 일 때 까지만 반복이 진행된다. 만약 2로 나누어 나머지가 0이라면 짝수이므로 sum에 누적시킨다. 그리고 별도로 i값을 계속 증가시켜주어야만 i값이 101 이상이 되어 반복에서 빠져나올 수 있다. 빠져나온 뒤에, sum을 출력한다.\n",
    "</font>"
   ]
  },
  {
   "cell_type": "markdown",
   "metadata": {},
   "source": [
    "<h3>문제 7)</h3> \n",
    "<br/>\n",
    "사용자로 부터 임의의 정수를 입력받고, 해당 숫자를 역순으로 출력하는 프로그램을 작성하시오.\n",
    "<br/>\n",
    "[실행 예]\n",
    "\n",
    "    정수를 입력하세요: 3125\n",
    "    숫자 역순은 5213 입니다."
   ]
  },
  {
   "cell_type": "code",
   "execution_count": 16,
   "metadata": {
    "collapsed": false
   },
   "outputs": [
    {
     "name": "stdout",
     "output_type": "stream",
     "text": [
      "정수를 입력하세요: \n",
      "3125\n",
      "숫자 역순은 5213 입니다.\n"
     ]
    }
   ],
   "source": [
    "print \"정수를 입력하세요: \"\n",
    "number = input()\n",
    "print \"숫자 역순은\", str(number)[::-1], \"입니다.\""
   ]
  },
  {
   "cell_type": "markdown",
   "metadata": {},
   "source": [
    "<font color=blue>\n",
    "정수 입력의 경우 string 타입으로 취급되지 않아 list indexing을 사용할 수 없다. 이 경우 간단한 처리 방법은 int형을 string형으로 casting 하는 것이고, 이는 python 내장함수인 str을 통해 간단히 할 수 있다. 이 문제에서는 str을 통해 number를 string 타입으로 바꾼 뒤, list indexing을 적용하여 순서를 역으로 돌리는 방법을 사용하였다. \n",
    "</font>"
   ]
  },
  {
   "cell_type": "markdown",
   "metadata": {},
   "source": [
    "<h3>문제 8)</h3> \n",
    "<br/>\n",
    "사용자로 부터 정수를 입력받아서 1부터 그 사이에 존재하는 소수 (Prime number)를 출력하는 파이썬 프로그램을 작성하시오."
   ]
  },
  {
   "cell_type": "code",
   "execution_count": 18,
   "metadata": {
    "collapsed": false
   },
   "outputs": [
    {
     "name": "stdout",
     "output_type": "stream",
     "text": [
      "정수를 입력하세요: \n",
      "100\n",
      "1 2 3 5 7 11 13 17 19 23 29 31 37 41 43 47 53 59 61 67 71 73 79 83 89 97\n"
     ]
    }
   ],
   "source": [
    "print \"정수를 입력하세요: \"\n",
    "num = input()\n",
    "\n",
    "for i in range(1, num):\n",
    "    flag = True\n",
    "    for j in range(2, int(round(pow(i, 0.5)))+1):\n",
    "        if i % j == 0:\n",
    "            flag = False\n",
    "            break;\n",
    "    if flag:\n",
    "        print i,"
   ]
  },
  {
   "cell_type": "markdown",
   "metadata": {},
   "source": [
    "<font color=blue>\n",
    "먼저 입력된 정수까지 반복문(i)를 진행하고, flag를 True로 둔다. 그리고 내부 반복문(j) 에서는 2부터 root(i)까지를 반복으로 설정한다. 만약 2부터 root(i)까지의 수 중 나누어지는 수가 없다면 그 수 i는 소수이다. 이는 1부터 자기자신까지 나누어 2가지 수로만 나누어지는 경우를 찾는 것 보다는 효율적인 알고리즘이다. 다만 입력수 num이 커지면 커질수록 비효율적인 알고리즘이 된다. num이 상당히 큰 수일 경우에는 에라토스테네스의 체 알고리즘을 사용하는 것이 효율이 좋지만, 이 경우는 공간복잡도가 떨어진다. 이 문제에서는 구현하기 쉬우면서도 적당히 효율적인 방법을 택하였다.\n",
    "</font>"
   ]
  },
  {
   "cell_type": "markdown",
   "metadata": {},
   "source": [
    "<h3>문제 9 - Project Euler 1번)</h3> \n",
    "<br/>\n",
    "10보다 작은 자연수 중에서 3 또는 5의 배수는 3, 5, 6, 9 이고, 이것을 모두 더하면 23입니다.\n",
    "\n",
    "1000보다 작은 자연수 중에서 3 또는 5의 배수를 모두 더하면 얼마일까요?"
   ]
  },
  {
   "cell_type": "code",
   "execution_count": 19,
   "metadata": {
    "collapsed": false
   },
   "outputs": [
    {
     "name": "stdout",
     "output_type": "stream",
     "text": [
      "233168\n"
     ]
    }
   ],
   "source": [
    "L = range(1000)\n",
    "a = L[::3]  # range(3, 1000, 3) 과 동일\n",
    "b = L[::5]\n",
    "c = 0\n",
    "for i in set(a+b):\n",
    "    c+=i\n",
    "print c"
   ]
  },
  {
   "cell_type": "markdown",
   "metadata": {},
   "source": [
    "<font color=blue>\n",
    "먼저 L에 범위 1000까지의 리스트를 생성한다. a에는 3 step, b에는 5 step 을 적용한 List를 생성한다. 이러면 a에는 3의 배수, b에는 5의 배수만이 들어가게 된다. 이후 for문을 진행하는데, 위 구문에서 set 은 두 리스트의 집합을 반환한다. 집합은 중복을 허용하지 않으며 순서가 없다. 따라서 set(a+b)에는 중복을 허용하지 않는 3 또는 5의 배수만이 들어가게 된다. for문을 이용하여 해당 집합 내의 모든 요소에 순차적으로 접근한다. 즉 set(a+b)의 각 요소 i에 대해, c에 값을 누적한다. 결과는 다음과 같다.\n",
    "</font>"
   ]
  },
  {
   "cell_type": "markdown",
   "metadata": {},
   "source": [
    "<h3>문제 10 - Project Euler 2번)</h3> \n",
    "<br/>\n",
    "피보나치 수열의 각 항은 바로 앞의 항 두 개를 더한 것이 됩니다. 1과 2로 시작하는 경우 이 수열은 아래와 같습니다.\n",
    "\n",
    "1, 2, 3, 5, 8, 13, 21, 34, 55, 89, ...\n",
    "\n",
    "짝수이면서 4백만 이하인 모든 항을 더하면 얼마가 됩니까?"
   ]
  },
  {
   "cell_type": "code",
   "execution_count": 20,
   "metadata": {
    "collapsed": false
   },
   "outputs": [
    {
     "name": "stdout",
     "output_type": "stream",
     "text": [
      "4613732\n"
     ]
    }
   ],
   "source": [
    "def fibonacci(a, b):\n",
    "    c = a + b\n",
    "    if c > 4000000:\n",
    "        return 0\n",
    "    else:\n",
    "        return (c % 2 == 0) * c + fibonacci(b, c)\n",
    "print fibonacci(0, 1)"
   ]
  },
  {
   "cell_type": "markdown",
   "metadata": {},
   "source": [
    "<font color=blue>\n",
    "재귀함수를 정의한다. c 는 a, b를 더한 값이고, 피보나치 수열에서의 다음 항이 된다. 현재 항 c가 4백만보다 크다면, 0을 리턴하여 재귀에서 벗어난다. 이제 c가 4백만보다 작고, 짝수인 경우에만 누적하도록 하는 return 구문을 작성한다. python에서의 특징인, True=1, False=0 임을 이용하여 짝수를 거르는 구문을 단순화하였다. 결과적으로 4백만 보다 작은 모든 항이 누적된다.\n",
    "</font>"
   ]
  },
  {
   "cell_type": "markdown",
   "metadata": {},
   "source": [
    "<h3>문제 11 - Project Euler 3번)</h3> \n",
    "<br/>\n",
    "어떤 수를 소수의 곱으로만 나타내는 것을 소인수분해라 하고, 이 소수들을 그 수의 소인수라고 합니다. 예를 들면 13195의 소인수는 5, 7, 13, 29 입니다.<br/><br/>\n",
    "600851475143의 소인수 중에서 가장 큰 수를 구하세요."
   ]
  },
  {
   "cell_type": "code",
   "execution_count": 21,
   "metadata": {
    "collapsed": false
   },
   "outputs": [
    {
     "name": "stdout",
     "output_type": "stream",
     "text": [
      "6857\n"
     ]
    }
   ],
   "source": [
    "def factorization(num):\n",
    "    count = pow(num, 0.5) + 1\n",
    "    i = 2\n",
    "    while i < count:\n",
    "        if num%i==0:\n",
    "            num = num/i\n",
    "            return factorization(num)\n",
    "        i += 1\n",
    "    return num\n",
    "\n",
    "n = 600851475143\n",
    "print factorization(n)"
   ]
  },
  {
   "cell_type": "markdown",
   "metadata": {},
   "source": [
    "<font color=blue>\n",
    "소수 문제의 경우 보통 일정 크기 이상을 넘어가는 수에 대해서는 인접 값 사이의 거리가 매우 넓어 소수 배열을 정적으로 할당한 후 해당 배열을 이용해 문제를 푸는 것이 효율적일 때가 많다. 하지만 이 문제에서는 간단하게 재귀함수 + 반복문으로 해결하였다. <br/><br/>\n",
    "소수임을 판별하는 여러가지 방법이 있는데 그 중 하나는 2부터 root(n)까지 나누어 보는 것이다.(문제 8번에서도 사용하였다.) 2 ~ root(n) 사이에 반복에서, 만약 나누어지는 값이 있다면 그 수는 n의 소인수라는 것을 알 수 있다(2부터 순차적으로 나누어 나가기 때문에 나누어진 값은 반드시 소수가 된다). 만약 나눠지지 않는다면, 그 수는 1과 n을 소인수로 갖는다. 즉 n은 소수이다.<br/><br/>\n",
    "이 알고리즘은 1과 자기 자신만을 소인수로 갖는, 600851475143 의 가장 큰 소인수를 찾는 알고리즘이다. 첫 반복은 2 ~ root(n)에서 시작한다. 만약 나누어지는 수가 발견된다면, n 을 i로 나누고 그 몫을 다시 n으로 재설정한다. 만약 i가 나누어진다면 i는 n의 소인수라는 뜻이기 때문이다. 또 이에 대해 2 ~ root(n) 을 반복한다. 이를 반복하면 root(n)까지 나누어지지 않는 순간이 온다. 이 때의 마지막 인수 n은 1과 n만으로 나누어지는, 가장 큰 소인수일것이다. 이 값 n을 리턴한다.\n",
    "</font>"
   ]
  },
  {
   "cell_type": "markdown",
   "metadata": {},
   "source": [
    "<h2> 소감 </h2>\n",
    "\n",
    "Assignment1에 제시된 기본 문제들 보다는 project euler의 문제가 더 취향에 맞습니다. 문제 자체가 간단한 내용의 알고리즘인듯 하면서도 보다 더 효율적으로 생각하게끔 유도하는 방식으로 되어 있어서 흥미롭습니다. 개인적으로는 기본 문법에 관련된 문제보다는 euler의 문제가 더 많았다면 좋았을 법 하지만 2학년 과목이니만큼 기본도 중요할 테니 어쩔 수 없을 테죠... 확실히 python은 여러가지 부분에서 매력적인 언어인 것 같습니다."
   ]
  },
  {
   "cell_type": "code",
   "execution_count": null,
   "metadata": {
    "collapsed": true
   },
   "outputs": [],
   "source": []
  }
 ],
 "metadata": {
  "anaconda-cloud": {},
  "kernelspec": {
   "display_name": "Python [default]",
   "language": "python",
   "name": "python2"
  },
  "language_info": {
   "codemirror_mode": {
    "name": "ipython",
    "version": 2
   },
   "file_extension": ".py",
   "mimetype": "text/x-python",
   "name": "python",
   "nbconvert_exporter": "python",
   "pygments_lexer": "ipython2",
   "version": "2.7.12"
  }
 },
 "nbformat": 4,
 "nbformat_minor": 1
}
