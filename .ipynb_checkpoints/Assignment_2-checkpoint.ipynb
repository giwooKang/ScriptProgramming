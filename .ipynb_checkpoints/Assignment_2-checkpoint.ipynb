{
 "cells": [
  {
   "cell_type": "markdown",
   "metadata": {},
   "source": [
    "<h1>Assignment 2</h1>\n",
    "<h3>한국기술교육대 컴퓨터공학부 \n",
    "<br/>스크립트프로그래밍 1분반 \n",
    "<br/>2010136001 강기우</h3>"
   ]
  },
  {
   "cell_type": "markdown",
   "metadata": {},
   "source": [
    "<h3>문제 1)</h3> \n",
    "<br/>\n",
    "다음 6 개의 Expression에 대해 Evaluation 결과 값을 출력하고, 해당 결과가 나온 이유에 대해 설명하시오\n",
    "<br/>\n",
    "- 1 and 2 and 3 and 4\n",
    "- 1 or 2 or 3 or 4\n",
    "- 1 and 2 or 3 and 4\n",
    "- (1 and 2) or (3 and 4)\n",
    "- 1 or 2 and 3 or 4\n",
    "- (1 or 2) and (3 or 4)"
   ]
  },
  {
   "cell_type": "code",
   "execution_count": 2,
   "metadata": {
    "collapsed": false
   },
   "outputs": [
    {
     "name": "stdout",
     "output_type": "stream",
     "text": [
      "4\n",
      "1\n",
      "2\n",
      "2\n",
      "1\n",
      "3\n"
     ]
    }
   ],
   "source": [
    "print 1 and 2 and 3 and 4\n",
    "print 1 or 2 or 3 or 4\n",
    "print 1 and 2 or 3 and 4\n",
    "print (1 and 2) or (3 and 4)\n",
    "print 1 or 2 and 3 or 4\n",
    "print (1 or 2) and (3 or 4)"
   ]
  },
  {
   "cell_type": "markdown",
   "metadata": {},
   "source": [
    "<font color=blue>\n",
    "먼저 파이썬에서의 and, or 연산에 대해 정리한다. x and y 에 대해서, 이 논리식의 진위여부를 왼쪽에서 오른쪽으로 읽으며 판단하기 위한 경우의 수는 두 가지다. \n",
    "<br/><br/>\n",
    "1. x가 거짓인 경우, 이 식의 진위여부는 x만으로 거짓임을 판단할 수 있다. 그러므로 x를 곧장 리턴한다.\n",
    "<br/>\n",
    "2. x가 참인 경우, 이 식의 진위여부는 y에 의존한다. 즉 y가 거짓이면 거짓, 참이면 참이다. 이 경우, y를 리턴한다.\n",
    "<br/><br/>\n",
    "반면에 or 연산의 경우, and 연산과는 반대다.\n",
    "<br/><br/>\n",
    "1. x가 거짓인 경우, 이 식의 진위여부는 y에 의존한다. 따라서 y를 리턴한다.\n",
    "<br/>\n",
    "2. x가 참인 경우, 이 식의 진위여부는 x만 확인하는 것으로 충분하다. 그러므로 x를 리턴한다.\n",
    "<br/><br/>\n",
    "위 식을 해석하기 위해, 두 가지 개념이 더 필요하다. 먼저, 숫자의 경우 참거짓 판별은 0 에서 false, 그 외 true이다. 그리고 and, or 연산은 and 연산이 우선순위가 높다. 따라서 괄호() 가 없는 평문에서의 계산은 먼저 and연산을 모두 수행한 후에 or 연산이 수행된다. 이제 위 식을 계산할 수 있다.\n",
    "<br/><br/>\n",
    "\n",
    "<font color=black>\n",
    "1 and 2 and 3 and 4</font><br/>\n",
    " 왼쪽에서부터 식을 순서대로 읽으며 계산한다. 1 and 2 에서 1 이 참이므로 2를 리턴. 2 and 3 에서 2가 참이므로 3을 리턴. 3 and 4 에서 3 이 참이므로 4를 리턴. 따라서 출력은 4가 된다.\n",
    "<br/><br/>\n",
    "\n",
    "<font color=black>\n",
    "1 or 2 or 3 or 4</font><br/>\n",
    " 역시 왼쪽에서부터 읽는다. 1 or 2 에서 1이 참이므로 뒤를 확인할 필요 없이 1을 리턴. 1 or 3 에서, 역시 1을 리턴. 1 or 4 에서, 역시 1을 리턴한다. 따라서 출력은 1이 된다.\n",
    "<br/><br/>\n",
    "\n",
    "<font color=black>\n",
    "1 and 2 or 3 and 4</font><br/>\n",
    " and 연산이 or 연산보다 우선순위가 높기에 and 연산을 먼저 계산한다. 1 and 2 에서 2를 리턴. 3 and 4에서 4를 리턴한다. 이제 2 or 4 에서 2를 리턴하게 되므로 출력은 2가 된다.\n",
    "<br/><br/>\n",
    "\n",
    "<font color=black>\n",
    "(1 and 2) or (3 and 4)</font><br/>\n",
    " 괄호가 있으므로 괄호를 먼저 계산한다. 이전 수식과 비교했을 때 괄호가 있거나 없거나 계산 순서가 동일하므로, 결과도 동일하다. 출력은 2가 된다.\n",
    "<br/><br/>\n",
    "\n",
    "<font color=black>\n",
    "1 or 2 and 3 or 4</font><br/>\n",
    " 역시 and 연산을 먼저 계산하고, or 연산을 이후에 계산한다. 2 and 3 에서 3을 리턴하여, 전체 수식은 1 or 3 or 4 가 된다. 2번에서와 같이, 이 수식의 결과값은 1이다.\n",
    "<br/><br/>\n",
    "\n",
    "\n",
    "<font color=black>\n",
    "(1 or 2) and (3 or 4)</font><br/>\n",
    " 괄호가 있으므로 괄호를 먼저 계산해야 한다. x or y 에서 x가 참일 경우 리턴값이 x임을 이용해 풀면, 1 and 3 이다. 이 때 출력값은 3이 된다.\n",
    "</font>"
   ]
  },
  {
   "cell_type": "code",
   "execution_count": null,
   "metadata": {
    "collapsed": true
   },
   "outputs": [],
   "source": []
  }
 ],
 "metadata": {
  "anaconda-cloud": {},
  "kernelspec": {
   "display_name": "Python [default]",
   "language": "python",
   "name": "python2"
  },
  "language_info": {
   "codemirror_mode": {
    "name": "ipython",
    "version": 2
   },
   "file_extension": ".py",
   "mimetype": "text/x-python",
   "name": "python",
   "nbconvert_exporter": "python",
   "pygments_lexer": "ipython2",
   "version": "2.7.12"
  }
 },
 "nbformat": 4,
 "nbformat_minor": 1
}
