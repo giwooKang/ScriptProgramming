{
 "cells": [
  {
   "cell_type": "markdown",
   "metadata": {
    "collapsed": true
   },
   "source": [
    "2016년도 2학기 스크립트프로그래밍 1분반<br/>\n",
    "\n",
    "**project_euler** 문제풀이\n",
    "\n",
    "한국기술교육대학교 컴퓨터공학부<br/>\n",
    "2010136001 4학년 강기우\n",
    "\n",
    "=======================================================================\n",
    "\n",
    "### Problem 6\n",
    "\n",
    "1부터 10까지 자연수를 각각 제곱해 더하면 다음과 같습니다 (제곱의 합).\n",
    "\n",
    "12 + 22 + ... + 102 = 385\n",
    "1부터 10을 먼저 더한 다음에 그 결과를 제곱하면 다음과 같습니다 (합의 제곱).\n",
    "\n",
    "(1 + 2 + ... + 10)2 = 552 = 3025\n",
    "따라서 1부터 10까지 자연수에 대해 \"합의 제곱\"과 \"제곱의 합\" 의 차이는 3025 - 385 = 2640 이 됩니다.\n",
    "\n",
    "그러면 1부터 100까지 자연수에 대해 \"합의 제곱\"과 \"제곱의 합\"의 차이는 얼마입니까?"
   ]
  },
  {
   "cell_type": "code",
   "execution_count": 1,
   "metadata": {
    "collapsed": false
   },
   "outputs": [
    {
     "name": "stdout",
     "output_type": "stream",
     "text": [
      "25164150\n"
     ]
    }
   ],
   "source": [
    "zhsum = 0\n",
    "hzsum = 0\n",
    "for i in range(1, 101):\n",
    "    zhsum += i*i\n",
    "    hzsum += i\n",
    "    \n",
    "print abs(hzsum * hzsum - zhsum)"
   ]
  },
  {
   "cell_type": "markdown",
   "metadata": {},
   "source": [
    "6번 문제는 너무 쉬워서 별다른 설명이 필요치 않다. 문제 내용 그대로, 제곱의 합을 1~100 을 반복하며 누적하고. 이 반복과 동시에 1~100의 합을 계산하여 반복문이 끝난 후 해당 합을 제곱하여 합의 제곱을 얻는다. 두 수의 차를 계산하면 답을 얻을 수 있다."
   ]
  }
 ],
 "metadata": {
  "anaconda-cloud": {},
  "kernelspec": {
   "display_name": "Python [default]",
   "language": "python",
   "name": "python2"
  },
  "language_info": {
   "codemirror_mode": {
    "name": "ipython",
    "version": 2
   },
   "file_extension": ".py",
   "mimetype": "text/x-python",
   "name": "python",
   "nbconvert_exporter": "python",
   "pygments_lexer": "ipython2",
   "version": "2.7.12"
  }
 },
 "nbformat": 4,
 "nbformat_minor": 0
}
