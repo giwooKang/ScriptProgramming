{
 "cells": [
  {
   "cell_type": "markdown",
   "metadata": {},
   "source": [
    "2016년도 2학기 스크립트프로그래밍 1분반<br/>\n",
    "\n",
    "**project_euler** 문제풀이\n",
    "\n",
    "한국기술교육대학교 컴퓨터공학부<br/>\n",
    "2010136001 4학년 강기우\n",
    "\n",
    "=======================================================================\n",
    "\n",
    "### Problem 9\n",
    "\n",
    "세 자연수 a, b, c 가 피타고라스 정리 a^2 + b^2 = c^2 를 만족하면 피타고라스 수라고 부릅니다 (여기서 a < b < c ).\n",
    "예를 들면 3^2 + 4^2 = 9 + 16 = 25 = 52이므로 3, 4, 5는 피타고라스 수입니다.\n",
    "\n",
    "a + b + c = 1000 인 피타고라스 수 a, b, c는 한 가지 뿐입니다. 이 때, a × b × c 는 얼마입니까?"
   ]
  },
  {
   "cell_type": "code",
   "execution_count": 16,
   "metadata": {
    "collapsed": false
   },
   "outputs": [
    {
     "name": "stdout",
     "output_type": "stream",
     "text": [
      "31875000\n"
     ]
    }
   ],
   "source": [
    "def problem9():\n",
    "    for i in range(1, 333):\n",
    "        jmax = (1000.0-i)/2.0 + 0.5\n",
    "        for j in range(i+1, int(jmax)):\n",
    "            k = 1000-i-j\n",
    "            if pow(i, 2) + pow(j, 2) == pow(k, 2):\n",
    "                return i * j * k\n",
    "            \n",
    "print problem9()"
   ]
  },
  {
   "cell_type": "markdown",
   "metadata": {},
   "source": [
    "a+b+c = 1000 이고, a<b<c 임에서 여러 가지를 생각할 수 있다. a는 332보다 클 수 없으며, b는 a에 대해서 (1000-a)/2 - 1 보다 클 수 없다. c는 1000-a-b로 계산할 수 있다. 왜 그런지에 대한 증명은 생략한다. 이를 이용해 반복문을 구성하면 위와 같다. 해당 반복문을 i, j, k 로 설계하고, i^2+j^2=k^2 일 때 해당 값을 모두 곱하여 출력하면 결과를 얻을 수 있다."
   ]
  },
  {
   "cell_type": "code",
   "execution_count": null,
   "metadata": {
    "collapsed": true
   },
   "outputs": [],
   "source": []
  }
 ],
 "metadata": {
  "anaconda-cloud": {},
  "kernelspec": {
   "display_name": "Python [Root]",
   "language": "python",
   "name": "Python [Root]"
  },
  "language_info": {
   "codemirror_mode": {
    "name": "ipython",
    "version": 2
   },
   "file_extension": ".py",
   "mimetype": "text/x-python",
   "name": "python",
   "nbconvert_exporter": "python",
   "pygments_lexer": "ipython2",
   "version": "2.7.12"
  }
 },
 "nbformat": 4,
 "nbformat_minor": 0
}
