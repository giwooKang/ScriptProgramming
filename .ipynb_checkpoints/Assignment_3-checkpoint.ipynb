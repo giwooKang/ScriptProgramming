{
 "cells": [
  {
   "cell_type": "markdown",
   "metadata": {},
   "source": [
    "<h1>Assignment 3</h1>\n",
    "<h3>한국기술교육대 컴퓨터공학부 \n",
    "<br/>스크립트프로그래밍 1분반 \n",
    "<br/>2010136001 강기우</h3>"
   ]
  },
  {
   "cell_type": "markdown",
   "metadata": {},
   "source": [
    "<h3>문제 1)</h3> \n",
    "<br/>\n",
    "L=[1, 2, 3, 4, 5]일 때 다음 각 문장을 수행한 후의 결과를 보고 납득할 만한 이유를 설명하시오.\n",
    "<br/>\n",
    "\n",
    "- 1) <br/>\n",
    "    - L[1:3] = [100] <br/> print L\n",
    "- 2) \n",
    "    - L[1:3] = [(100)] <br/> print L\n",
    "- 3) \n",
    "    - L[1:3] = 100 <br/> print L\n",
    "- 4) \n",
    "    - L[1:3] = (100) <br/> print L\n",
    "- 5) \n",
    "    - L[1:3] = (100, 101, 102) <br/> print L\n",
    "- 6) \n",
    "    - L[1:3] = [100, 101, 102] <br/> print L\n",
    "- 7) \n",
    "    - L[1:3] = [(100, 101, 102)] <br/> print L\n",
    "- 8) \n",
    "    - L[1:3] = [[100, 101, 102]] <br/> print L"
   ]
  },
  {
   "cell_type": "code",
   "execution_count": 4,
   "metadata": {
    "collapsed": false
   },
   "outputs": [
    {
     "name": "stdout",
     "output_type": "stream",
     "text": [
      "[1, 100, 4, 5]\n"
     ]
    }
   ],
   "source": [
    "L = [1,2,3,4,5]\n",
    "L[1:3] = [100] \n",
    "print L"
   ]
  },
  {
   "cell_type": "markdown",
   "metadata": {},
   "source": [
    "<font color=blue>\n",
    "1)번 <br/>\n",
    "대입 연산이다. L[1:3], 즉 L의 1번지, 2번지에 해당하는 리스트를 [100] 리스트로 대체한다. 이 경우 [2, 3] 이 [100] 으로 대체되어 [1, 100, 4, 5] 가 된다.\n",
    "</font>"
   ]
  },
  {
   "cell_type": "code",
   "execution_count": 12,
   "metadata": {
    "collapsed": false
   },
   "outputs": [
    {
     "name": "stdout",
     "output_type": "stream",
     "text": [
      "[1, 100, 4, 5]\n"
     ]
    }
   ],
   "source": [
    "L = [1,2,3,4,5]\n",
    "L[1:3] = [(100)]\n",
    "print L"
   ]
  },
  {
   "cell_type": "markdown",
   "metadata": {},
   "source": [
    "<font color=blue>\n",
    "2)번 <br/>\n",
    "100을 괄호로 감싼 것 뿐, 1번과 똑같은 뜻이다. 만약 튜플을 넣으려 했다면, (100,) 와 같이 써 튜플임을 명시해야 한다.\n",
    "</font>"
   ]
  },
  {
   "cell_type": "code",
   "execution_count": 13,
   "metadata": {
    "collapsed": false
   },
   "outputs": [
    {
     "ename": "TypeError",
     "evalue": "can only assign an iterable",
     "output_type": "error",
     "traceback": [
      "\u001b[0;31m---------------------------------------------------------------------------\u001b[0m",
      "\u001b[0;31mTypeError\u001b[0m                                 Traceback (most recent call last)",
      "\u001b[0;32m<ipython-input-13-2190a12ebf8f>\u001b[0m in \u001b[0;36m<module>\u001b[0;34m()\u001b[0m\n\u001b[1;32m      1\u001b[0m \u001b[0mL\u001b[0m \u001b[1;33m=\u001b[0m \u001b[1;33m[\u001b[0m\u001b[1;36m1\u001b[0m\u001b[1;33m,\u001b[0m\u001b[1;36m2\u001b[0m\u001b[1;33m,\u001b[0m\u001b[1;36m3\u001b[0m\u001b[1;33m,\u001b[0m\u001b[1;36m4\u001b[0m\u001b[1;33m,\u001b[0m\u001b[1;36m5\u001b[0m\u001b[1;33m]\u001b[0m\u001b[1;33m\u001b[0m\u001b[0m\n\u001b[0;32m----> 2\u001b[0;31m \u001b[0mL\u001b[0m\u001b[1;33m[\u001b[0m\u001b[1;36m1\u001b[0m\u001b[1;33m:\u001b[0m\u001b[1;36m3\u001b[0m\u001b[1;33m]\u001b[0m \u001b[1;33m=\u001b[0m \u001b[1;36m100\u001b[0m\u001b[1;33m\u001b[0m\u001b[0m\n\u001b[0m\u001b[1;32m      3\u001b[0m \u001b[1;32mprint\u001b[0m \u001b[0mL\u001b[0m\u001b[1;33m\u001b[0m\u001b[0m\n",
      "\u001b[0;31mTypeError\u001b[0m: can only assign an iterable"
     ]
    }
   ],
   "source": [
    "L = [1,2,3,4,5]\n",
    "L[1:3] = 100\n",
    "print L"
   ]
  },
  {
   "cell_type": "markdown",
   "metadata": {},
   "source": [
    "<font color=blue>\n",
    "3)번 <br/>\n",
    "1번에서 L[1:3]이 리스트의 1,2번지에 값을 대입하는 것이라고 설명했다. 이 문제의 2행 역시 대입 연산이다. 그러나 2행의 좌항은 iterable, 즉 순서를 갖는 항인 반면, 2행의 우항은 단순한 정수이다. 좌우항의 타입이 달라 타입 에러가 나는 경우이다.\n",
    "</font>"
   ]
  },
  {
   "cell_type": "code",
   "execution_count": 21,
   "metadata": {
    "collapsed": false
   },
   "outputs": [
    {
     "ename": "TypeError",
     "evalue": "can only assign an iterable",
     "output_type": "error",
     "traceback": [
      "\u001b[0;31m---------------------------------------------------------------------------\u001b[0m",
      "\u001b[0;31mTypeError\u001b[0m                                 Traceback (most recent call last)",
      "\u001b[0;32m<ipython-input-21-c5aa4b5b4c59>\u001b[0m in \u001b[0;36m<module>\u001b[0;34m()\u001b[0m\n\u001b[1;32m      1\u001b[0m \u001b[0mL\u001b[0m \u001b[1;33m=\u001b[0m \u001b[1;33m[\u001b[0m\u001b[1;36m1\u001b[0m\u001b[1;33m,\u001b[0m\u001b[1;36m2\u001b[0m\u001b[1;33m,\u001b[0m\u001b[1;36m3\u001b[0m\u001b[1;33m,\u001b[0m\u001b[1;36m4\u001b[0m\u001b[1;33m,\u001b[0m\u001b[1;36m5\u001b[0m\u001b[1;33m]\u001b[0m\u001b[1;33m\u001b[0m\u001b[0m\n\u001b[0;32m----> 2\u001b[0;31m \u001b[0mL\u001b[0m\u001b[1;33m[\u001b[0m\u001b[1;36m1\u001b[0m\u001b[1;33m:\u001b[0m\u001b[1;36m3\u001b[0m\u001b[1;33m]\u001b[0m \u001b[1;33m=\u001b[0m \u001b[1;33m(\u001b[0m\u001b[1;36m100\u001b[0m\u001b[1;33m)\u001b[0m\u001b[1;33m\u001b[0m\u001b[0m\n\u001b[0m\u001b[1;32m      3\u001b[0m \u001b[1;32mprint\u001b[0m \u001b[0mL\u001b[0m\u001b[1;33m\u001b[0m\u001b[0m\n",
      "\u001b[0;31mTypeError\u001b[0m: can only assign an iterable"
     ]
    }
   ],
   "source": [
    "L = [1,2,3,4,5]\n",
    "L[1:3] = (100)\n",
    "print L"
   ]
  },
  {
   "cell_type": "markdown",
   "metadata": {},
   "source": [
    "<font color=blue>\n",
    "4)번 <br/>\n",
    "2번에서도 설명했듯, 튜플로 쓰고싶다면 (100,)와 같이 명시하면 된다. 이렇게 쓰는 경우에는 100 으로 쓴 것과 같으므로 3번과 같은 코드가 된다. 결과 또한 3번에 설명한 그대로이다. 만약 튜플로 썼다면, 튜플은 iterable하므로, 에러 없이 1번처럼 동작할것이다.\n",
    "</font>"
   ]
  },
  {
   "cell_type": "code",
   "execution_count": 15,
   "metadata": {
    "collapsed": false
   },
   "outputs": [
    {
     "name": "stdout",
     "output_type": "stream",
     "text": [
      "[1, 100, 101, 102, 4, 5]\n"
     ]
    }
   ],
   "source": [
    "L = [1,2,3,4,5]\n",
    "L[1:3] = (100, 101, 102)\n",
    "print L"
   ]
  },
  {
   "cell_type": "markdown",
   "metadata": {},
   "source": [
    "<font color=blue>\n",
    "5)번 <br/>\n",
    "대입 연산이고, L의 1항, 2항인 [2, 3] 을 (100, 101, 102)로 대체하는 구문이다. 튜플은 iterable하므로, 리스트에 대입이 가능하다. 따라서 3, 4번과 같은 오류 없이 정상적으로 대입된다.\n",
    "</font>"
   ]
  },
  {
   "cell_type": "code",
   "execution_count": 16,
   "metadata": {
    "collapsed": false
   },
   "outputs": [
    {
     "name": "stdout",
     "output_type": "stream",
     "text": [
      "[1, 100, 101, 102, 4, 5]\n"
     ]
    }
   ],
   "source": [
    "L = [1,2,3,4,5]\n",
    "L[1:3] = [100, 101, 102]\n",
    "print L"
   ]
  },
  {
   "cell_type": "markdown",
   "metadata": {},
   "source": [
    "<font color=blue>\n",
    "6)번 <br/>\n",
    "리스트에 튜플을 대입하는 것은 얼핏 특별해 보이지만, 리스트에 리스트를 대입하는 것은 당연한 결과를 낸다. [2, 3] 리스트에 [100, 101, 102] 리스트를 대입한다. 1번에서 [100] 리스트가 에러 없이 대입된 결과를 보면, [100, 101, 102] 역시 리스트이므로 예상한 대로 동작하는 것은 이상하지 않다.\n",
    "</font>"
   ]
  },
  {
   "cell_type": "code",
   "execution_count": 17,
   "metadata": {
    "collapsed": false
   },
   "outputs": [
    {
     "name": "stdout",
     "output_type": "stream",
     "text": [
      "[1, (100, 101, 102), 4, 5]\n"
     ]
    }
   ],
   "source": [
    "L = [1,2,3,4,5]\n",
    "L[1:3] = [(100, 101, 102)]\n",
    "print L"
   ]
  },
  {
   "cell_type": "markdown",
   "metadata": {},
   "source": [
    "<font color=blue>\n",
    "7)번 <br/>\n",
    "1번의 경우 100은 단순한 정수형이지만 [100], 즉 []으로 감싸 내부의 항이 iterable임을 명시함으로써 좌우항의 변수형이 같아 대입 연산이 실행되었다. 이는 정수의 수가 늘어난 [100, 101, 102] 나 (100, 101, 102)에도 예외없이 적용된다. 이를 변수로 나타내면, L[1:3] = [x] 혹은 (x,) -> [1, x, 4, 5] 이다. 7번의 경우는 이 x가 (100, 101, 102) 라는 하나의 변수, 튜플인 경우라고 생각할 수 있다. 튜플의 각 정수를 iterable화 한 것이 아니고, 튜플 그 자체를 iterable로 한 것과 같다. 따라서 튜플 전체가 하나의 iterable로써 리스트에 대입된 것이다.\n",
    "</font>"
   ]
  },
  {
   "cell_type": "code",
   "execution_count": 18,
   "metadata": {
    "collapsed": false
   },
   "outputs": [
    {
     "name": "stdout",
     "output_type": "stream",
     "text": [
      "[1, [100, 101, 102], 4, 5]\n"
     ]
    }
   ],
   "source": [
    "L = [1,2,3,4,5]\n",
    "L[1:3] = [[100, 101, 102]]\n",
    "print L"
   ]
  },
  {
   "cell_type": "markdown",
   "metadata": {},
   "source": [
    "<font color=blue>\n",
    "8)번 <br/>\n",
    "7번의 경우와 같으나 내부항이 리스트이다. 튜플과 리스트 둘 모두 iterable이므로, 성질이 비슷함을 생각하면 7번의 결과로 8번의 결과를 유추하는 것은 어렵지 않다.\n",
    "</font>"
   ]
  },
  {
   "cell_type": "markdown",
   "metadata": {},
   "source": [
    "<h3>문제 2)</h3> \n",
    "<br/>\n",
    "문자열 S = 'Hello World and Python'에 대해 다음 요구사항에 대한 Python 코드를 제시하시오.\n",
    "<br/>\n",
    "- 1) 단어의 순서가 역순으로 되어진 문자열 ('Python and World Hello')을 만들고\n",
    "- 2) 1)의 결과 문자열에 대해 메소드 split과 join을 이용하여 공백을 모두 없엔 문자열 'PythonandWorldHello'을 만드시오."
   ]
  },
  {
   "cell_type": "code",
   "execution_count": 31,
   "metadata": {
    "collapsed": false
   },
   "outputs": [
    {
     "name": "stdout",
     "output_type": "stream",
     "text": [
      "Python and World Hello\n",
      "PythonandWorldHello\n"
     ]
    }
   ],
   "source": [
    "S = 'Hello World and Python'\n",
    "\n",
    "s = \" \".join(S.split()[::-1]);\n",
    "print s\n",
    "s = \"\".join(s.split());\n",
    "print s"
   ]
  },
  {
   "cell_type": "markdown",
   "metadata": {},
   "source": [
    "<font color=blue>\n",
    "1)번을 split이나 join을 쓰지 않고 만들라는 말은 없어서, 위와 같이 코딩하였다. 1)번 문제에 대해서, 먼저 S.split() 에서 문자열을 공백 단위로 분할한 리스트를 얻고, [::-1] 연산으로 순서를 반대로 바꾼 리스트를 얻었다. 그리고 \" \".join() 을 통해, 공백을 리스트의 각 요소 사이에 넣은 문자열을 얻을 수 있다. 2)번은 1)번의 연산에서 [::-1]을 생략하고, 공백을 껴넣는 대신 \"\"을 껴넣음으로써 공백 없이 단어를 이은 문자열을 얻는다.\n",
    "</font>"
   ]
  },
  {
   "cell_type": "markdown",
   "metadata": {},
   "source": [
    "<h3>문제 3)</h3> \n",
    "<br/>\n",
    "다음 코드를 보고 물음에 답하시오.<br/>\n",
    "\n",
    "    a = [1, 2, 3]\n",
    "    b = a * 3\n",
    "    c = [a] * 3\n",
    "    print b\n",
    "    print c\n",
    "\n",
    "- 1) 위 코드를 수행한 이후 다음 코드를 수행한 후 b와 c의 내용을 확인하시오.\n",
    "        a[0]=0\n",
    "- 2) b와 c 객체의 차이는 무엇인가?"
   ]
  },
  {
   "cell_type": "code",
   "execution_count": 34,
   "metadata": {
    "collapsed": false
   },
   "outputs": [
    {
     "name": "stdout",
     "output_type": "stream",
     "text": [
      "[1, 2, 3, 1, 2, 3, 1, 2, 3]\n",
      "[[1, 2, 3], [1, 2, 3], [1, 2, 3]]\n"
     ]
    }
   ],
   "source": [
    "a = [1, 2, 3]\n",
    "b = a * 3\n",
    "c = [a] * 3\n",
    "print b\n",
    "print c"
   ]
  },
  {
   "cell_type": "code",
   "execution_count": 35,
   "metadata": {
    "collapsed": false
   },
   "outputs": [
    {
     "name": "stdout",
     "output_type": "stream",
     "text": [
      "[1, 2, 3, 1, 2, 3, 1, 2, 3]\n",
      "[[0, 2, 3], [0, 2, 3], [0, 2, 3]]\n"
     ]
    }
   ],
   "source": [
    "a[0] = 0\n",
    "print b\n",
    "print c"
   ]
  },
  {
   "cell_type": "markdown",
   "metadata": {},
   "source": [
    "<font color=blue>\n",
    "1)을 수행한 결과, b는 바뀌지 않았고, c는 바뀌었다. 출력의 결과로 b = a * 3 에서, b에는 a가 3개 들어가는 것이 아닌 a가 갖고 있는 요소 3개가 들어갔으며 c = [a] * 3 에서, 단순히 a가 3개 들어갔음을 확인할 수 있다. 다시 말해, 임의의 상수 집합 x에 대해서<br/>\n",
    "a = [x]<br/>\n",
    "b = a * 3 = [x, x, x]<br/>\n",
    "c = [a] * 3 = [a, a, a]<br/>\n",
    "라고 쓸 수 있다. 1번 문제에서도 보았지만, []로 감싸 내부의 요소를 iterable로 만들 수 있고, [] 연산은 내부에 위치되는 어떤 객체라도 하나의 iterable로 취급할 수 있음을 알 수 있다.\n",
    "</font>"
   ]
  },
  {
   "cell_type": "markdown",
   "metadata": {},
   "source": [
    "<h3>문제 4)</h3> \n",
    "<br/>\n",
    "다음 문자열을 ':'을 기준으로 분리하여 리스트로 만들고 각 문자열의 좌우 공백을 제거하시오 (즉, 문자열 S에서 l을 만들어라)\n",
    "<br/>\n",
    "\n",
    "    s = '  first star   :   second star   :    third star  '\n",
    "    l = ['first star', 'second star', 'third star']\n",
    "    \n",
    "- 1) for ~ in 문을 이용한 코드를 작성하시오.\n",
    "- 2) 리스트 내포(list comprehension)를 이용한 코드를 작성하시오."
   ]
  },
  {
   "cell_type": "code",
   "execution_count": 49,
   "metadata": {
    "collapsed": true
   },
   "outputs": [],
   "source": [
    "s = '  first star   :   second star   :    third star  '\n",
    "l = []"
   ]
  },
  {
   "cell_type": "code",
   "execution_count": 50,
   "metadata": {
    "collapsed": false,
    "scrolled": true
   },
   "outputs": [
    {
     "name": "stdout",
     "output_type": "stream",
     "text": [
      "['first star', 'second star', 'third star']\n"
     ]
    }
   ],
   "source": [
    "for sentense in s.split(\":\"):\n",
    "    l += [sentense.strip()]\n",
    "print l"
   ]
  },
  {
   "cell_type": "code",
   "execution_count": 51,
   "metadata": {
    "collapsed": false
   },
   "outputs": [
    {
     "name": "stdout",
     "output_type": "stream",
     "text": [
      "['first star', 'second star', 'third star']\n"
     ]
    }
   ],
   "source": [
    "l = [sentense.strip() for sentense in s.split(\":\")]\n",
    "print l"
   ]
  },
  {
   "cell_type": "markdown",
   "metadata": {},
   "source": [
    "<font color=blue>\n",
    "1) 번에서, s.split(\":\") 구문으로 : 문자를 기준하여 문장을 분리하고, 여기에 strip() 연산을 수행하여 좌우의 공백을 없앤다. 이후 []으로 감싸 string 자료형을 iterable하게 만들고, 이를 l 리스트에 추가한다. 2) 번에서는 1)번과 같은 내용을 리스트 내포 문법을 이용하여 같은 결과를 낸다.\n",
    "</font>"
   ]
  },
  {
   "cell_type": "markdown",
   "metadata": {},
   "source": [
    "<h3>문제 5)</h3> \n",
    "<br/>\n",
    "다음과 같이 0보다 큰 정수 리스트 변수 list를 인자로 받는 함수 addall(list)와 addallodd(list)를 for ~ in 리터널과 리스트 내포 방식으로 각각 제시하시오.\n",
    "<br/>\n",
    "- 1) addall(list) 함수 (리스트 내의 모든 정수를 더하는 함수로서 해답으로는 for ~ in 리터럴과 리스트 내포 방식으로 각각 제시하시오.)<br/>\n",
    "\n",
    "    \\>>> addall([1])<br/>\n",
    "    1<br/>\n",
    "    \\>>> addall([1, 2, 3, 4, 5, 6, 7, 8, 9])<br/>\n",
    "    45<br/><br/>\n",
    "    \n",
    "- 2) addallodd(list) 함수 (리스트내의 모든 홀수를 더하는 함수로서 해답으로는 for ~ in 리터럴과 리스트 내포 방식으로 각각 제시하시오.)<br/>\n",
    "\n",
    "    \\>>> addallodd([1])<br/>\n",
    "    1<br/>\n",
    "    \\>>> addallodd([1, 2, 3, 4, 5, 6, 7, 8, 9])<br/>\n",
    "    25<br/><br/>\n",
    "    \n",
    "- [참고 1]: 리스트 내포 방식으로 addall() 및 addallodd()함수를 만들 때엔 리스트 내포에 의해 생성된 리스트 결과에 대해 내장 함수를 사용하는 방식을 고려해보시오 (주의: 리스트 내포 방식의 addall() 및 addallodd() 함수의 몸체는 단 1줄로 작성되어야 한다.)\n",
    "- [참고 2]: sum() 등의 내장함수 사용 가능함\n",
    "<br/>"
   ]
  },
  {
   "cell_type": "code",
   "execution_count": 59,
   "metadata": {
    "collapsed": false
   },
   "outputs": [
    {
     "name": "stdout",
     "output_type": "stream",
     "text": [
      "45\n",
      "45\n"
     ]
    }
   ],
   "source": [
    "list = [1, 2, 3, 4, 5, 6, 7, 8, 9]\n",
    "\n",
    "# 1)번 문제의 for~in 리터럴 방식\n",
    "def addall(list):\n",
    "    sum = 0\n",
    "    for i in list:\n",
    "        sum += i\n",
    "    print sum\n",
    "\n",
    "addall(list)\n",
    "\n",
    "# 1)번 문제의 리스트 내포 방식\n",
    "def addall(list):\n",
    "    print sum([i for i in list])\n",
    "\n",
    "addall(list)"
   ]
  },
  {
   "cell_type": "code",
   "execution_count": 60,
   "metadata": {
    "collapsed": false
   },
   "outputs": [
    {
     "name": "stdout",
     "output_type": "stream",
     "text": [
      "25\n",
      "25\n"
     ]
    }
   ],
   "source": [
    "# 2)번 문제의 for~in 리터럴 방식\n",
    "def addallodd(list):\n",
    "    sum = 0\n",
    "    for i in list:\n",
    "        if i%2==1:\n",
    "            sum += i\n",
    "    print sum\n",
    "\n",
    "addallodd(list)\n",
    "\n",
    "# 2)번 문제의 리스트 내포 방식\n",
    "def addallodd(list):\n",
    "    print sum([i for i in list if i%2==1])\n",
    "\n",
    "addallodd(list)"
   ]
  },
  {
   "cell_type": "markdown",
   "metadata": {},
   "source": [
    "<font color=blue>\n",
    "sum() 내장 함수를 사용한 점을 제외하면 1)번과 2)번 모두 코드에 대한 설명은 별도로 필요하지 않다고 생각된다. 리스트 내포 문법을 사용해보는 단순한 연습문제로 보인다.\n",
    "</font>"
   ]
  },
  {
   "cell_type": "markdown",
   "metadata": {},
   "source": [
    "<h3>문제 6)</h3> \n",
    "<br/>\n",
    "다음 코드를 보고 물음에 답하시오.\n",
    "\n",
    "    L1 = [1, 2, 3]\n",
    "    L2 = [4, 5, 6]\n",
    "    d = {'low':L1, 'high':L2}\n",
    "    e = d\n",
    "    f = d.copy()\n",
    "    print d\n",
    "    print e\n",
    "    print f\n",
    "    print\n",
    "    d['low'] = [10, 20, 30]\n",
    "    d['high'][1] = 500\n",
    "    print d\n",
    "    print e\n",
    "    print f\n",
    "\n",
    "- 1) 위 코드의 수행 결과 d와 e는 항상 같은 결과를 출력한다. 그 이유는 무엇인가?\n",
    "- 2) 위 코드의 수행 결과 마지막 f의 내용은 다음과 같다. 이 때 'high' 키의 값 내용 중 500이 출력된 이유와 'low' 키의 값 내용 중 [1, 2, 3]이 출력된 이유를 설명하시오 ([hint]: shallow copy 관점에서 설명하시오.)\n",
    "\n",
    "    {'high': [4, 500, 6], 'low': [1, 2, 3]}\n",
    "<br/>"
   ]
  },
  {
   "cell_type": "code",
   "execution_count": 61,
   "metadata": {
    "collapsed": false
   },
   "outputs": [
    {
     "name": "stdout",
     "output_type": "stream",
     "text": [
      "{'high': [4, 5, 6], 'low': [1, 2, 3]}\n",
      "{'high': [4, 5, 6], 'low': [1, 2, 3]}\n",
      "{'high': [4, 5, 6], 'low': [1, 2, 3]}\n",
      "\n",
      "{'high': [4, 500, 6], 'low': [10, 20, 30]}\n",
      "{'high': [4, 500, 6], 'low': [10, 20, 30]}\n",
      "{'high': [4, 500, 6], 'low': [1, 2, 3]}\n"
     ]
    }
   ],
   "source": [
    "L1 = [1, 2, 3]\n",
    "L2 = [4, 5, 6]\n",
    "d = {'low':L1, 'high':L2}\n",
    "e = d\n",
    "f = d.copy()\n",
    "print d\n",
    "print e\n",
    "print f\n",
    "print\n",
    "d['low'] = [10, 20, 30]\n",
    "d['high'][1] = 500\n",
    "print d\n",
    "print e\n",
    "print f"
   ]
  },
  {
   "cell_type": "markdown",
   "metadata": {},
   "source": [
    "<font color=blue>\n",
    "1) d와 e가 같은 값이 출력되는 이유는 e = d 구문을 통해 e를 초기화 하는 순간, d의 각 요소가 복사되어 e에 포함되는 것이 아닌(deep copy), 메모리 상의 d가 pointing 하는 원본을 e도 pointing 하는 단순 복사(reference 복사)가 일어나기 떄문이다. 어떤 데이터가 변수 x로 초기화 될 때, 변수 x라는 공간 안에 데이터가 내포되는 것이 아니라 데이터는 메모리 상에 로드되고, x는 메모리 상의 데이터의 위치를 pointing하는 것임은 1일차 수업에서 배운 내용이다. e = d 할때 d에 들어있는 내용은 {'high': [4, 5, 6], 'low': [1, 2, 3]} 가 위치하는 메모리 상의 주소이며, 이것이 e에 복사되는 것이다.<br/><br/>\n",
    "2) 반면, f는 초기화 시 f = d.copy() 를 통해 초기화된다. copy() 메소드는 내부 데이터를 말 그대로 복사하여 메모리 상의 다른 영역에 똑같은 데이터를 로드하고 이를 f가 가르키게 하는 얕은 복사(swallow copy)를 수행한다. 얼핏 보면 이 설명은 deep copy를 말하는 듯 하지만, deep copy와 swallow copy는 차이가 있다. swallow copy를 얕은 복사라고 부르는 이유는, 리스트 내의 상수형 데이터는 다른 메모리상에 복사하지만 상수가 아닌 어떤 객체(메모리 상의 다른 공간에 위치하는) 에 대해서는 레퍼런스를 그대로 유지하는 점 때문이다. deep copy의 경우는 레퍼런스를 재귀적으로 추적하여 해당 객체의 내용까지 완벽히 메모리 상의 다른 공간에 복사한다. <br/><br/>\n",
    "\n",
    "이러한 특징 때문에 d, e와 f의 출력 결과가 위와 같이 달라지는 것을 확인할 수 있다. 2) 의 설명을 그림으로 하면 정말 간단한데, 글로 쓰기가 정말 어렵다... 메모리상에서 일어나는 일을 순차적으로 설명하면 다음과 같다. (원래는 [1, 2, 3] 에서 각 정수가 각각 다른 메모리 공간에 로드되고, 리스트는 로드된 각 주소를 갖도록 구성되지만, 너무 복잡해지므로 아래 설명에서는 리스트나 맵 같은 자료형도 하나의 상수라고 생각하고 간소화하였다.)<br/><br/>\n",
    "\n",
    "L1에는 [1,2,3] 이라는 데이터가 적재된 메모리 상의 주소 0x0001이 있다.<br/>\n",
    "L2에는 [4,5,6] 이라는 데이터가 적재된 메모리 상의 주소 0x0002가 있다.<br/>\n",
    "d = {'low':L1, 'high':L2} 구문에서, d에는 {'low':0x0001, 'high':0x0002} 라는 사전 자료형 데이터가 적재된 메모리 상의 주소 0x0003이 적재된다. 여기서 d['low'] = 0x0001, d['high'] = 0x0002 임이 중요하다.<br/>\n",
    "e = d 에서 e에는 d가 갖고 있는 메모리 상의 주소 0x0003이 복사되는 단순 레퍼런스 copy가 일어난다.<br/>\n",
    "f = d.copy() 에서, d.copy()메서드에 의해 메모리 상에 {'low':0x0001, 'high':0x0002} 라는 데이터가 0x0004에 복사되고, f가 이를 pointing하게 되는 swallow copy가 일어난다. 얕은 복사이므로, 사전 자료형의 틀은 복사해서 새 메모리에 로드했지만 L1, L2의 값까지 다른 메모리에 복사하지는 못하고 레퍼런스를 그대로 가져오는 것을 아래 메모리 맵에서 확인할 수 있다.<br/>\n",
    "<br/>\n",
    "현재 메모리 상황은 다음과 같다.<br/>\n",
    "<br/>\n",
    "0x0001 : [1, 2, 3] <- L1<br/>\n",
    "0x0002 : [4, 5, 6] <- L2<br/>\n",
    "0x0003 : {'low':0x0001, 'high':0x0002} <- d, e<br/>\n",
    "0x0004 : {'low':0x0001, 'high':0x0002} <- f<br/>\n",
    "<br/>\n",
    "d['low'] = [10, 20, 30] 에서, [10, 20, 30] 자료형 상수는 새로 등장했으며, 새 메모리 주소, 0x0005에 적재된다. d['low']는 0x0005를 가르키도록 수정된다.<br/>\n",
    "d['high'][1] = 500 에서, d['high'] 는 0x0002이고, 0x0002의 [1]번지의 값을 500으로 수정한다. 위 두 줄이 수행되었을 때 메모리 상황은 다음과 같다.<br/>\n",
    "<br/>\n",
    "0x0001 : [1, 2, 3] <- L1<br/>\n",
    "0x0002 : [4, 500, 6] <- L2<br/>\n",
    "0x0003 : {'low':0x0005, 'high':0x0002} <- d, e<br/>\n",
    "0x0004 : {'low':0x0001, 'high':0x0002} <- f<br/>\n",
    "0x0005 : [10, 20, 30]\n",
    "<br/><br/>\n",
    "여기서 d, e 는 'low' 가 0x0005를 pointing하지만, f의 'low'는 여전히 0x0001을 pointing하고 있음이 중요하다. 출력 결과에서 d, e 와 f의 'high' 가 같은 리스트인데, 'low'는 다른 리스트인 이유가 이 메모리 맵에 보여지고 있다.\n",
    "\n",
    "</font>"
   ]
  },
  {
   "cell_type": "markdown",
   "metadata": {},
   "source": [
    "<h3>문제 7)</h3> \n",
    "<br/>\n",
    "사전 d = {'one':1, 'two':2, 'three':3, 'four':4, 'five':5}가 주어졌을 때 다음 요구사항에 맞는 코드를 제시하시오\n",
    "<br/>\n",
    "- [참고]: d.keys(), d.values()를 통해 리스트를 얻어낸 후 리스트가 지니고 있는 sort(cmp=None, key=None, reverse=False)함수를 활용하시오.\n",
    "- 1) 키의 알파벳 오름차순 순서대로 튜플 (키, 값)을 차례대로 출력하시오.\n",
    "- 2) 키의 알파벳 내림차순 순서대로 튜플 (키, 값)을 차례대로 출력하시오.\n",
    "- 3) 값의 오름차순 순서대로 튜플 (키, 값)을 차례대로 출력하시오.\n",
    "- 4) 값의 내림차순 순서대로 튜플 (키, 값)을 차례대로 출력하시오."
   ]
  },
  {
   "cell_type": "code",
   "execution_count": 115,
   "metadata": {
    "collapsed": false
   },
   "outputs": [
    {
     "name": "stdout",
     "output_type": "stream",
     "text": [
      "('five', 5) ('four', 4) ('one', 1) ('three', 3) ('two', 2)\n",
      "('two', 2) ('three', 3) ('one', 1) ('four', 4) ('five', 5)\n",
      "('one', 1) ('two', 2) ('three', 3) ('four', 4) ('five', 5)\n",
      "('five', 5) ('four', 4) ('three', 3) ('two', 2) ('one', 1)\n"
     ]
    }
   ],
   "source": [
    "def printList(list):\n",
    "    for i in list:\n",
    "        print i,\n",
    "    print\n",
    "\n",
    "d = {'one':1, 'two':2, 'three':3, 'four':4, 'five':5}\n",
    "\n",
    "L_keys = d.keys()\n",
    "L_values = d.values()\n",
    "L_keys.sort()\n",
    "L_values.sort()\n",
    "\n",
    "printList([tup for key in L_keys for tup in d.items() if tup[0]==key])\n",
    "printList([tup for key in reversed(L_keys) for tup in d.items() if tup[0]==key])\n",
    "printList([tup for key in L_values for tup in d.items() if tup[1]==key])\n",
    "printList([tup for key in reversed(L_values) for tup in d.items() if tup[1]==key])"
   ]
  },
  {
   "cell_type": "markdown",
   "metadata": {},
   "source": [
    "<font color=blue>\n",
    "문제의 의도를 잘 모르겠지만, 일단 문제에 나온 대로 keys, values를 얻고 해당 리스트를 sorting한 다음 리스트 내포로 문제에서 요구한 튜플의 리스트를 출력해 보았다. 내림차순을 얻는 방법은 오름차순을 reverse하면 간단히 얻을 수 있다. sort(), reverse() 는 각각 리턴값이 없고 해당 메소드를 호출한 객체에 대해 정렬이나 역순을 수행하지만, sorted() 나 reversed()는 해당하는 리스트는 가만히 두고, 새 리스트에 정렬이나 역순을 수행한 다음 이 새 리스트를 반환해준다. 따라서 위 식 처럼 리스트 내포 식 내부에 써넣을 수가 있다. 물론 sorted(d.keys()) 까지 활용하면 더 짧아지겠지만... 문제의 의도를 파악하지 못해서, 일단 문제에 쓰여 있는 대로 진행했다.\n",
    "</font>"
   ]
  },
  {
   "cell_type": "markdown",
   "metadata": {},
   "source": [
    "<h3>문제 8 - Project Euler 7번)</h3> \n",
    "<br/>\n",
    "소수를 크기 순으로 나열하면 2, 3, 5, 7, 11, 13, ... 과 같이 됩니다.\n",
    "\n",
    "이 때 10,001번째의 소수를 구하세요."
   ]
  },
  {
   "cell_type": "code",
   "execution_count": 118,
   "metadata": {
    "collapsed": true
   },
   "outputs": [],
   "source": [
    "def factorization(num):\n",
    "    count = pow(num, 0.5) + 1\n",
    "    i = 2\n",
    "    if num==2:\n",
    "        return True\n",
    "    while i < count:\n",
    "        if num%i==0:\n",
    "            return False\n",
    "        i += 1\n",
    "    return True"
   ]
  },
  {
   "cell_type": "markdown",
   "metadata": {},
   "source": [
    "<font color=blue>소수가 맞는지 아닌지를 출력해주는 함수이다. 2~root(n) 까지의 수로 나누어지지 않았을 경우, n은 소수이므로, true를 리턴한다. 그렇지 않고 어떤 수로든 나누어졌다면, false를 리턴한다.</font>"
   ]
  },
  {
   "cell_type": "code",
   "execution_count": 119,
   "metadata": {
    "collapsed": false
   },
   "outputs": [
    {
     "name": "stdout",
     "output_type": "stream",
     "text": [
      "104743\n"
     ]
    }
   ],
   "source": [
    "i = 2\n",
    "count = 0\n",
    "while True:\n",
    "    if factorization(i):\n",
    "        count += 1\n",
    "        if count==10001:\n",
    "            break\n",
    "    i+=1\n",
    "    \n",
    "print i"
   ]
  },
  {
   "cell_type": "markdown",
   "metadata": {},
   "source": [
    "<font color=blue>함수를 정의했다면 다음은 간단하다. 무한반복(while True:) 구문을 돌면서, i를 증가시키고, 만약 i가 소수라면 그 개수를 센다. 10001개째의 소수를 발견했을 때 반복문을 탈출하고 해당 소수를 출력한다.</font>"
   ]
  },
  {
   "cell_type": "markdown",
   "metadata": {},
   "source": [
    "<h3>문제 9 - Project Euler 8번)</h3> \n",
    "<br/>\n",
    "다음은 연속된 1000자리 숫자입니다 (읽기 좋게 50자리씩 잘라놓음).\n",
    "\n",
    "73167176531330624919225119674426574742355349194934\n",
    "96983520312774506326239578318016984801869478851843\n",
    "85861560789112949495459501737958331952853208805511\n",
    "12540698747158523863050715693290963295227443043557\n",
    "66896648950445244523161731856403098711121722383113\n",
    "62229893423380308135336276614282806444486645238749\n",
    "30358907296290491560440772390713810515859307960866\n",
    "70172427121883998797908792274921901699720888093776\n",
    "65727333001053367881220235421809751254540594752243\n",
    "52584907711670556013604839586446706324415722155397\n",
    "53697817977846174064955149290862569321978468622482\n",
    "83972241375657056057490261407972968652414535100474\n",
    "82166370484403199890008895243450658541227588666881\n",
    "16427171479924442928230863465674813919123162824586\n",
    "17866458359124566529476545682848912883142607690042\n",
    "24219022671055626321111109370544217506941658960408\n",
    "07198403850962455444362981230987879927244284909188\n",
    "84580156166097919133875499200524063689912560717606\n",
    "05886116467109405077541002256983155200055935729725\n",
    "71636269561882670428252483600823257530420752963450\n",
    "\n",
    "여기서 붉게 표시된 71112의 경우 7, 1, 1, 1, 2 각 숫자를 모두 곱하면 14가 됩니다.\n",
    "\n",
    "이런 식으로 맨 처음 (7 × 3 × 1 × 6 × 7 = 882) 부터 맨 끝 (6 × 3 × 4 × 5 × 0 = 0) 까지 5자리 숫자들의 곱을 구할 수 있습니다.\n",
    "이렇게 구할 수 있는 5자리 숫자의 곱 중에서 가장 큰 값은 얼마입니까?"
   ]
  },
  {
   "cell_type": "code",
   "execution_count": 31,
   "metadata": {
    "collapsed": true
   },
   "outputs": [],
   "source": [
    "a = \"73167176531330624919225119674426574742355349194934\"\n",
    "b = \"96983520312774506326239578318016984801869478851843\"\n",
    "c = \"85861560789112949495459501737958331952853208805511\"\n",
    "d = \"12540698747158523863050715693290963295227443043557\"\n",
    "e = \"66896648950445244523161731856403098711121722383113\"\n",
    "f = \"62229893423380308135336276614282806444486645238749\"\n",
    "g = \"30358907296290491560440772390713810515859307960866\"\n",
    "h = \"70172427121883998797908792274921901699720888093776\"\n",
    "i = \"65727333001053367881220235421809751254540594752243\"\n",
    "j = \"52584907711670556013604839586446706324415722155397\"\n",
    "k = \"53697817977846174064955149290862569321978468622482\"\n",
    "l = \"83972241375657056057490261407972968652414535100474\"\n",
    "m = \"82166370484403199890008895243450658541227588666881\"\n",
    "n = \"16427171479924442928230863465674813919123162824586\"\n",
    "o = \"17866458359124566529476545682848912883142607690042\"\n",
    "p = \"24219022671055626321111109370544217506941658960408\"\n",
    "q = \"07198403850962455444362981230987879927244284909188\"\n",
    "r = \"84580156166097919133875499200524063689912560717606\"\n",
    "s = \"05886116467109405077541002256983155200055935729725\"\n",
    "t = \"71636269561882670428252483600823257530420752963450\"\n",
    "\n",
    "str = a+b+c+d+e+f+g+h+i+j+k+l+m+n+o+p+q+r+s+t"
   ]
  },
  {
   "cell_type": "markdown",
   "metadata": {},
   "source": [
    "<font color=blue>문제에서 주어진 데이터를 가공하지 않고 그대로 사용하려고 했으나 왜인지 더 손 댈 부분이 많아진 것 같은 코드이다. 어떤 방법을 쓰던, 1000개의 문자를 갖는 문자열 str를 정의한다.</font>"
   ]
  },
  {
   "cell_type": "code",
   "execution_count": 32,
   "metadata": {
    "collapsed": false
   },
   "outputs": [
    {
     "name": "stdout",
     "output_type": "stream",
     "text": [
      "40824\n"
     ]
    }
   ],
   "source": [
    "max = -1\n",
    "for i in range(0, 996):\n",
    "    acc = 1\n",
    "    for j in str[i:i+5]:\n",
    "        acc = acc * int(j)\n",
    "    if acc > max:\n",
    "        max = acc\n",
    "print max"
   ]
  },
  {
   "cell_type": "markdown",
   "metadata": {},
   "source": [
    "<font color=blue>\n",
    "i가 0부터 996까지 돌면서 i~(i+5)의 배열 위치를 slice한다. 이후 slice된 배열을 다시 foreach로 돌면서 각 요소를 int로 캐스팅하여 곱한 값을 누적한다. 이 값이 최대값이라면 이를 최대값 max 변수에 반영한다. 반복이 끝나면 max값을 리턴한다.\n",
    "</font>"
   ]
  },
  {
   "cell_type": "markdown",
   "metadata": {},
   "source": [
    "<h3>문제 10 - Project Euler 9번)</h3> \n",
    "<br/>\n",
    "세 자연수 a, b, c 가 피타고라스 정리 a^2 + b^2 = c^2 를 만족하면 피타고라스 수라고 부릅니다 (여기서 a < b < c ).\n",
    "예를 들면 3^2 + 4^2 = 9 + 16 = 25 = 52이므로 3, 4, 5는 피타고라스 수입니다.\n",
    "\n",
    "a + b + c = 1000 인 피타고라스 수 a, b, c는 한 가지 뿐입니다. 이 때, a × b × c 는 얼마입니까?"
   ]
  },
  {
   "cell_type": "code",
   "execution_count": 122,
   "metadata": {
    "collapsed": false
   },
   "outputs": [
    {
     "name": "stdout",
     "output_type": "stream",
     "text": [
      "31875000\n"
     ]
    }
   ],
   "source": [
    "def problem9():\n",
    "    for i in range(1, 333):\n",
    "        jmax = (1000.0-i)/2.0 + 0.5\n",
    "        for j in range(i+1, int(jmax)):\n",
    "            k = 1000-i-j\n",
    "            if pow(i, 2) + pow(j, 2) == pow(k, 2):\n",
    "                return i * j * k\n",
    "            \n",
    "print problem9()"
   ]
  },
  {
   "cell_type": "markdown",
   "metadata": {},
   "source": [
    "<font color=blue>\n",
    "a+b+c = 1000 이고, a&lt;b&lt;c 임에서 여러 가지를 생각할 수 있다. a는 332보다 클 수 없으며, b는 a에 대해서 (1000-a)/2 - 1 보다 클 수 없다. c는 1000-a-b로 계산할 수 있다. 조금 생각하면 계산할 수 있는 것이므로 자세한 설명은 생략한다. 이를 이용해 반복문을 구성하면 위와 같다. 해당 반복문을 i, j, k 로 설계하고, i^2+j^2=k^2 일 때 해당 값을 모두 곱하여 출력하면 결과를 얻을 수 있다.</font>"
   ]
  },
  {
   "cell_type": "markdown",
   "metadata": {},
   "source": [
    "<h3>문제 11 - Incremental Project)</h3> \n",
    "<br/>\n",
    "이전 Assignment 2의 마지막 문제는 웹 URL로 지정된 웹페이지를 문자열로 가져와 모든 HTML 태그 및 CSS와 Javascript를 제외한 순수 텍스트를 얻어내고 그 안에 존재하는 단어를 추출하고 단어들의 총 개수를 출력하는 프로그램을 작성하는 것이었다. 이번에는 그 마지막 숙제를 그대로 확장하여 웹 URL로 지정된 웹페이지 내 순수 텍스트 안에 존재하는 각 단어들에 대해 다음 요구사항 대로 출력하는 프로그램을 작성하시오.\n",
    "<br/>\n",
    "\n",
    "- 요구사항 1. 순수 텍스트 안에 존재하는 단어들에 대해 string 모듈을 활용하여 모든 punctuation (구두문자)를 완벽히 제거하시오.\n",
    "    * 예: ['world!', ':', '+hello+', '~python$$$', '=', 'world'] ---> ['world', 'hello', 'python', 'world']\n",
    "    * 모든 punctuation을 확인하는 방법은 아래와 같다.\n",
    "    \n",
    "        import string<br/>\n",
    "        print string.punctuation<br/><br/>\n",
    "        \n",
    "- 요구사항 2. 만약 punctuation (구두문자)를 제거한 이후 공백으로 판명되는 단어들은 해당 단어 리스트에서 제거하시오.\n",
    "    * 예: ['컴퓨터공학부!', '---?', '%지향~', '...'] ---> ['컴퓨터공학부', '지향']\n",
    "\n",
    "- 요구사항 3. 각 단어들의 출현빈도를 사전형태로 저장하여 출력하시오.\n",
    "    * 예: ['world', 'hello', 'python', 'world', '컴퓨터공학부', '지향'] ---> {'world': 2, 'hello': 1, 'python': 1, '컴퓨터공학부': 1, '지향': 1}\n",
    "\n",
    "- 요구사항 4. 다음 3개의 사이트에 대한 결과를 출력하시오.\n",
    "    * http://www.naver.com\n",
    "    * http://www.daum.net\n",
    "    * http://www.nytimes.com"
   ]
  },
  {
   "cell_type": "code",
   "execution_count": 46,
   "metadata": {
    "collapsed": false
   },
   "outputs": [],
   "source": [
    "import urllib2\n",
    "import string\n",
    "\n",
    "def project(url):\n",
    "    source = urllib2.urlopen(url).read()\n",
    "    str = \"\"\n",
    "    for sub in source.split('<'):\n",
    "        index = sub.find('>')\n",
    "        if index == -1 or index == len(sub)-1: \n",
    "            continue\n",
    "        str += sub[index+1:] + \" \"\n",
    "    str = \" \".join(str.split())\n",
    "    # 여기까지 과제2 에서의 내용\n",
    "    \n",
    "    # 이번 과제의 시작\n",
    "    for i in range(0, len(string.punctuation)):\n",
    "        str = str.replace(string.punctuation[i], \"\")\n",
    "    \n",
    "    words = {}\n",
    "    for i in str.split():\n",
    "        if not i in words.keys():\n",
    "            words[i]=1\n",
    "        else:\n",
    "            words[i]=words[i]+1\n",
    "            \n",
    "    print repr(words).decode('string-escape')"
   ]
  },
  {
   "cell_type": "markdown",
   "metadata": {},
   "source": [
    "<font color=blue>\n",
    "코드 중간에 주석이 있는 부분에서부터 시작한다. 이를 기준으로 위쪽은 저번 과제에서 수행한 내용이므로 설명을 생략한다. 해당 코드의 결과로, 각 단어가 공백으로 구분되는 하나의 문자열을 얻어낸다.<br/><br/>\n",
    "이후의 내용은 단순히 punctuation 에서 각 인자를 받아와, 위에서 만든 전체 문자열 str 내의 각 인자를 공문자 \"\"로 replace하는 것이다. 이 구문에서 모든 특수문자는 제거된다. 이 뒤에 나오는 내용은 link 홈페이지에 있는 수업 보충 자료를 참조하였다. 사전을 하나 정의하고, 위에서 만든 punctuation을 모두 제거한 str를 다시 공백을 기준으로 스플릿하여 단어의 리스트를 만든다. 이를 for~in 구문으로 돌면서, 만약 사전에 해당 단어가 없다면 value=1로 추가하고, 있다면 value를 증가시킨다.\n",
    "<br/><br/>\n",
    "print 코드를 보면 repr와 decode를 사용하고 있는데, 일반적으로 유니코드 문자(한글)의 경우 리스트를 그대로 출력하면 단어가 깨져서 출력된다. 위와 같이 두 함수를 조합하면 아래 결과물처럼 리스트 내부의 내용을 유니코드로 출력할 수 있다. \n",
    "<br/><br/>\n",
    "아래에 세 홈페이지에 대한 출력 결과를 첨부하였다.\n",
    "</font>"
   ]
  },
  {
   "cell_type": "code",
   "execution_count": 43,
   "metadata": {
    "collapsed": false
   },
   "outputs": [
    {
     "name": "stdout",
     "output_type": "stream",
     "text": [
      "{'gt': 1, '한글캠페인': 1, '힙업': 1, 'global': 1, '위하여': 1, '하야': 2, '나눔글꼴이': 2, 'catch': 1, '6위': 1, '우리집에사는남자': 1, '구름많고': 1, '미션': 1, '나눔글꼴을': 2, '선호주제설정': 1, 'adescriptionremoveUrlfunctionaforvar': 1, 'c0c': 1, '클릭하세요': 1, '별자리': 2, '제대로': 1, '아티스트와': 1, '한울': 1, '바로이동': 1, '20161101041113': 1, '시스템글꼴': 1, '화': 1, 'LogErrorJSON': 1, '기존': 1, '2기': 1, '홈': 3, '를': 1, '스칼렛': 1, '흐리고': 2, '고객센터': 1, '주제형캐스트': 1, '랭킹': 1, '사이트로': 1, '때는': 1, '제공합니다': 1, '檢': 1, '제공되지': 1, '스타일에이드': 1, '자주': 2, '기사보기': 1, '앱': 3, '네이버뉴스': 1, '설치된': 1, '초보도': 1, '옴브레': 1, '다리': 1, '자동차': 1, '천연가습기': 1, '전문보기': 2, 'falserunOnloadfunctionbdcifdreturnvar': 1, '완료되지': 1, '국어사전': 1, '주목한': 1, 'httpnv2vetanavercomdrunit002APnrefreshx0': 1, '주요언론사': 2, '설정된': 1, '설치하세요': 1, '안': 1, 'new': 1, '부동산': 2, '기온': 4, '한게임': 1, '닫기': 6, '폰트를': 1, '1101': 1, '구름많음': 4, '켤': 1, '109': 1, '만드는': 1, '100': 4, '카테고리': 1, '공지사항': 1, '플러스': 1, '종합경제': 1, 'returnifloadedacompleteabonloadDonebonloadDonetruesetTimeoutd100elseifthisretry': 1, '다양한': 1, '하는': 1, '30': 2, '36': 1, '테스터도': 1, '않고': 1, '볼': 1, '추천': 1, '띠별': 2, '검색어저장': 6, '경우에': 1, '무난amp귀염': 1, '4월13일': 1, '통합검색': 1, '타임스퀘어': 2, 'txt': 5, '곰탕': 2, '독소': 1, '앱을': 1, '참여하면': 1, '뉴스': 3, '6': 4, '연예': 1, 'V뷰티': 1, 'type': 3, '최민': 1, '받습니다': 1, '개인정보': 1, '종료': 1, 'isSupportedFlicking': 1, '인물': 1, '검색어를': 2, '90': 1, '93': 1, '시크': 1, '대해': 1, '건강': 1, '열기': 2, '피부톤에': 1, '8위': 1, '지식교양': 1, 'TV연예': 1, '동작': 1, '북스': 1, '메뉴': 2, '살냄새': 1, 'urlhttpfinancenavercom': 1, '저장되지': 1, '나눔글꼴로': 2, 'strHost': 1, '7위': 1, '나만의': 1, '긴급체포…서울구치소로': 1, '글꼴설정': 2, 'Eshortcutname금융': 1, '1': 2, '회사소개': 1, 'httpnv1vetanavercomdrunit002ANtbsz2nrefreshx0': 1, '터치뷰티북': 1, 'Imageasrchttpcecsnavercommbudocumentlocationl1115DLScriptquSXInew': 1, '카페': 2, '증권': 2, '반드시': 1, '영자지': 1, '140': 1, '기록': 3, '급상승': 1, '가능합니다': 2, 'windowlocalStorageundefinedtrywindowlocalStorageclearcatchaifadescriptionLogErrorDL': 1, 'date': 1, '않은': 1, '네이버를': 1, '셀프': 1, 'or': 1, '7가지': 1, '월화드라마': 2, '이동': 1, '구름조금': 10, '검색어는': 1, '갓샘물': 1, '생각한대로': 1, 'charsetutf8ksetRequestHeadercharsetutf8ksend': 1, '운동법': 1, '추가하시려면': 1, '130': 2, '실시간': 1, '자세히보기': 1, 'clearLSfunctioniftypeof': 1, '연합뉴스': 1, '개인': 2, '운세': 6, '리빙푸드': 1, '보내기': 1, '20': 2, '바디미스트': 1, '더': 1, '주요뉴스를': 1, '블로그': 2, '0iikopenGETcltrueksetRequestHeaderContentTypeapplicationxwwwformurlencoded': 1, '브러싱': 1, '이벤트': 1, '앱스토어': 1, '대안전시를': 1, '시작페이지로': 1, '질문형': 1, '법': 1, '웨이브': 1, '자동완성을': 1, '오늘의': 1, '한때': 2, '지식iN': 2, '게임': 2, '생년월일': 2, '슬럼프냐': 1, '음식': 1, '뿌리가': 1, '생활': 2, '빠른': 1, '전송은': 1, 'ONOFF설정은': 1, '버튼을': 1, 'NAVER': 3, '사용하고': 1, '입력': 1, '87': 1, '최근검색어': 2, 'Username': 1, '경제': 2, '고데기': 1, '내PC': 1, '팔도의': 1, '7': 3, '영하': 2, '취소': 2, '재설치': 1, '블랙': 1, 'NPay': 1, '지워주세요': 1, '개인정보처리방침': 1, '상영': 1, '청약가점제': 1, '무료입니다': 1, '쇼핑': 2, '웹문서': 1, '유형': 1, 'Sign': 2, '여신': 1, '발생합니다': 1, '선택': 2, '굵어져': 1, '이': 1, '지도': 2, '지역설정': 1, '5회차': 1, '않는': 1, '보세요': 2, '손놓은': 1, '귀엽고': 1, '만들기': 1, 'TV캐스트': 5, '주간': 2, '구독설정': 1, '얼굴형에': 1, 'isLogin': 1, '2': 1, '다음캐스트': 1, 'isIPAD': 1, '이용자설문': 1, '해제': 1, '살리는': 1, '박근혜': 2, '투데이': 1, 'TLX': 1, '보호를': 1, '귀걸이': 1, '로그아웃을': 1, 'ArrayquSnew': 1, '고객님의': 1, '부진한': 1, '웹툰': 2, '정리': 1, 'copy': 1, '맞춰': 1, '날씨': 2, '11': 3, '10': 9, '도움말': 8, '12': 3, 'keyword': 1, '19': 1, 'etcreturn': 1, 'PC에서는': 1, '미리보기': 1, 'Connect': 1, '제거법': 1, '비선실세': 1, 'false': 5, 'sqarejson11': 1, '하락세냐': 1, '티': 1, '드라이': 1, '모든': 3, '무료로': 2, '알렛츠': 1, '인기': 1, 'null': 1, '묶으면': 1, '뷰스타리그': 2, 'truereturn': 1, '오류': 1, '해당': 1, '사전': 2, '뉴스이슈': 1, '포스트': 7, '가': 1, '달라져': 1, '각질': 1, '기업을': 2, '내일오후': 12, '개': 1, '없습니다': 2, '밤사이': 2, '볼륨': 1, '인상까지': 1, 'LogErrorfunctionbvar': 1, '메인에서': 1, '컨텍스트': 2, '켜기': 5, '74': 1, '있습니다': 4, 'clearLS': 1, '최근검색어에서': 1, 'refreshLcsetc': 1, '78': 1, '1위': 1, '4위': 1, '즐라탄': 1, 'b0bifthisquSbathisquSb': 1, '번호는': 1, '오픈캐스트': 1, '메인을': 2, '지자체': 1, '3위': 1, 'aDLScriptquSXIlengthforvar': 1, '하나보노의': 1, '문화': 1, '지역': 2, '않습니다': 2, '현장': 1, 'N드라이브': 1, '사용': 2, '최대': 1, '현재': 16, '제공하고자': 1, '8': 4, '다시': 3, '검색': 2, '뮤직': 3, '피부': 2, '자동완성': 13, '13': 1, '120': 1, 'abreadyStateiftypeof': 1, 'PASS': 1, '129': 1, '구독목록': 1, '용어사전': 1, '페이': 1, '서울': 1, '영상': 3, '신규': 1, '만나보세요': 1, '수': 2, '수지': 3, 'ifdocumentcookieindexOfnrefreshx1': 1, '메이크업': 2, 'mismatchbefore': 2, '광고': 3, '알림': 1, '전체': 2, '차테크': 1, '2번째': 1, '헬로아티스트': 1, '저녁': 1, '03': 1, '00': 1, '9위': 1, '영어사전': 1, '달의연인': 2, '09': 1, 'PC': 1, '3': 1, '완료': 1, '363': 2, 'b0bifthisquSbareturn': 1, '이전페이지': 2, '공익나눔': 1, '패션뷰티': 3, '검색해': 1, '주제별캐스트': 1, 'qstidx1': 1, '제이디': 1, '메인': 2, '공용': 1, '메일': 1, '2위': 1, '패피': 1, '주세요': 1, '다음': 2, 'PC에서': 1, '굿': 1, '선거일까지': 1, '백과사전': 1, '관심사에': 1, '선택하여': 1, '나눔글꼴': 8, '사건': 2, '장시호': 2, '징크스…내우외환': 1, '전체언론사': 2, '해': 1, 'httpcastboxshoppingnavercomsboxmainnhn': 1, '뷰티윈도': 1, '다운로드URL': 2, '립스틱은': 1, '검색어': 10, '손상모를': 1, '60': 1, '뚝…서울': 2, '있게': 1, '다운로드': 2, 'urlhttpweathernavercom': 1, 'mismatchafter': 2, '스포츠연예': 1, '활성화되었습니다': 1, 'Beta': 1, '설정': 1, '한자사전': 1, '의견을': 1, '서비스를': 1, '해야': 1, '계십니다': 1, '코디법': 1, '내일오전': 12, '생활위젯': 1, '음악': 1, '자라나도': 1, '확인': 1, '신고': 4, '160': 1, '보기': 3, '최순실': 5, '흐림': 4, '꿀팁': 1, '어울리는': 1, '삭제한': 1, 'qstsize3': 1, '뉴스스탠드': 2, 'isMyCast': 1, '이용약관': 1, '이유는': 1, '합니다': 1, '채소의': 1, '등록': 2, '스키니핏': 1, '쓰는': 1, '나는': 1, 'elseifgsetTimeoutg100injectScriptsfunctionvar': 1, 'in': 1, '행복검색': 1, '데일리': 1, '관계에': 1, '제휴제안': 1, '서비스': 2, '까지': 1, 'html': 2, '내역이': 1, '9': 4, '필요합니다': 1, '경우': 1, 'aundefinedbonloadDonebonloadDonetruecsetTimeoutd100bonloadd': 1, '문자받기': 2, '바로': 2, 'IT': 1, '펼치기': 1, '전문자료': 1, '디자이너': 3, '나은': 1, '더보기': 2, '영화': 5, 'nbsp나눔글꼴을': 1, '확인되지': 2, 'lcsdorefreshLcs': 1, '네이버me': 1, '최초설치가': 1, 'intxt': 2, '맑음': 15, '위치': 1, '교정': 1, '방송통신': 1, '동영상': 1, '전체보기': 1, '40': 1, '뷰★스타': 3, '저장됩니다': 1, '코스닥': 1, '10만': 1, '마이비즈니스': 1, '패밀리': 1, '쥬니버': 1, '4': 1, '바로가기': 5, 'match': 2, '국내': 1, '검색어로': 1, '검색어가': 1, '카페글': 1, '찾는': 1, '예보': 2, '약관': 1, '부족': 1, '라인': 1, '가볍고': 1, '57': 2, '51': 1, '50': 2, 'Forgot': 1, '책문화': 1, '배출하는': 1, '같은': 1, '주제별': 1, 'people': 1, 'displaylink': 1, '5위': 1, '110': 3, 'etcetcetcetcmrf1return': 1, '책': 2, '코디북': 1, '매거진전문지': 1, '아트어라운드': 1, '뷰티톡': 1, '일본어사전': 1, '끄기': 7, '제20대': 1, '비': 3, '설치': 4, '임의로': 1, '10위': 1, '포함': 2, 'Lshortcutname날씨': 1, '없다는': 1, 'ALLETS': 1, '촤촤': 1, '네이버SE': 1, 'image7': 1, '및': 3, '삭제': 4, '예뻐지는': 1, '℃': 38, '이전캐스트': 1, '매거진': 2, 'wwwnavercom': 1, '지금보다': 1, 'bthisquSlength1': 2, '입력하신': 1, '라이센스': 2, '내': 9, '72': 1, '동일한': 1, '블랙핑크': 2, '다음페이지': 2, '기기브라우저에': 1, '그룹의': 1, 'NEW': 1, '생동감': 1, '검색홈': 1, '정책': 2, '위해서는': 1, 'MY뉴스': 1, '코앞': 1, '긍정부정검색': 1, '롭스TV': 1, '시연': 1, 'var': 10, 'Corp': 1, '네이버': 15, '폴라': 3, 'function': 1, '기능을': 2, '자율화': 1, '주제판': 1, '영영사전': 1, '레이어': 6, '원': 2, '저장': 2, '후보에': 1, '안내': 1, '설치하시겠습니까': 2, '휘면': 1, '스포츠': 3, 'with': 1, '소중한': 1, '패딩': 2, '쇼핑캐스트': 2, '사이트': 3, 'up': 1, '연말': 1, '기능이': 5, 'anew': 1, '국회의원선거': 1, '메인뉴스': 1, '청소년보호정책': 1, '공연': 1, '연령별남녀별': 1, '카페명': 1, '원장님의': 1, '있어요': 1, '자세히': 2, '이민호': 3, '언론사별': 1, '해피빈': 1, '이것': 1, 'edescription': 1, '사용자가': 2, '48': 3, 'TV': 1, '저장할': 1, '118': 1, '공간의': 1, '5': 3, '이미지': 1, '휴대폰번호': 1, '저장해': 1, 'Password': 1, 'isMobile': 1, '사용자': 1, '보기위해서는': 1, '꺼져': 3, '매체보기': 1, '상승': 10, '전시회': 1, '믹스amp매치': 1, '뷰티쁠': 1, '로그인': 3, 'e': 1, 'Arrayretry0isLoadfunctionaforvar': 1, '우리집에사는남': 1, '컬러': 1, '2도': 2, 'svt': 1, '이전': 2, 'svr': 1, '이렇게': 1}\n"
     ]
    }
   ],
   "source": [
    "project(\"http://www.naver.com\")"
   ]
  },
  {
   "cell_type": "code",
   "execution_count": 44,
   "metadata": {
    "collapsed": false
   },
   "outputs": [
    {
     "name": "stdout",
     "output_type": "stream",
     "text": [
      "{'top7px': 1, 'overflowhiddenfloatleftmargintop1pxfontsize10pxlineheight12pxcolor81838cwhitespacenowrap': 1, 'titstory': 11, '0fontweightboldfontsize11pxlineheight13pxfontfamilytahomasansserifcolor949494': 1, '6px': 23, 'titissuerank': 2, 'overflowhiddenfloatleftwidth66pxheight39pxlineheight39pxbackgroundcolortransparentbackgroundposition378px': 1, 'suggestBox': 105, 'wrapthesong': 1, 'promotionimg': 8, 'linkprotect': 1, 'height103pxmargintop9px': 2, 'displayblockheight15pxmarginleft15pxpaddingtop14pxlineheight15px': 1, 'icocolon': 1, 'width46pxbackgroundposition215px': 1, 'realestateon': 2, 'left15px': 2, 'ratecontmargintop0': 2, 'overflowhiddenpositionrelativewidth278pxheight45pxborderbottom1px': 1, '결국': 1, '홈': 1, '팁': 2, 'border1px': 2, 'txtapp': 1, 'topbnr': 2, 'marginright7px': 1, 'icow04backgroundposition0': 1, '9px': 6, '쇼핑기획전': 1, 'bottom8px': 1, 'qafter': 1, 'movieon': 2, 'overflowhiddenpadding4px': 1, 'left260px': 1, 'a5a6acbordertop0': 1, 'titdaum': 1, 'displayblockheight30px': 1, '유지': 1, 'icosuggest2': 1, '백화점아우터': 1, 'btnlogin': 2, '자동차': 2, 'bottom7px': 1, 'eeeef0backgroundcolorfbfbfb': 1, 'overflowhiddenwidth201pxmargintop19px': 1, '많다는': 1, 'hide': 1, 'width110pxheight12pxmargin4px': 1, '9pxlineheight17px': 1, 'partevent': 33, 'backgroundposition378px': 1, 'wrapshop1': 1, 'numreader': 1, 'wrapshop3': 1, 'wrapshop2': 1, 'wrapshop5': 1, 'wrapshop4': 1, 'displayblockwidth40pxheight40pxmargin11px': 1, 'width232pxpaddingright9pxtextaligncenter': 1, 'positionabsolutetop45pxleft0width184pxheight220pxpaddingbottom5pxbackgroundcolorfff': 1, 'height555px': 1, 'backgroundurlhttpi1searchdaumcdnnetssearchall2011icoicosuggest20110721gif': 1, 'eaeaea': 1, 'icopushhover': 1, 'titelection': 3, 'appnew': 1, '98px': 2, '170pxtextindent9999px': 1, '터키': 1, 'logosbswidth24pxheight12pxmargin2px': 1, 'displayinlinefloatleftwidth31pxheight31pxmargin18px': 1, 'copytxt': 1, 'listmall': 3, 'norepeattextindent999em': 1, 'bottom21pxright295px': 1, 'height250px': 1, '444backgroundcolorfff': 1, '긴급체포': 1, '10번': 1, '다음앱': 3, 'wrapblog': 2, '곰탕': 2, 'paddingtop5px': 1, '살기': 1, '175': 2, 'spanlinkprogram': 1, 'norepeatcolorffftextaligncenter': 1, '뉴스': 3, 'backgroundurlhttpi1daumcdnnetdecotop2012startblognone20121023png': 1, 'continfodisplayblockheight28pxpaddingtop12pxfontsize0backgroundcolor0047a8textaligncenter': 1, '소호BEST': 1, '1440px': 1, 'verticalreader': 20, 'floatleftlineheight15px': 1, 'horizontalimg': 12, '95': 4, 'color222': 2, 'appimport': 2, 'labsecurity': 2, 'backgroundposition349px': 2, '스토크시티': 1, '성향': 1, 'defaultimg': 23, 'overflowhiddenwidth181pxmargintop16pxletterspacing1px': 1, 'txtresultmarginright9pxfontweightbold': 1, 'color5778ff': 1, 'backgroundposition40px': 5, 'wrapsearch': 1, '목록': 1, 'height44pxmargin0': 1, 'color3c77eb': 1, '19px': 5, '425px': 1, '4pxlineheight18pxbackgroundurlhttpi1daumcdnnetdecocomicstopdeco2014v2imgdaumvertv9pngv1664': 1, 'backgroundposition15px': 1, '페이지': 12, '4pxfontsize11pxlineheight14pxtextalignleftwhitespacenowraptextoverflowellipsis': 1, 'LA': 1, 'cafeguisortablehelper': 1, 'displayblockwidth93pxheight27pxmargin15px': 1, 'HyoLyn': 1, 'w26': 2, 'w27': 2, '960px': 1, 'w25': 2, 'w22': 2, 'w23': 2, '0directionltr': 1, 'w21': 2, 'answer': 2, 'width182pxheight123pxmargin0': 1, 'w28': 2, 'w29': 2, 'relaycenter': 1, '제과제빵이': 1, 'overflowhiddenwidth776pxpadding13px': 1, '1815': 1, 'weathercomp': 30, '50px': 3, 'lablogin': 1, '79px': 1, '인기기획전': 1, '강릉': 1, 'displayblockwidth248pxmargin0': 1, 'EXR샵': 1, 'displayblockheight22pxlineheight22pxtextaligncentercolor777b80backgroundcolortransparent': 2, 'CFO': 1, 'bnrtype4width132pxheight35pxmargintop5pxpaddingtop8pxbackgroundurlhttpi1daumcdnnetdecocomicstopdeco2014v2electionbgelection2016top4160317gif': 1, 'dbdbdbborderleft1px': 1, 'quot혐의': 1, 'color25ad8b': 1, 'top135pxleft369pxwidth21pxheight17pxbackgroundposition60px': 1, 'backgroundposition130px': 5, 'icow08backgroundposition0': 1, 'width278pxmargintop5px': 1, 'floatleftwidth53pxheight20pxfontsize11pxlineheight20pxbackgroundposition170px': 1, 'dee1e6': 1, 'iconewdisplaynonepositionabsolutetop18pxwidth10pxheight10pxbackgroundposition16px': 1, 'numstatus': 4, 'boxtit': 11, 'linkhome': 3, 'overflowhiddenpositionabsolutebottom14pxleft11pxwidth100pxheight18pxpaddingleft30pxlineheight21pxbackgroundposition0': 1, '844px': 1, 'loginset': 11, '실시간': 2, 'overflowhiddenpositionabsolutetop30pxleft55pxwidth71pxheight87pxtextaligncenter': 1, '9위': 2, 'overflowhiddenwidth280pxheight35pxlineheight15px': 1, 'floatleftlineheight15pxletterspacing1px': 1, '전주': 1, 'color777': 1, 'clb': 1, 'todaylink': 8, '0fontsize11pxlineheight13pxbackgroundposition0': 1, 'linkwebfontweightboldfontsize12pxlineheight24pxcolor7b8ba1': 1, 'd2dbe8letterspacing1px': 1, 'numindex': 3, '지도부론': 1, '정상엔': 1, '펼치기': 1, 'positionabsolutetop120pxleft0width280pxheight309pxbackgroundposition0': 1, '극복에': 1, 'linkdirect': 1, 'floatrightwidth62pxheight26pxbackgroundposition170px': 1, 'overflowhiddenpaddingtop3px': 1, '높은': 1, '오늘의': 3, '운세': 1, 'repeatxletterspacing1pxclearboth': 1, 'txtthesong': 1, '89pxbackgroundurlhttpi1daumcdnnetdecocomicstopdeco2014v2electionbgelection2016top1gif': 1, 'typefstbig': 7, '000opacity01filteralphaopacity10': 1, '1226pxletterspacing1px': 1, 'topbnroverflowhiddenwidth653pxborderbottom1px': 1, '660px': 4, 'positionabsolutetop0left0zindex1width14pxheight13pxtextindent9999pxcursorpointer': 1, '려': 3, '1020px': 1, 'headlayer': 1, '450px': 1, 'positionabsolutepaddingright7pxfontsize11pxlineheight14pxbackgroundposition100': 1, 'color262626letterspacing1px': 1, '990px': 3, 'webtoonon': 2, 'overflowhiddenwidth278pxpaddingtop31px': 1, '비밀번호': 2, '1870px': 1, '막돼먹은': 2, 'left59pxwidth58pxbackgroundposition60px': 1, 'backgroundposition290px': 1, 'layerevent': 1, '광고': 1, '인도방랑기': 1, '김세아': 2, '타입': 1, 'wrapcafe': 2, 'overflowhiddenfloatleftwidth89pxheight64pxmarginright3pxpaddingtop11pxfontweightboldfontsize11pxlineheight12pxbackgroundurlhttpi1daumcdnnetdecocomicstopdeco2014v2bgdaumv9pngv1683': 1, 'positionabsolutetop30pxleft1pxzindex0width179pxheight87pxbackgroundimageurlhttpi1daumcdnnetdecocomicstopdeco2014v2transparentgif': 1, 'icodisk': 1, '3년째': 1, 'positionabsolutetop10pxright3pxfontweightnormalfontsize12pxfontfamilyVerdanasansserifcolorfff': 1, 'icomarket': 1, '완성도': 1, 'displayblockheight100': 1, 'imgelection2016width11pxheight11pxmargin5px': 1, 'positionabsolutetop34pxleft0height33pxpadding0': 1, 'left218px': 1, 'txtgap': 1, 'zindex1backgroundcolor4e82eebackgroundposition0': 1, 'linkbnr2': 1, 'floatleftwidth13pxheight13pxmarginright3px': 1, '0paddingtop4pxfontbold': 1, 'textdecorationunderline': 5, '지도': 3, 'layerservice': 26, 'txtslash': 3, 'top35px': 1, '174': 2, '최근': 1, '광고안내': 1, '때': 2, 'ddaycontdisplayinlineblockoverflowhidden': 1, 'contmenu': 7, 'top': 1, '이대': 1, 'linkphone': 1, '처음이신가요': 1, 'positionabsolutetop222pxleft214pxzindex103width466pxheight380pxbackgroundurlhttpi1daumcdnnetdecotop2012startpopie620121026png': 1, 'displayinlinecolorfff': 1, '보내줄': 1, 'inputselecttextareabutton': 1, 'width179pxheight116px': 1, 'displayblockfontsize11pxcolor737373textaligncenterletterspacing1px': 1, 'width100paddingright0fontsize11pxcolorbababa': 1, '웹툰': 2, '악마39': 1, 'linktithover': 24, 'icoplay': 9, 'lifloatleftmarginleft13px': 1, '1pxborder0': 3, 'headermainasidearticlefooter': 1, '1pxbackgroundcolore8e8e8': 1, 'backgroundfff': 1, 'minus': 1, '67px': 1, '인기': 2, '겟잇뷰티쿠션': 1, 'e1e1e1borderleft1px': 1, 'width46pxbackgroundposition2px': 1, 'infoevent': 1, 'overflowhiddenpositionabsolutetop19pxright79pxheight25pxbackgroundimageurlhttpi1daumcdnnetdecocomicstopdeco2014v2transparentgiftextindent9999px': 1, '650px': 1, '7pxcolor000': 1, '링크모음': 3, 'bottom20pxleft155px': 2, '인재채용': 1, 'width45pxbackgroundposition130px': 1, 'displayinlineblockpositionrelativewidth280pxheight45pxborderbottom1px': 1, '사랑하는': 1, 'floatleftpadding0': 4, 'displayinlineoverflowhiddenfloatleftwidth83pxheight93pxpadding23px': 1, '0px': 1, '천안시': 1, 'margintop9pxlineheight18pxcolor5b5b5b': 1, '생활기': 1, 'floatleftwidth25pxheight15pxlineheight15pxmargin2px': 1, 'icosaenuribackgroundposition20px': 1, 'positionrelativewidth181pxpaddingtop22px': 1, '6pxborderright1px': 1, 'parttoday': 138, '0backgroundposition485px': 1, 'colorg': 11, 'height17pxbackgroundposition0': 1, 'left212px': 1, 'wraptv': 10, '0lineheight15pxbackgroundcolorfff': 1, '한라산': 1, 'titnews': 4, 'sportson': 2, 'copy': 1, 'backgroundposition170px': 11, 'width123px': 1, '14pxbackgroundposition10px': 1, '티스토리': 1, 'titthumb': 1, 'bnrtype6': 1, 'bnrtype5': 1, 'numtime5backgroundposition50px': 1, 'bnrtype3': 1, '검색': 3, 'displayblockoverflowhiddenpositionrelativewidth653pxheight40px': 1, 'toeaebefbackgroundimagemozlineargradienttop': 1, 'displaynonepadding0': 1, 'marginleft1pxfontnormal': 1, 'cursordefault': 1, 'descthumbhover': 1, 'color2156c0': 2, 'bar': 3, '699px': 1, 'listfavorsch': 3, 'titfavor': 3, 'color24adc0': 1, 'width267pxpadding26px': 1, 'marginleft3pxpaddingleft13pxbackgroundurlhttpi1daumcdnnetimgsrcsearchsearchall2012icoicocomm2120614gif': 1, 'gameon': 2, 'icow09backgroundposition0': 1, 'EPL': 1, 'margintop9pxlineheight19pxcolor757474': 1, 'floatleftpaddingright4px': 1, '100px': 3, 'nummsg': 1, 'titbrunch': 4, '닫기': 2, 'top75pxwidth367pxheight20pxpadding8px': 1, 'displayinlineblockpadding11px': 1, 'best': 3, 'top0right18px': 1, 'layoutpromotion': 2, 'paddingtop16px': 1, 'wrapbestreader': 1, 'aactive': 1, '마을에또': 1, '17pxborder1px': 1, 'linkagora': 7, 'paddingleft46pxbackgroundposition0': 1, 'newg': 2, '구': 1, 'width13pxbackgroundposition170px': 1, 'inpagain': 1, 'txtlabel': 7, 'top83pxleft365px': 1, 'tiertopexpand': 1, '백과사전': 1, '달래기': 1, 'marginleft3pxfont12px14px': 2, '롯데닷컴': 1, 'top156pxleft229px': 1, 'tophead': 4, 'teamaway': 1, '어학사전': 1, 'floatleftpositionrelativezindex0width280pxheight120pxbackgroundurlhttpi1daumcdnnetdecocomicstopdeco2014v2bgdaumv9pngv1683': 1, 'linklive': 3, 'left7px': 1, 'width51pxbackgroundposition180px': 1, 'displayblockoverflowhiddenwidth78pxheight16pxmargintop8pxfontweightboldlineheight17pxcolorfffletterspacing1px': 1, 'titbook': 4, 'rolltxt': 1, 'margintop10pxlineheight19pxcolor7c7c7c': 1, 'titentertain': 4, 'displayinlinepaddingleft11pxbackgroundurlhttpi1daumcdnnetdecocomicstopdeco2014v2barplatepngv1102': 1, 'overflowhiddenwidth271pxmarginleft3pxletterspacing1px': 1, '한': 1, '125px': 6, '쉬는': 1, 'displayblockmargintop2pxfontsize11pxcolor262626': 1, '200px': 3, '3f78dffontsize12pxlineheight17pxfontfamily굴림gulimsansserifbackgroundcolorfff': 1, 'whitespacenowrap': 1, 'linkimghover': 2, 'contsort': 2, 'dotg': 1, 'eventshop': 2, '아웃도어': 1, '1pxlineheight14pxverticalaligntopwhitespacenowrap': 1, 'width21pxbackgroundposition0': 1, 'left80pxwidth177pxbackgroundposition285px': 1, 'tflogin': 1, '최순실': 4, 'width188pxheight159pxpadding0': 1, '집단': 1, '750px': 1, 'favoron': 2, 'linkservice': 1, 'eaebefbackgroundimagelineargradientto': 1, 'cont': 2, 'floatleftwidth21pxheight23pxmargintop5pxbackgroundposition120px': 1, '자체가': 1, 'overflowhiddenwidth181pxheight142pxbackgroundurlhttpi1daumcdnnetdecocomicstopdeco2014v2bgweatherpngv1102': 1, '일본에서': 2, 'pagedaum': 6, 'd8d9dbborderbottom1px': 1, 'overflowvisiblepositionabsolutetop28pxright0widthauto': 1, 'linkmore': 2, '0℃': 1, '통합': 1, 'plateg': 13, 'floatleftmargin13px': 2, '13pxpaddingright6pxfontsize11pxbackgroundposition100': 1, 'overflowhiddenpositionabsolutetop0left0height18pxpadding0': 1, '박보검': 1, 'linkjoin': 1, '0textalignrightletterspacing0': 1, 'bottom22pxleft265px': 2, '수준': 1, 'icoindebackgroundposition60px': 1, 'titmyset': 1, '11pxfontsize14pxlineheight17pxwhitespacenowraptextoverflowellipsis': 1, '71pxcolor666letterspacing1px': 1, '180px': 2, 'backgroundcolorfff': 1, '9pxlineheight15px': 1, '0lineheight15pxbackgroundposition270px': 1, 'icoclip': 1, 'displayblockoverflowhiddenwidth287pxheight77pxpadding15px': 1, '13명': 1, 'backgroundposition30px': 2, 'width30px': 1, 'displayblockpositionrelativeheight100px': 1, '급이다른옷': 1, 'numelection2016width7pxheight9px': 1, 'paddingleft9pxbackgroundposition4px': 1, 'iconew': 1, '추천': 2, 'ㅈㅊ': 1, 'padding0': 7, 'left': 2, 'verticalimg': 13, 'icocafehot': 1, '만들어졌다quot': 1, 'icofavor': 1, 'shortcutghover': 1, '간': 1, 'layertoday': 50, 'quotes': 1, 'iconewright11px': 1, 'overflowvisibleheight340px': 1, '것': 1, '447px': 1, '1pxbackgroundposition145px': 1, 'margintop5pxfontsize11pxcolor878787letterspacing1px': 1, '있는': 1, '노조하니': 1, '17pxbackgroundposition100': 1, '3px': 4, '379pxcolor5f6876': 1, '패션플러스': 1, '경기시간': 1, 'overflowhiddenpositionabsolutebottom15pxleft11pxwidth100pxheight19pxlineheight23pxbackgroundposition0': 1, 'titnotice': 1, 'nameuser': 1, 'left224pxbackgroundposition225px': 1, '공감': 1, 'txtcont': 7, '72pxcolor878787letterspacing1px': 2, 'backgroundposition390px': 1, '카카오': 1, '국민에': 1, '0lineheight18pxbackgroundurlhttpi1daumcdnnetdecocomicstopdeco2014v2btndaumv4pngv1669': 1, 'txtstockpositionabsoluteleft0top0width10pxheight13px': 1, 'relmy': 1, 'txtinfodisplayinlineblockfontsize12pxcolorfffverticalaligntop': 1, 'suggestBoxreverseType': 2, 'listimgtxt': 13, 'dindex': 7, '11pxlineheight18pxbackgroundposition90px': 1, 'btnvideo': 1, 'wrapstoryfunding': 3, 'bnrtype3width147pxheight39pxbackgroundurlhttpi1daumcdnnetdecocomicstopdeco2014v2electionbgelection2016top3gif': 1, 'bookon': 2, 'night': 8, 'backgroundposition100px': 2, '2px': 7, 'iconpadbackgroundposition30px': 1, '467px': 1, 'linkbnr': 3, 'wrapfun': 1, '안녕하세요': 2, 'btnsearch': 1, 'width75pxbackgroundposition546px': 1, 'displayblockheight12pxpaddingtop7pxfontsize10pxlineheight12pxcolor848484': 1, 'bodydivdldtddulollih1h2h3h4h5h6precodeformfieldsetlegendtextareapblockquotethtdinputselecttextareabutton': 1, 'btnassay': 1, '39비선실세39': 1, '탕': 1, 'displayinlineblockmargin4px': 1, '내마음에쏘옥': 1, '탭': 10, 'bottom': 2, '아이오아이': 1, 'top251pxleft370pxwidth20pxheight24pxbackgroundposition15px': 1, 'positionabsolutetop33pxright0width515pxpadding16px': 1, 'txtelectionfloatleftwidth100pxfontsize11pxlineheight24pxcolorfff000': 1, 'backgroundposition546px': 2, 'msgreset': 1, 'left158px': 1, 'wrapmiznet': 1, 'boxcont': 1, 'displayinlinefloatrightwidth84pxheight15pxmargin14px': 1, '0letterspacing1pxcursorpointer': 1, '남의': 1, 'wrapelection2016': 81, 'padding36px': 1, 'descbnrdisplayblockoverflowhiddenpositionabsoluteleft334pxtop14pxwidth250pxfontsize11pxcolorfffletterspacing1pxwhitespacenowraptextoverflowellipsis': 1, '0backgroundurlhttpi1daumcdnnetdecocomicstopdeco2014v2bgdaumv9pngv1683': 1, 'width17pxbackgroundposition93px': 1, '및': 2, 'spetype2': 6, 'spetype3': 3, 'spetype1': 3, 'txtblue': 1, '우는': 1, 'plus': 1, '수습': 1, '접근성': 1, '546px': 1, '17pxbackgroundposition0': 1, '20pxtextaligncenter': 1, 'paddingleft50pxbackgroundposition0': 1, '블로그': 3, '초특가': 1, 'left460px': 1, 'linksvc': 2, 'paddingleft44pxbackgroundposition0': 1, 'paddingtop25px': 2, '무리하게': 1, 'imginit': 11, '신정자': 2, '전력분석': 1, 'news5tabon': 2, '519035': 1, 'top0left0width54pxheight41pxbackgroundposition110px': 3, '89px': 3, '1380px': 1, '156px': 10, '326pxcolor333': 1, 'color888': 1, 'cafeon': 2, '신규앱': 1, '캠핑용품': 1, '롯데i몰': 1, 'noticecafe': 2, '6': 1, 'overflowhiddenwidth278pxheight307pxpaddingtop31pxborder1px': 1, 'displayinlinefloatrightpadding0': 2, 'color555': 4, '안내': 2, '11pxfontsize12pxlineheight17px': 2, '스포츠': 3, '변경': 1, '웹': 1, 'overflowhiddenwidth659px': 1, 'fontsize20pxlineheight23px': 1, '13pxfontsize11pxlineheight14pxcolor959595letterspacing1pxverticalaligntop': 1, 'padding1px': 2, 'left174px': 1, 'listtoday': 9, '4℃': 1, 'labid': 1, 'top47pxwidth94pxheight16pxpadding5px': 1, 'sectionmedia': 51, 'floatleftcolor5f6876': 1, 'left53px': 1, '66px': 9, 'floatleftwidth13pxheight13pxmargintop1pxbackgroundcolortransparent': 1, 'shop1on': 3, 'titelectionfloatleftwidth97pxheight18pxmargin2px': 1, 'dotted': 1, 'tit': 1, 'mystockon': 2, '14px': 2, '1814304': 1, 'headlinespe': 11, 'eaebefbackgroundimageolineargradienttop': 1, 'top81pxleft369px': 1, '내자': 1, '대선은': 1, 'labsteady': 1, 'top8pxright8px': 1, 'floatrightlineheight15pxletterspacing1px': 1, '서비스약관': 1, 'HOT': 1, 'fontsize11pxletterspacing1px': 1, 'linkconthover': 3, 'floatleftwidth60pxheight55pxmargin33px': 1, 'shop3on': 3, '개인정보': 1, '220px': 4, 'pagetype2': 12, 'icolive': 1, 'paddingleft12pxbackgroundposition0': 1, 'fst': 6, '옥션': 1, '10pxfontweightboldfontsize12pxcolor0d3679letterspacing1pxtextaligncenterwhitespacenowraptextoverflowellipsis': 1, 'displayblockoverflowhiddenheight40pxheight63pxpadding12px': 1, 'txtblue2': 1, 'color6d3fdf': 1, '거닐다': 1, 'linkdaum': 1, 'titauto': 4, '675pxcolor7a7c83letterspacing1px': 1, 'footdaum': 12, 'positionabsolutetop64pxleft0width940pxheight64px': 1, 'partspecial': 19, 'displayblockoverflowhiddenheight30pxpaddingtop14pxlineheight15pxtextaligncentercolor5b6473': 1, '볼': 1, 'show': 1, '0': 235, 'linkhelp': 1, '떠넘기나': 1, 'Day': 1, 'floatleftwidth63pxheight42pxmargin0': 1, 'eaeaeaborderbottom1px': 1, '36px': 6, 'textdecorationnone': 4, 'displayinline': 1, 'scoregame': 4, '인천': 1, '220pxverticalaligntoptextindent9999px': 1, 'timecont': 11, 'innerfoot': 1, 'ahover': 1, 'width42pxbackgroundposition270px': 1, '77px': 1, 'item': 1, '11pxbordertop1px': 1, '파티': 1, '66pxcursordefault': 1, 'continfodisplayblockoverflowhiddenheight27pxpadding12px': 1, 'left110px': 1, 'infomy': 1, 'numissue': 1, '베스트100': 1, 'backgroundposition340px': 2, 'fontfamily굴림gulimsansserifcolor363b4a': 1, 'numelection2016floatleftwidth11pxheight16px': 1, '110pxtextalignrightletterspacing0': 1, '55pxtextindent9999pxcursorpointer': 2, '나서야quot': 1, '50pxmargintop22pxbackgroundcolorf0f0f0clearboth': 1, 'imgvert': 2, '라이프': 2, 'cad0d9borderleft1px': 1, '암': 1, 'overflowhiddenwidth271pxheight55pxmarginleft7pxpaddingtop6px': 1, 'msgsave': 1, 'width179pxheight95px': 1, '하프클럽': 2, '丁의장여야': 1, 'icow19backgroundposition0': 1, '부동산': 3, '1200px': 1, '전통이': 1, 'color4559e9': 2, '부동산으로': 1, '0verticalaligntop': 1, 'msgmyset': 1, 'displaytablecellpositionabsoluteleft0top0width100height100': 1, 'titgame': 4, 'ratecont': 12, 'innermain': 1, 'overflowhiddenpositionrelativewidth188pxheight339pxbordertop1px': 2, '199px': 1, '주요': 2, '중계센터': 1, 'zindex1backgroundcolor4e82eebackgroundposition171px': 1, 'rank10': 1, 'linkconthome': 5, 'overflowhiddenpadding5px': 1, 'numtime2backgroundposition50px': 1, 'verticalsong': 17, '170px': 1, 'tistoryguisortablehelper': 1, 'clearboth': 1, '수원': 1, 'displayblockmargin6px': 1, 'displayinlineblockwidth280pxheight150pxfontsize0lineheight0verticalaligntop': 1, 'txtdaum': 2, '0500': 1, 'linksvcmore': 1, 'titsports': 4, 'icow15backgroundposition0': 1, '연예': 2, '32pxfontweightboldbackgroundposition0': 1, '가을': 1, 'icorecom': 1, 'titinfomarginright10px': 1, '칸투칸': 1, '35pxcolor444': 1, 'titconthover': 1, '여성다운자켓': 1, 'width36pxheight13pxmargin0': 1, 'overflowhiddenwidth653pxheight40px': 1, 'linkelectionfloatleftpaddingtop9pxmarginright14px': 1, 'width181pxheight118px': 1, '0backgroundcolortransparent': 1, 'listissue': 21, '6pxlineheight20pxbackgroundurlhttpi1daumcdnnetdecocomicstopdeco2014v2imgdaumvertv9pngv1664': 1, 'displayinlineblockpositionabsolutetop16pxlineheight15pxverticalaligntop': 1, '8위': 2, 'listdaumapp': 5, 'overflowhiddenbackgroundurlhttpi1daumcdnnetdecocomicstopdeco2014v2btndaumv4pngv1669': 1, 'wrapfavor': 9, 'textindent9999px': 1, 'Daum': 1, 'topservice': 15, '7px': 5, 'txtlivemargintop7pxverticalaligntop': 1, '26pxborderbottom1px': 1, '29px': 1, 'noneverticalaligntop': 1, 'headdaum': 2, '재밌는': 2, 'uarr': 20, 'tfkeyword': 1, '860px': 1, 'overflowhiddenpositionabsolutetop48pxleft95pxwidth13pxheight16pxbackgroundposition0': 1, 'fontweightbold': 3, '잠시': 1, 'icosteady': 1, 'margintop14px': 1, 'floatleftpositionrelativewidth427pxpaddingleft25px': 1, '빈병사재기': 1, 'width54pxbackgroundposition40px': 1, 'positionabsolutebottom2pxleft0width13pxheight13px': 1, 'btnlogout': 1, 'width100pxheight14pxlineheight14pxbackgroundcolortransparentbackgroundposition145px': 1, 'positionrelativecolor383b42': 1, 'linktitwidth70pxfontsize12pxcolor0d3679letterspacing1px': 1, 'boxlst': 3, 'innertag': 1, 'backgroundurlhttpi1daumcdnnetdecocomicstopdeco2014v2txtdaumv13pngv1687': 1, 'width31pxbackgroundposition310px': 1, 'titshop5': 3, 'titshop4': 3, 'floatright': 2, 'titshop1': 3, 'abb5bdbordertop0': 1, 'titshop3': 3, 'titshop2': 3, 'overflowhiddenpositionabsoluteleft24pxwidth165pxheight25pxpaddingleft10pxfontsize11pxlineheight26pxcolor96969bletterspacing1pxcursortext': 1, 'displayblockoverflowhiddenheight13pxmarginbottom2pxfontweightboldfontsize11pxlineheight13pxcolor477ae4whitespacenowraptextoverflowellipsis': 1, '정보': 8, 'q': 1, 'imgelection2016floatleftwidth5pxheight5pxmargin5px': 1, 'displayblock': 36, 'linkrecom': 1, '구름조금': 1, '1430px': 8, '적합해': 1, 'conttrendshop': 15, 'displayblockoverflowhiddenfloatleftwidth88pxheight34pxmargintop1pxfontsize12pxlineheight18pxletterspacing0': 1, 'lst': 1, 'rellink': 1, 'e8e8e8lineheight20pxbackgroundcolorfbfbfb': 1, '14pxbackgroundposition450px': 1, 'w24': 2, 'floatleftbackgroundposition0': 1, '좋은': 1, 'txtpso': 1, 'width63pxbackgroundposition401px': 1, 'backgroundcolorf0f0f0': 1, 'blockquote': 1, 'w20': 2, '7pxbordertopnoneborderbottom1px': 1, '옆면': 1, 'admaintopad': 1, '277pxcolor2c74e0': 1, 'headlineimg': 12, '불독만': 1, '1140px': 1, 'displayinlineblockpaddingright10pxmargintop11pxbackgroundposition100': 1, 'cursorpointer': 1, 'displayblockoverflowhiddenwidth174pxheight29pxpadding18px': 1, 'icow18backgroundposition0': 1, 'displayinlineblockwidth2pxheight7pxmargin4px': 1, 'displayinlineblockwidth18pxheight7pxmargin4px': 1, '제목': 22, '영상': 1, 'contthesong': 4, 'displayblockfontsize11pxlineheight14pxcolor878787': 1, '0backgroundposition70px': 1, 'overflowhiddenfloatleftpaddingleft11pxbackgroundurlhttpi1daumcdnnetdecocomicstopdeco2014v2imgdaumvertv9pngv1664': 1, '1165px': 1, 'contshopbest': 37, 'positionabsolutetop0left92pxwidth154pxheight75pxpaddingleft12pxfontsize11pxbackgroundcolorfbfbfbbackgroundposition285px': 1, 'inpsteady': 1, 'linkthumb': 4, 'G마켓': 1, '280pxtextaligncenter': 1, '중': 1, 'width28pxbackgroundposition75px': 1, 'numtime3backgroundposition50px': 1, '미즈넷': 2, 'cursornone': 1, 'eaebefbackgroundcolorf9fafbcolor222letterspacing2pxtextaligncentertextdecorationnonewebkitboxshadowinset': 1, 'listgoods': 7, '춘천': 1, '65pxtextindent9999px': 1, 'width179pxheight183px': 1, 'backgroundposition605px': 2, 'svcmorelink': 1, 'positionrelativefloatleftwidth92pxheight45pxpadding1px': 1, 'bline': 1, 'displayblockoverflowhiddenheight28pxwordbreakkeepall': 1, '379px': 1, 'width188pxheight283px': 1, 'backgroundposition401px': 2, 'height249px': 1, 'positionabsolutetop38pxleft0zindex9999width100padding0': 1, 'width224px': 1, 'displayinlineblockwidth653pxborderbottom1px': 1, 'wrapmycont': 1, 'floatleftwidth280px': 1, '美': 1, 'stocksteady': 2, 'overflowhiddenpositionabsolutetop50pxleft91pxwidth17pxheight14pxbackgroundposition40px': 1, '회사소개': 1, 'white': 1, 'overflowhiddenwidth170pxpadding0': 1, 'width190pxheight160pxborderbottom1px': 1, '나이가': 1, 'top61pxheight26pxlineheight28px': 1, 'nonebackgroundcolortransparentcursorpointer': 1, 'floatleftpaddingleft6pxlineheight15pxbackgroundposition0': 1, 'f3f3f3fontsize11pxfontfamily돋움dotumsansserifbackgroundcolorf8f8f8letterspacing1pxclearboth': 1, '보호를': 1, 'left132pxwidth101pxbackgroundposition410px': 1, '인': 1, '아닙니다': 1, 'colore73923': 1, 'wraptabcont': 12, 'brunchon': 2, 'btnoff': 3, '특가세트구성': 1, '날씨': 3, '11': 1, '10': 1, 'icow02backgroundposition0': 2, 'wraptierfixcont': 1, '330px': 3, '365px': 2, 'eeeef0': 2, 'e1e1e1borderleft0': 2, 'icow12backgroundposition0': 1, 'wraplife': 1, 'icow10backgroundposition0': 2, '길고양이를': 1, 'backgroundposition1px': 1, 'a9abb0bordertop0': 1, '전체': 1, '전체보기': 2, 'overflowhiddenbackgroundurlhttpi1daumcdnnetdecocomicstopdeco2014v2icodaumv8pngv1669': 1, 'contlive2': 8, 'paddingleft14pxcolor5f6876backgroundposition0': 1, '25': 2, 'displayinlineblockwidth278pxheight562pxborder1px': 1, 'height50px': 1, 'width397pxheight283px': 1, '안될듯': 1, 'floatleftpadding14px': 1, 'height291pxpaddingtop36px': 1, '1560px': 1, 'positionabsolutetextindent9999pxcursorpointer': 1, '9pxborder1px': 1, 'icotopic': 2, '15px': 15, '2℃': 1, 'numpercentfontweightbold': 1, 'overflowhiddenpositionrelativewidth500pxheight53px': 1, 'a5a6accolor000': 1, 'overflowhiddenpositionabsolutetop278pxleft139pxwidth188pxheight38pxbackgroundimageurlhttpi1daumcdnnetdecocomicstopdeco2014v2transparentgiftextindent9999px': 1, 'descthumb': 1, '7pxpadding1pxbackgroundposition465px': 1, 'webkitappearancenone': 1, 'icog': 1, 'wrapauto': 1, 'icotime': 1, 'overflowhiddenwidth179pxheight87pxbordertop1px': 1, '1760px': 1, '1위': 2, 'b5b8bfborderradius12pxfontsize52pxlineheightnormalbackgroundimagewebkitgradientlinear': 1, 'rgba000006': 1, '720px': 1, 'height15px': 1, 'txtnotice': 1, 'btnlayer': 2, 'top0left0width54pxheight41pxbackgroundposition55px': 2, 'backgroundposition413px': 2, 'bottom16pxleft416px': 1, '227pxcolored5c5e': 1, 'overflowhiddenfloatleftwidth127pxmarginright5pxpaddingleft9px': 1, '지역': 2, '소개': 1, 'floatleftwidth46pxheight25pxmarginright6pxbackgroundposition0': 1, 'cad0d9verticalaligntop': 1, 'descstoryhover': 1, 'titfun': 4, '한미약품': 1, '현재': 9, 'wraptip': 10, '너무': 1, '최선quot': 1, 'blogguisortablehelper': 1, '부인middot도망': 1, 'height62px': 1, 'margintop7pxlineheight19pxcolor757474': 1, '0font11px': 1, 'btnmmsrelay': 1, '0colorfff': 1, 'numdday1backgroundposition0': 1, 'icocelsius': 1, '손흥민': 1, 'titrealestate': 4, '우리': 1, 'marginleft2pxfontsize14pxcolordedede': 1, '눌러주세요': 22, 'iconewdisplaynone': 2, 'backgroundcolortransparent': 1, 'icomono': 1, 'numrate8backgroundposition25px': 1, '올해': 1, 'linklivedisplayblockoverflowhiddenwidth100height40pxfontsize0lineheight0backgroundnorepeat': 1, '뭐2만원대': 1, 'displayblockpadding5px': 1, 'margintop2px': 1, '8℃': 2, 'colord5d4d8': 1, 'numtime1width5pxbackgroundposition50px': 1, '740pxcolordc287ccursorpointer': 1, 'overflowhiddenheight19pxpadding2px': 1, 'btnlocate': 1, '정도': 1, '11번가': 1, 'linktithovercolor0d3679': 1, '49px': 1, 'wrapsub': 3, '웹접근성안내': 1, 'a5a6acborderleft1px': 2, 'displayblockoverflowhiddenpositionrelativewidth280pxheight339pxmargintop5px': 1, '880px': 5, '60px': 3, 'overflowhiddenwidth188pxpaddingtop10pxbordertop1px': 1, 'edededbackgroundcolorf8f9fa': 1, '3': 1, 'displayblockpositionabsolutetop0left0width280pxpaddingtop120pxtextaligncenter': 1, 'paddingleft14pxbackgroundposition1px': 1, 'titcafe': 4, 'overflowhiddenpositionabsolutewidth0height0lineheight0textindent9999px': 1, '판다': 1, 'displayinlinefloatleftwidth358pxheight18pxpadding0margin9px': 1, 'mycontfoot': 1, 'floatleftwidth201px': 1, '900pxbackgroundcolortransparenttextindent9999pxverticalaligntop': 1, '250px': 5, 'arialbackgroundurlhttpi1searchdaumcdnnetssearchall2011icoicosuggest20110721gif': 1, 'linkcont': 21, '405px': 1, 'rankcont': 1, 'layoutheadlinevertical': 1, '주세요': 1, '다음': 8, '20px': 6, 'backgroundposition180px': 4, 'icow14backgroundposition0': 1, '전소미': 1, 'left69px': 1, '0lineheight12px': 1, 'positionabsolutetop0right0width940pxheight33pxborderbottom1px': 1, 'd8d9dbverticalaligntop': 1, '연애': 1, 'listimg': 22, 'cafeg': 6, '210px': 1, 'color': 1, 'top129pxwidth167pxheight23pxpadding9px': 1, 'backgroundposition350px': 1, 'headbnr': 1, '205px': 2, 'displayblockfontsize11pxcolor262626': 1, '66': 2, 'top259pxleft369pxwidth21pxheight17pxbackgroundposition60px': 1, '68': 2, 'listrel': 2, 'linkprivacy': 1, 'width179pxheight116pxborder1px': 2, 'width167pxheight45pxpadding10px': 2, 'contfeature': 3, 'fontsize14pxlineheight22px': 1, 'titthumbhover': 1, 'floatleftwidth175pxheight144pxpadding15px': 1, 'zindex1backgroundcolor4e82eebackgroundposition117px': 1, 'linkinfo': 1, '22pxbackgroundposition0': 1, 'color3f4145': 1, 'noticelogout': 1, 'titspe': 1, 'width940pxmargin0': 1, 'displayinlinefontsize11pxlineheight13pxcolorec0000': 1, 'linksvcall': 1, '10℃': 1, 'border0': 2, 'numrate5backgroundposition25px': 1, '75px': 3, '신형': 1, 'displayinlineverticalaligntop': 1, 'layersteady': 4, 'margin4px': 2, 'liststylenone': 1, 'floatleftpositionrelativezindex0width266pxmargintop14px': 1, 'width98pxheight50px': 1, 'contspe': 1, 'height375px': 1, '유익한': 2, 'backgroundurlhttpi1daumcdnnetdecocomicstopdeco2014v2bgdaumv9pngv1683': 1, '달의연인': 1, '영애씨': 2, 'backgroundposition200px': 1, 'overflowhiddenwidth258pxpadding8px': 1, 'icosuggest': 1, 'linkweather': 42, 'btnsave': 1, '1620px': 1, 'displayinlineblockcolor5d6273verticalaligntop': 1, '20pxbordertop2px': 1, '대전': 1, 'fontsize11pxlineheight16pxcolor676767': 1, '12pxfontweightboldlineheight21pxbackgroundposition210px': 1, '230pxtextindent9999px': 1, 'baseBox': 3, '89pxcolor777': 1, '251px': 1, 'floatnone': 2, 'overflowhiddenwidth244pxpadding14px': 1, 'floatrightpaddingleft0backgroundnone': 1, 'width29pxbackgroundposition180px': 1, 'fontsize11pxcolor555letterspacing1px': 1, 'btnbefore': 1, 'eeeef0backgroundcolorf7f7f7': 2, 'positionabsolutetop23pxright39pxheight13pxfontsize11pxlineheight14px': 1, 'txtstate': 1, '앞면': 1, 'btncaster': 1, 'top227pxwidth160pxpadding5px': 1, 'overflowhiddenwidth66pxheight74pxfontsize11pxlineheight14pxtextaligncentercolor414141letterspacing1px': 1, '블랙홀39': 1, 'displaynone': 5, 'width385pxheight101px': 1, 'color8f8f8ftextdecorationunderline': 1, 'amp9652': 1, 'eventteam': 1, 'textaligncenter': 1, 'infothumb': 7, 'issuetypetxt': 4, '다우': 1, 'icoarrowequal': 1, 'floatleftpadding9px': 1, 'listmainsvc': 3, '4': 1, '301pxcolore73923': 1, '발끈': 1, '바로가기': 7, '1980px': 1, 'backgroundposition310px': 3, '검색어': 1, 'displayblockoverflowhiddenwidth278pxheight80pxmargintop8px': 1, 'displaynonepositionabsolutetop0left0width100backgroundcolor000filteralphaopacity60opacity06': 1, 'fsttxt': 2, '나스닥': 1, 'wraptvpot': 6, 'top47pxright10px': 1, '게임': 3, 'sectioncontents': 2, 'IP보안': 2, '35px': 1, 'titbestlike': 4, 'linklivehovertextdecorationnone': 1, 'listthumb': 24, '자동실행': 1, '제주': 1, 'overflowhiddenpositionrelativewidth266pxheight61px': 1, 'paddingleft14pxbackgroundurlhttpi1daumcdnnetdecocomicstopdeco2014v2imgdaumvertv9pngv1664': 1, 'width41pxbackgroundposition50px': 1, 'itemvs': 2, '5위': 2, '영화': 3, 'backgroundposition45px': 1, 'color848585': 1, '청소년보호정책': 1, '수리는': 1, '경찰': 1, 'articledaum': 1, 'titblog': 4, 'btnnext': 5, 'tithope': 4, 'numdday9backgroundposition0': 1, 'backgroundcolorf8f8f8textdecorationnone': 1, 'left9999px': 1, '총': 6, '126px': 22, 'left18px': 1, 'contlive2padding0': 1, '950px': 1, 'top0left0height26pxpadding1px': 1, 'on': 2, '20pxfontsize0': 1, 'marginright5pxbackgroundposition355px': 1, 'outline1px': 1, '생활한다면': 1, 'txtdotwidth4pxheight3pxmargintop13pxbackgroundposition25px': 1, '발병': 1, 'icopush': 2, '토퍼': 1, 'floatleftwidth24pxheight20pxheight24pxmargin5px': 1, 'backgroundurlhttpi1daumcdnnetdecocomicstopdeco2014v2imgdaumv6pngv1687': 1, 'or': 1, '블랙핑크': 2, 'right14px': 1, '1100px': 1, 'enteron': 2, '멋스러운': 1, 'height416pxpaddingtop43px': 1, 'paddingleft45pxbackgroundposition0': 1, 'icow16backgroundposition0': 2, 'displayblockoverflowhiddenheight17pxmarginbottom7pxfontsize14pxlineheight17pxcolor262626whitespacenowraptextoverflowellipsis': 1, 'displayblockoverflowhiddenwidth278pxheight120px': 1, 'txtarea': 1, 'quotUAE': 1, 'servicegroup': 1, 'icoarrowdown': 1, '현대H몰': 1, '4559e9': 1, 'backgroundposition492px': 2, 'backgroundurlhttpi1daumcdnnetdecocomicstopdeco2014v2imgweatherpngv1102': 1, 'imgdaum': 3, 'titmovie': 4, 'backgroundposition462px': 2, 'infogame': 1, '스토리펀딩': 3, '없을': 1, 'top127pxleft370pxwidth20pxheight24pxbackgroundposition15px': 1, '80px': 4, 'backgroundposition70px': 1, '0textaligncenter': 2, 'shopmall': 1, 'displayblockwidth22pxheight12pxmargin21px': 1, 'bnrtype5width132pxheight18pxmargintop5pxpaddingtop25pxbackgroundurlhttpi1daumcdnnetdecocomicstopdeco2014v2electionbgelection2016top5160317gif': 1, 'bordertop1px': 2, 'SSGCOM': 1, 'marginleft1pxpaddingleft1pxbackgroundposition97px': 3, 'width399pxheight340pxborderbottom1px': 1, 'height110pxmargin0': 1, 'top6pxleft5pxwidth28pxheight28pxbackgroundposition0': 1, 'icojusticebackgroundposition40px': 1, '484px': 1, 'mypeopleg': 1, '메모대로': 1, 'padding4px': 1, 'txtlabid': 1, 'wrapbestlike': 5, '쌀쌀한요즘': 1, 'backgroundposition80px': 1, 'displayinlineblockoverflowhiddenwidth18pxheight26pxmargintop4pxfontsize0lineheight0verticalaligntop': 1, 'storyfundingon': 2, '왜이렇게예뻐': 1, 'bnrtype6width132pxheight18pxmargintop5pxpaddingtop25pxbackgroundurlhttpi1daumcdnnetdecocomicstopdeco2014v2electionbgelection2016top6gif': 1, '7℃': 1, 'backgroundposition69px': 1, 'positionabsolutetop146pxleft943pxzindex98width57pxheight105pxbackgroundurlhttpi1daumcdnnetdecotop2012logout20121016png': 1, '선거': 1, 'screenout': 2, 'overflowhiddenwidth280pxheight344pxfontsize0lineheight0': 1, 'numdday7backgroundposition0': 1, 'adstation': 1, 'fontbold': 2, 'stockg': 3, 'backgroundposition60px': 1, 'positionrelativezindex10width279px': 1, '삶': 1, '미디어': 2, 'servicebottom': 2, '0marginleft6pxverticalalignmiddle': 1, 'overflowhiddenwidth278px': 2, '김재식': 1, 'width250pxheight220pxmarginright24px': 1, 'width18pxheight17pxbackgroundposition75px': 1, '이전': 6, '6pxpadding0fontsize1pxlineheight1pxbackgroundcolore5e5e5': 1, '900px': 1, 'numdday0backgroundposition0': 1, '체포': 1, 'b8bbbfbordertop0': 1, 'btnpage': 5, '18px23px': 1, 'titelectionleft248px': 1, '39덜': 1, 'displayinlineblockwidth40pxheight23pxmarginright4pxlineheight23pxbackgroundposition35px': 1, 'eaeaed': 2, '649pxcolorec2c2fverticalaligntop': 1, 'icow13backgroundposition0': 2, 'width188pxheight159px': 2, 'numrate6backgroundposition25px': 1, 'overflowhiddenpositionabsolutetop171pxheight30pxfontsize11pxletterspacing1pxtextaligncentertextindent9999px': 1, 'setstart': 1, '000outlinewebkitfocusringcolor': 1, 'fontsize14pxcolor000textdecorationnone': 1, '14℃': 1, 'urlhttpi1daumcdnnetdecocomicstopdeco2014v2bgdaumv9pngv1683': 1, 'width35pxbackgroundposition0': 1, 'wrapwebtoon': 2, '1px': 18, 'overflowhiddenpositionabsolutetop96pxleft0width269pxheight17pxbackgroundurlhttpi1daumcdnnetdecocomicstopdeco2014v2linedotgifv1102': 1, 'overflowhiddenwidth249pxheight83pxmargin0': 1, '15pxtextindent9999px': 1, 'teamhome': 1, '290px': 20, '檢': 1, '지': 1, 'list': 3, 'top7pxright10pxzindex1': 1, 'fontweightnormalcolorea570a': 1, 'numdday5backgroundposition0': 1, 'paddingleft1pxbackgroundnone': 1, '39출산크레딧39': 1, 'linkmyinfo': 1, 'left429px': 1, 'width53pxbackgroundposition130px': 1, '67pxtextindent9999pxcursorpointer': 1, 'height161pxborderbottom0': 1, '여수': 1, '1080px': 1, 'top83pxleft164px': 1, 'lifeon': 2, 'displayinlinemarginleft1pxpaddingleft2pxbackgroundurlhttpi1daumcdnnetdecocomicstopdeco2014v2imgdaumvertv9pngv1664': 1, '씨스타': 1, 'numdday6backgroundposition0': 1, '40pxtextindent999em': 1, 'top15px': 1, '415pxcolor535353textaligncentertextdecorationnoneverticalaligntop': 1, 'height52px': 1, 'contlive': 1, 'bodyh1h2h3h4thtdinputselecttextareabutton': 1, 'numtime6backgroundposition50px': 1, 'floatrightpositionstaticheight17pxpaddingleft12pxbackgroundcolorfff': 1, '1101': 1, 'e8e8e8borderbottom1px': 1, '1320px': 4, 'strong': 1, '반복하면': 1, 'marginright0backgroundposition455px': 1, '그릇': 1, 'contg': 8, 'titlife': 4, 'displayinlineblockverticalaligntop': 1, '길따라': 1, 'fwb': 1, 'top148pxwidth216pxheight21pxfontsize12pxlineheight15pxpadding9px': 1, 'adrightbtm': 3, 'positionabsolutebottom0left0width515pxheight31pxbackgroundcolorf4f5f7': 1, '2pxcolorddd': 1, 'floatleftwidth85pxpaddingleft16pxlineheight16px': 1, 'paddingleft0backgroundnone': 1, '재범': 1, '18px20px': 1, 'icow11backgroundposition0': 1, 'height24pxmargintop1px': 1, 'urlhttpi1searchdaumcdnnetssearchall2013bgbgfootergif': 1, 'innercontfloatright': 1, 'backgroundnone': 1, 'fontfamilytahomasansserif': 1, '1248pxverticalaligntop': 1, 'floatleftheight19pxpaddingleft7pxcolorfffbackgroundposition0': 1, 'Corp': 1, '쇼핑': 4, 'titnews5tab': 3, 'titsort': 1, 'overflowhiddenpositionabsoluteright12pxbottom10pxheight14pxfontsize11pxlineheight14pxcolor777letterspacing1px': 1, 'txtnum': 7, 'overflowhiddenwidth203pxheight18pxmargin14px': 1, 'txtfortune': 1, '13pxlineheight18px': 1, 'wrapmain': 7, 'bottom15pxleft208px': 1, 'overflowhiddenwidth278pxheight273pxbordertop1px': 1, '관련': 2, 'icow04': 1, 'icow05': 1, 'icow06': 1, 'icow07': 1, 'icow01': 1, 'icow02': 1, 'icow03': 1, 'imgweather': 2, 'icow08': 1, 'icow09': 1, 'irwa': 1, 'none': 10, '큼직하고': 1, '0fontsize11pxlineheight14pxcolor5b6473letterspacing1px': 1, 'mysvclist': 1, '10pxbackgroundposition20px': 1, 'icodownbackgroundposition0': 1, 'urlhttpi1daumcdnnetdecocomicstopdeco2014v2bgtopbargifv1102': 1, 'displayblockfloatleftmarginright8px': 1, 'color4559e9textdecorationunderline': 4, 'width180pxheight100px': 1, '제휴문의': 1, 'shop4on': 3, 'floatleftmargin5px': 1, 'num4': 2, 'num5': 1, 'num6': 1, 'num7': 1, 'num0': 1, 'num1': 4, 'num2': 3, 'num3': 3, 'num8': 1, 'num9': 1, 'displayblockmargintop4pxfontsize11pxcolor959595letterspacing1px': 1, 'arialcolor000': 1, '155pxtextaligncenter': 1, 'overflowhiddenwidth161pxheight21pxmarginright10pxpadding7px': 1, 'tvon': 2, 'positionabsolutetop283pxright9pxwidth19pxheight17pxbackgroundposition225px': 1, 'txtnum4': 1, 'txtnum3': 1, 'txtnum2': 1, 'txtnum1': 1, 'blogon': 2, 'txtstock': 1, 'linkdaumapp': 1, 'tahomacolor000': 1, '벌금': 1, 'rgba000006boxshadowinset': 1, '카페': 4, '아이디': 2, 'fr': 1, '4pxcolor444': 1, '0border1px': 1, 'loginsimple': 5, 'cad0d9': 1, '사람들': 2, 'logininp': 9, 'a5a6ac': 1, '맛따라': 1, 'floatleftwidth100margintop8pxlineheight19pxcolor757474clearboth': 1, 'wrapdaum': 1, 'floatleftmargin19px': 1, '600px': 3, 'fl': 2, 'width58pxheight48px': 1, 'a': 3, 'width190pxheight340pxborderbottom1px': 1, 'width100pxheight52px': 1, 'footer': 10, 'daumContent': 1, '609px': 1, 'sortservice': 8, '스완지시티': 1, '0color5b6473': 1, 'numprice': 4, '접시': 1, 'iconewdisplayblock': 1, '현위치': 1, 'width410pxheight161px': 1, 'fff': 5, 'width53pxbackgroundposition0': 1, 'backgroundposition185px': 7, 'icow17backgroundposition0': 1, '대구': 1, '상품': 1, '쇼핑몰': 1, '덕': 1, 'color9b01bc': 1, 'floatleft': 12, '8pxlineheight15pxcolorfc6870letterspacing1px': 1, 'ellipsisg': 3, '뽑는': 1, '220pxletterspacing1px': 1, 'uisortablehelper': 1, 'top191pxheight39px': 1, 'breakingnews': 4, 'overflowhiddenpositionrelativewidth263pxheight55pxmargin21px': 1, 'overflowhiddenfloatrightwidth138pxheight112pxlineheight100pxtextaligncenter': 1, 'rankissue': 1, 'floatleftmargin2px': 1, '6위': 2, 'backgroundurlhttpi1daumcdnnetdecocomicstopdeco2014v2imgdaumvertv9pngv1664': 1, 'ㄱㄹ': 1, '깊은': 1, 'searchon': 1, 'top47pxwidth106pxheight17pxpadding4px': 1, 'left116pxbackgroundposition117px': 1, 'linksetpage': 1, 'hopeon': 2, '사각': 1, '0lineheight15pxtextaligncenter': 1, 'overflowhiddenwidth515pxpaddingbottom12pxbackgroundurlhttpi1daumcdnneticon2013topmorelayerbglinev2gif': 1, 'floatleftwidth655pxheight120pxmarginright5px': 1, 'backgroundposition110px': 2, 'wrapbrunch': 2, 'ddaycont': 12, 'listuser': 11, '기분': 1, 'overflowhidden': 3, '회원가입': 1, '7': 2, 'noticeblog': 2, 'wrapbook': 4, '4px': 9, 'color196adb': 1, '0backgroundposition0': 2, 'displayblockoverflowhiddenwidth188pxpadding8px': 1, 'txttv': 1, 'mypeopleguisortablehelper': 1, '커플의': 1, 'width42pxbackgroundposition170px': 1, 'wraphope': 3, 'floatleftpadding1px': 1, '이메일': 1, 'iconext': 2, 'icoarrowup': 1, '507px': 1, '내추럴': 1, 'width397pxheight159px': 1, '0color222letterspacing1px': 1, '날짜': 1, 'fontsize11pxcolor555lineheight15pxletterspacing1px': 1, '겨울까지따뜻': 1, 'left224px': 1, 'linkthesong': 3, 'tfkeywordwebkitsearchcancelbutton': 1, 'layertop': 3, '극세사': 1, 'floatleftwidth9pxbackgroundcolortransparent': 1, 'zindex10backgroundposition0': 1, 'displayblockwidth13pxheight25pxfontsize0lineheight0textindent9999px': 1, '23px': 1, 'verticalalignmiddle': 1, 'displayblockoverflowhiddenwidth46pxheight18pxmargin57px': 1, 'txtprice': 1, 'overflowhiddenfloatleftheight33pxfontweightboldlineheight35pxpadding0': 1, 'displayblockmargintop1pxfontsize11pxcolor737373letterspacing1px': 1, 'wrapdaumapp': 1, 'backgroundposition135px': 2, 'overflowhiddenpositionrelativewidth628pxheight597pxpadding37px': 1, '18pxborder1px': 1, '390px': 1, 'nonezindex1': 1, 'icoup': 1, 'quot위기': 1, '8darr10만원대': 1, 'displayinlinefontsize13pxcolor000': 1, '15pxpaddingtop5pxfontsize11pxlineheight16pxcolor7b7b7bletterspacing1pxwhitespacenormal': 1, 'titinfodisplayinlineblockmarginright11pxfontsize12pxcolorfff000': 1, 'displayblockfloatleftwidth32pxheight32pxbackgroundposition120px': 1, 'CJ몰': 1, 'layoutheadlinet2': 1, 'borderright1px': 1, 'e1e1e1backgroundcolorfbfbfb': 2, '가볍고예뻐': 1, '불': 1, 'paddingleft48pxbackgroundposition0': 2, '247px': 1, 'tfpw': 1, 'backgroundposition215px': 2, 'width278pxheight337px': 1, 'numrate7backgroundposition25px': 1, 'quot현': 1, '부산': 2, '말에': 1, 'color454545': 1, 'icow13': 1, 'icow12': 1, 'icow11': 1, 'icow10': 1, 'icow17': 1, 'icow16': 1, 'icow15': 1, 'icow14': 1, 'ageg': 1, '광주': 1, 'icow18': 1, '0colorfffletterspacing1pxtextdecorationnonecursorpointer': 1, 'overflowhiddenfloatleftpositionrelativewidth52pxheight53px': 1, '15pxbackgroundposition170px': 1, '전': 22, 'numrate4width12pxbackgroundposition24px': 1, '끼워': 1, 'imgbnrtagmargin1px': 1, 'findpw': 1, 'w41': 2, 'txtred': 1, 'txtstory': 2, 'spiritdaum': 2, 'mysetbtn': 1, 'dsch': 6, 'IG가': 1, 'blockquoteafterqbefore': 1, 'overflowhiddenpositionrelativewidth181pxheight120pxmargintop14px': 1, '120px': 2, '145px': 5, 'funon': 2, 'nonefontsize11pxfontfamily돋움dotumsansserifbackgroundf8f8f8': 1, 'shortcutgfocus': 1, '뉴스홈': 1, '98pxtextdecorationnone': 1, 'paddingleft39pxbackgroundposition0': 2, 'linkagorahover': 1, '3위': 2, 'imgmobileweb': 1, 'norepeat': 36, 'displayinlinefloatright': 1, 'paddingleft42pxbackgroundposition0': 1, 'numelection2016width11pxheight16px': 1, 'platebestlike': 1, 'psogame': 3, '22px': 2, 'layoutvertical': 2, 'width248pxheight176px': 1, 'backgroundposition105px': 2, '8': 1, 'overflowhiddenpositionrelativeheight17pxmargintop5pxlineheight17pxfontfamily굴림gulimsansserif': 1, '한국참풍수지리학회': 1, '동남구': 1, 'floatrightpositionrelative': 1, 'backgroundposition270px': 2, 'color676767': 1, 'tipon': 2, 'tittip': 2, 'top7pxleft7pxwidth45pxheight45pxbackgroundposition30px': 1, 'checkoff': 1, 'backgroundposition50px': 4, '2': 2, 'fontweightnormal': 3, '나의': 1, 'txtagora': 2, '3℃': 1, 'width12pxheight13pxpaddingright14pxbackgroundpositionright': 1, '대': 1, '0padding0': 1, 'fontfamily돋움dotumhelveticasansserifcolor557df6': 1, 'suggestexact': 37, 'paddingtop7px': 2, 'listmenuoverflowhiddenmargintop8px': 1, '246px': 1, 'inputwebkitautofill': 1, 'listbasis': 6, '최대93세일': 1, '나쁜': 1, '55px': 9, 'displayinlineblockpaddingleft8pxfontweightboldfontsize10pxlineheight10pxfontfamilytahomasansserif': 1, '위해': 1, 'txtexact': 1, 'contsub': 1, '10년째': 1, 'ddaycontdisplaynone': 1, 'displayinlineblockmargin13px': 1, '360px': 1, 'contthumb': 1, 'backgroundposition120px': 2, 'headlinetxt': 5, '797px': 1, 'icolabel': 2, '그랜저': 1, '그렇게들난리': 1, 'displayblockoverflowhiddenheight30pxmargin1pxfontweightnormalfontsize12pxlineheight33pxfontfamily굴림gulimsansseriftextaligncentertextdecorationnonecolor000letterspacing1px': 1, 'titthesong': 3, 'numrate1width9pxbackgroundposition25px': 1, 'inputmsclear': 1, '자세': 1, 'width8pxheight8pxmargin13px': 1, '브런치': 3, 'overflowhiddenpositionrelativewidth200px': 1, 'color303030textdecorationnone': 1, '메일': 1, 'width44pxbackgroundposition25px': 1, 'amp9662': 1, 'btnend': 1, 'displayinlinefloatleftwidth177pxheight54pxmargin33px': 1, 'listmenu': 1, 'timethesong': 3, '울산': 1, 'displayinlinepadding0': 1, 'linkcopy': 1, 'margintop12pxpaddingleft17pxbackgroundposition1px': 1, '찾아서': 1, 'titstoryhover': 1, 'paddingleft19pxbackgroundposition3px': 1, 'icodown': 1, 'numtime7backgroundposition50px': 1, 'addresscaptioncitecodedfnemvar': 1, 'displayblockoverflowhiddenpositionrelative': 1, 'offSuggest': 1, '3pxletterspacing1px': 1, 'linktotalsvc': 1, '285px': 7, 'noticedaum': 18, 'fontsize11pxfontfamilytahomasansserifcolor4c4c4c': 1, '20pxborder1px': 1, '780px': 1, '15pxverticalaligntoptextindent9999px': 1, 'dotum돋움sansserifcolor000': 1, 'displayblockwidth26pxheight15pxmargintop4pxbackgroundposition0': 1, 'overflowhiddenfloatleftwidth279pxheight21pxpaddingleft17pxlineheight21pxwhitespacenowrap': 1, 'btning': 1, '0letterspacing1pxwhitespacenowrap': 1, 'GS샵': 1, 'numtime9backgroundposition50px': 1, '16px': 3, 'width149pxmarginright5pxpadding1px': 1, '빠띠시에': 1, 'height79px': 1, 'solid': 59, '백령': 1, 'left87px': 1, 'stocktoday': 10, '709': 1, 'displayinlineblockmarginright4pxpaddingright8pxfontweightboldbackgroundposition100': 1, 'fieldsetimg': 1, 'height25pxpadding43px': 1, 'overflowhiddenpositionabsolutetop19pxright20pxwidth54pxheight25pxbackgroundimageurlhttpi1daumcdnnetdecocomicstopdeco2014v2transparentgiftextindent9999px': 1, 'linklivefloatleftwidth237pxheight16pxmargintop12px': 1, 'guide': 1, 'appintro': 7, 'floatrightpadding11px': 1, '취미': 1, 'infopage': 7, 'eeeef0verticalaligntop': 1, 'recomshop': 3, 'layerie6': 6, 'positionabsolutetop0left0zindex102width100': 1, '연인을': 1, '가져오기': 22, 'backgroundurlhttpicondaumcdnnetwc130219696439712097703png': 1, 'displayinlineblockheight14pxmargintop14pxlineheight14pxverticalaligntopwhitespacenowrap': 1, 'contimport': 1, 'positionabsolutetop60pxwidth13pxheight25px': 1, 'icow07backgroundposition0': 1, 'displayblockheight40pxmargintop7pxpaddingleft17pxbackgroundposition1px': 1, 'positionabsoluteright4pxbottom3pxwidth13pxheight13pxborder0': 1, 'floatleftheight23pxpadding10px': 2, 'linkimg': 2, 'headevent': 2, '더보기': 1, '1pxtextindent9999px': 1, 'icoreader': 1, 'width46pxbackgroundposition40px': 1, 'width16pxheight15pxlineheight18pxbackgroundposition70px': 1, 'width28pxbackgroundposition145px': 1, '기자': 1, '초경량': 1, 'btnrecord': 1, 'paddingleft5pxlineheight12pxbackgroundnone': 1, '사용해': 1, '아고라': 2, 'width75pxheight75pxopacity005': 1, '중진': 1, 'width167pxheight143pxpadding16px': 1, '770px': 1, '약관': 1, '217px': 1, 'backgroundposition541px': 2, '10pxfontsize11pxlineheight14pxfontfamily돋움dotumhelveticasansserifcolor666': 1, 'paddingleft41pxbackgroundposition0': 5, 'titevent': 1, '13pxlineheight15pxwhitespacenowraptextoverflowellipsis': 1, '모두': 1, '95px': 3, 'backgroundposition85px': 1, 'left61px': 1, '15pxlineheight13pxwhitespacenowrap': 1, 'bottom23pxleft370px': 1, 'displayblockwidth130px': 1, 'titwebtoon': 4, 'icogivehover': 1, 'icow01backgroundposition0': 2, 'displayblockoverflowhiddenpadding25px': 1, 'readersinfo': 4, 'PC에서만': 1, 'numrate0width12pxbackgroundposition24px': 1, '25pxbackgroundcolordce7f6': 1, 'noticestart': 2, 'itemhover': 1, 'wrapnews': 1, 'w40': 2, '1pxbackgroundcolore1e1e1': 2, 'boxuser': 11, 'left16px': 1, 'wrapmysvc': 1, 'e1e1e1cursorpointer': 1, 'displayinlineblockheight23pxpadding10px': 1, 'btnclose': 7, 'positionrelativeheight103px': 1, 'numdday4backgroundposition0': 1, '책': 2, '39부동산': 1, '엘르': 1, 'emphtxt': 1, '사직서당장': 1, 'fontsize12pxcolor000textdecorationnone': 1, 'positionrelativewidth100zindex101': 1, '백록담이': 1, 'listmyset': 15, 'autoon': 2, 'txtred2': 1, 'overflowhiddenzindex0width280pxheight143px': 1, 'icophoto': 7, '남성': 1, '이신발뭔데': 1, '105px': 1, 'backgroundposition150px': 3, 'linkheadbnr': 1, '바라본': 1, '12px18px': 1, '쇼핑홈': 1, 'color6f6f6f': 1, '울릉독도': 1, '8px': 8, 'num10': 1, 'wrapnews5tab': 1, 'bottom16pxleft209px': 1, 'height43pxpaddingtop12px': 2, '풍자': 1, 'frameg': 23, 'width940pxmargin4px': 1, '3f4243fontsize11pxlineheight14pxbackgroundcolor26292acolorfffletterspacing1pxtextaligncenter': 1, 'fontsize12pxlineheight15fontfamily돋움dotumsansserifcolor333': 1, 'newslink': 1, 'tittvpot': 4, '엄마': 1, 'txtmyset': 1, '쇼핑도움': 1, 'icodaum': 4, 'span': 1, 'positionabsolute': 2, 'iconationbackgroundposition50px': 1, 'contstory': 46, 'dbdbdbbackgroundcolorf7f7f7letterspacing1px': 1, 'width70pxheight101pxmargin7px': 1, '이맛': 1, '8pxfontsize11pxlineheight12pxcolorb3c4dd': 1, '165px': 1, '소호': 1, '96px': 5, 'txtvs': 1, '포토': 1, 'line': 2, 'linkbasis': 2, '다음웹툰': 1, 'icoevent': 1, 'mycafeon': 3, '터가': 1, 'zindex1backgroundcolor4e82eebackgroundposition60px': 1, '115': 2, 'positionrelativemarginright90pxclearboth': 1, '패딩': 1, 'dotum돋움sansserifcolora1a1a1': 1, 'cacbce': 1, '빌려': 1, 'numdday2backgroundposition0': 1, 'margintop3px': 2, '170pxtextaligncenter': 1, 'bigimg': 6, 'wraptiertop': 2, 'd0377bfontsize12pxcolorffflineheight28pxbackgroundcolore03d86textindent0': 1, 'fontsize12px': 1, 'wrapelection2016overflowhiddenwidth653pxletterspacing1px': 1, '이규혁': 2, 'floatrightmargin25px': 1, 'positionabsolutetop0left22pxfontsize11pxlineheight14pxletterspacing1px': 1, '오늘': 1, 'shortcutg': 2, '돈': 1, 'marginright6pxwidth15pxbackgroundposition425px': 1, '방금그곡': 1, 'TV': 2, '고압': 1, '비용부담': 1, '독': 1, '이게': 1, '불가재창당': 1, '있다는데': 1, '13pxletterspacing1px': 1, '인도': 1, 'marginright8px': 1, '상승': 21, 'wrapentertain': 2, 'msgerror': 1, 'top0left0width54pxheight41pxbackgroundposition0': 2, 'labagain': 1, 'floatleftmaxwidth117pxwidth117pxmargintop5pxfontsize14px': 1, '0border2px': 1, 'tit5': 1, 'tit4': 1, 'displayblockwordbreakkeepall': 2, '550px': 1, 'tit1': 1, '505px': 1, 'tit3': 1, 'tit2': 1, 'numrate2backgroundposition25px': 1, 'gt': 3, '이슈': 2, 'contshop': 29, '9pxheight21pxlineheight21px': 1, 'overflowhiddenfloatleftwidth282pxheight112pxtextaligncenter': 1, 'shortcutgactive': 2, '8pxlineheight15pxwhitespacenowrap': 1, 'left133px': 1, 'tv팟': 3, 'dlulolmenuli': 1, 'overflowhiddenwidth100padding10px': 1, 'displayinlineblockmarginright6pxheight11pxfontsize10pxlineheight11pxverticalaligntop': 1, '식기': 1, '25px': 10, 'daumSuggestWrap': 1, 'positionabsolutetop0left0width36pxheight20pxbackgroundposition80px': 1, 'defaulttxt': 10, 'backgroundposition2px': 2, '불독랭킹1위': 1, 'margintop11px': 1, 'txtissue': 2, 'left1pxtop1pxpadding0': 1, '고객센터': 1, '아이': 1, '다이어리': 1, 'backgroundposition75px': 1, '420px': 2, 'button': 1, '110px': 6, 'continfo': 4, 'bgdaum': 1, 'paddingleft47pxbackgroundposition0': 3, '39집회의': 1, 'todayopen': 2, 'width70pxheight14pxlineheight14pxbackgroundcolortransparentbackgroundposition10px': 1, '들어': 1, '562px': 1, 'positionrelativedisplayblockheight100pxborder1px': 1, 'contseat': 8, 'fontweightnormalcolore5333d': 1, 'Kakao': 1, 'floatleftmarginright2px': 1, '135px': 1, 'infotemper': 15, 'backgroundposition13px': 41, 'numbasis': 1, '6pxlineheight16pxcolor262626': 1, 'issuetypeimg': 3, 'wrapcont': 1, 'continventory': 1, 'left80pxwidth120pxbackgroundposition285px': 1, 'displayblockoverflowhiddenpositionrelativezindex1width100height100': 1, '전일대비': 2, 'displayblockcursorpointer': 1, 'margin0padding0': 1, 'body': 1, 'positionabsolutetop0left0border1px': 1, 'width620pxheight161px': 1, 'tistoryg': 1, 'listmysvc': 12, 'linkkakao': 1, 'floatleftwidth230pxmarginright17px': 1, 'typepso': 2, 'topautobottom62pxleft166px': 1, 'wraptoday': 3, 'overflowhiddenwidth922pxpadding11px': 1, 'fontstylenormalfontweightnormal': 1, '한라산을': 1, '840px': 2, 'titedu': 4, 'displayinlineblockwidth627pxpaddingright1pxverticalaligntop': 1, '18px': 1, 'txtmysvcdisplayinlineblockpadding1px': 1, '10pxcolor555': 1, 'txtbardisplayinlineblockmargin0': 1, 'innershortcut': 1, 'repeatx': 2, 'overflowhiddenpositionabsoluteleft0fontsize12pxbackgroundposition20px': 1, 'wrapsports': 2, 'innertxt': 1, '397ce0fontsize11pxlineheight20pxbackgroundcolor3f8af9textalignleftcolorfffletterspacing1pxtextdecorationnonecursorpointer': 1, 'bgframe': 1, 'paddingleft51pxbackgroundurlhttpi1searchdaumcdnnetssearchall2014icoicoweathersize3gif': 1, '195pxtextindent160px': 1, '11pxbackgroundposition0': 1, 'marginright4pxfontbold': 1, '뭐라고': 1, 'descstory': 8, '흰여울문화마을': 1, 'ㅋㅎ': 1, 'listpolicy': 6, '모바일': 1, '금융': 1, 'floatleftwidth32pxheight21pxlineheight23pxbackgroundcolortransparent': 1, 'num20': 1, 'overflowhiddenfloatleftwidth130pxheight70pxlineheight14px': 1, '24px': 2, 'linkupgrade': 1, 'suggestexacthover': 1, 'numrate9backgroundposition25px': 1, '입니다': 22, 'width15pxbackgroundposition86px': 1, 'icolotto': 1, 'shop2on': 3, '우려quot': 1, 'numelection2016floatleft': 1, 'marginbottom7px': 1, 'displaynonepositionabsoluteright0pxbottom19pxwidth211pxheight27pxbackgroundurlhttpi1searchdaumcdnnetssearchall2009imagesuggestservicegif': 1, '7위': 2, '검색등록': 1, 'borderbottom1px': 1, 'imgelection2016displayinlineblockoverflowhiddenfontsize0lineheight0backgroundurlhttpi1daumcdnnetdecocomicstopdeco2014v2electionimgelection2016160330gif': 1, '달의': 3, 'marginbottom4px': 1, 'txtddayfloatleftwidth18pxheight16pxbackgroundposition0': 1, 'wrapelection2016overflowvisiblepositionabsolutetop28pxright0widthauto': 1, '0backgroundurlhttpi1searchdaumcdnnetssearchall2013bgbgshadowpng': 1, 'w35': 2, '맛집을': 1, '1650px': 3, 'mymileage': 1, '5pxbackgroundposition0': 1, 'listrecomsvc': 4, 'positionrelativeheight19pxpadding4px': 1, 'relshop': 7, 'left115px': 1, 'displayinlineblockwidth938pxheight67pxborderright1px': 1, 'tilesstory': 37, 'fromfff': 1, '증권': 3, 'offGuide': 1, '1℃': 4, 'padding3px': 1, '310px': 6, 'textdecorationnonelistmysvc': 1, '345px': 5, '실종39': 1, 'linkstock': 1, 'tv팟홈': 1, '65px': 2, '0lineheight42pxtextaligncentercursormove': 1, '9pxlineheight21pxtextalignleftcursorpointer': 1, 'txtmysvcbackgroundposition0': 3, 'linkmobile': 1, 'emphlabel': 1, 'linkmysvc': 2, '1500px': 1, 'loginmy': 18, 'overflowhiddenpositionabsolutebottom10pxleft208pxwidth167pxcursorpointerwhitespacenowraptextoverflowellipsis': 1, '공지사항': 1, 'left335px': 1, 'positionrelativeheight20pxpadding6px': 1, 'degreeg': 1, '1': 2, '개인정보처리방침': 2, '12pxfontweightnormalfontsize11pxlineheight20pxcolorfffletterspacing1px': 1, 'margintop9px': 4, 'color000': 1, 'overflowhiddenpositionabsolutetop0right0width68pxheight37pxtextindent9999px': 1, 'li': 33, 'lt': 3, 'd2dbe8': 1, '목포': 1, 'itemlivefloatrightmargintop8px': 1, 'floatleftwidth176pxheight143pxpadding16px': 1, '담은': 1, 'auto': 8, 'colorda4453': 1, '025': 1, 'displayinlineblockheight125pxverticalaligntop': 1, 'marginbottom1px': 1, '0fontsize14pxlineheight16pxfontfamilyverdanasansserifletterspacing1px': 1, '쇄신': 1, 'boxsearch': 1, 'inpprotect': 1, '1260px': 1, 'contliveoverflowhiddenheight40pxborderbottom1px': 1, '10px': 13, '14px16px': 1, '705pxletterspacing1px': 1, 'icovs': 1, 'top139pxheight40pxpaddingtop6px': 1, 'left1pxwidth61pxbackgroundposition0': 1, 'color333': 1, 'w19': 2, 'w18': 2, '3pxbackgroundposition0': 1, 'w16': 2, 'w15': 2, 'w14': 2, 'w13': 2, 'w12': 2, 'w11': 2, 'w10': 2, '8pxlineheight15pxbackgroundurlhttpi1daumcdnnetdecocomicstopdeco2014v2imgdaumvertv9pngv1664': 1, '82': 2, 'stockguisortablehelper': 1, 'floatleftmargin1px': 1, 'titsong': 1, 'width156pxheight20pxpadding8px': 1, 'width278pxheight33pxbordertop1px': 1, 'issuenews': 6, 'bottom97px': 1, '58px': 1, '어버이연합': 2, 'linkempathy': 1, '0lineheight14pxcolor777letterspacing1pxtextdecorationunderline': 1, '매일폭신하게': 1, 'margintop4pxletterspacing1px': 1, 'floatleftwidth15pxheight13pxmargin4px': 1, 'positionrelativetop0left0zindex99': 1, 'positionrelativetop0left0zindex98': 1, '175px': 3, '보보경심': 3, 'eduon': 2, '12pxfontweightnormallineheight12pxbackgroundposition370px': 1, '히트무스탕': 1, 'overflowhiddenfloatleftheight19pxpaddingright5pxlineheight20pxbackgroundposition100': 1, 'mizneton': 2, '45px': 7, 'width181pxbackgroundposition166px': 1, 'backgroundposition285px': 4, 'icow00backgroundposition0': 1, 'repeaty': 1, 'top1pxwidth55pxheight32pxbackgroundf9f9f9': 1, 'floatleftwidth48pxheight70pxclearboth': 1, 'displayinlineblockoverflowhiddenmaxwidth100paddingright2pxwhitespacenowraptextoverflowellipsisverticalaligntop': 1, 'linkitemdisplayinlineblockfontweightboldfontsize12pxlineheight24pxcolorfff': 1, 'gulim굴림sansserifcolor000': 3, '이': 1, 'height45pxpaddingtop10px': 2, '진화39': 1, 'width13pxmargin6px': 1, 'icoprev': 2, 'color00a0b6': 2, '내용을': 22, 'color4689df': 1, 'displayblockoverflowhiddenpositionrelativewidth387pxheight103px': 1, '142px': 1, 'overflowhiddenborderright1px': 1, 'displayinlinewidth236pxheight52pxmargin25px': 1, 'linkfind': 2, 'titdaumspe': 1, 'color5f6876': 1, '215px': 4, '효린': 1, 'loadingmy': 1, 'numtime4backgroundposition50px': 1, 'positionabsolutetop5pxright9pxwidth21pxheight21pxbackgroundposition175px': 1, '1540px': 2, '3만원대패딩': 1, 'displayinlineblockoverflowhiddenheight100backgroundfffverticalalignmiddle': 1, 'floatleftwidth90pxfontsize11pxlineheight14pxletterspacing1pxtextaligncenter': 1, '지식공간': 1, 'fontsize11pxcolor2156c0letterspacing1px': 1, 'b8bbbfborderbottom0': 1, 'floatleftwidth15pxheight18pxbackgroundposition0': 1, 'titstoryfunding': 4, 'txtexactoverflowhiddenfloatleftheight44pxmargintop0': 1, 'mykeyword': 1, 'backgroundposition320px': 1, 'overflowhiddenwidth376pxheight35pxpadding20px': 1, 'positionrelativewidth113pxheight103pxmargintop13pxpadding0lineheight14pxtextaligncenterclearbothwhitespacenormal': 1, 'linktrend': 1, 'titmiznet': 4, 'num30': 1, '1129px': 1, 'servicetop': 4, '13pxfontsize11pxlineheight14pxcolor262626': 1, '85px': 1, 'left170pxbackgroundposition171px': 1, 'displayblockwidth280pxmargin0': 1, '7pxborder1px': 1, '트렌드샵': 1, 'wrapedu': 2, '1210px': 4, 'left253px': 1, '150px': 5, '사전': 3, '도움말보기': 1, '확인하시려면': 22, 'color3770bf': 1, 'linktit': 56, '넣더니': 1, 'setagain': 1, 'ㅅㅇ': 1, '파워풀': 1, '기획전홈': 1, 'bottom96px': 1, 'icow05backgroundposition0': 2, '스페셜': 3, 'positionabsolutetop18pxright11pxpaddingright7pxfontsize11pxlineheight14pxbackgroundposition100': 2, 'overflowhiddenpositionabsolutetop22pxright20pxwidth110pxheight15pxfontsize15pxlineheight16pxtextalignrighttextindent93pxbackgroundcolortransparentbackgroundposition95px': 1, '0color5e646f': 1, 'wraprealestate': 1, 'icoupbackgroundposition0': 1, 'overflowhiddentop0textdecorationnone': 1, 'color61646e': 1, '송전선로': 1, 'icogive': 3, '4위': 2, '만찬': 1, '619px': 1, 'transparentfontweightboldfontsize16pxlineheight18pxfontfamily돋움dotumsansserifbackgroundcolortransparentoutlinenoneimemodeactivewebkitappearancenone': 1, 'tvpoton': 2, 'overflowhiddenwidth188pxpaddingtop15pxbordertop1px': 1, 'color36a0e4': 1, '50': 1, 'linkevent': 13, 'floatleftwidth68pxheight25pxbackgroundposition50px': 1, 'ㅁㅂ': 1, 'timecontoverflowhiddenwidth21pxtextalignright': 1, 'weathertoday': 1, 'overflowhiddenwidth608px': 1, 'contvs': 2, 'fontsize16pxlineheight26px': 1, 'width6pxmarginleft1pxbackgroundposition170px': 1, '30px': 8, '5℃': 1, '971px': 1, '찾기': 2, 'stockup': 2, 'width188pxheight103px': 1, 'overflowhiddenfloatleftwidth71pxmargintop4pxwhitespacenowraptextoverflowellipsis': 1, '470px': 1, '반정부': 1, 'width31pxbackgroundposition32px': 1, 'displayinlineblockpositionrelativezindex0width940pxheight112pxmargintop34pxverticalaligntop': 1, 'positionabsolutetop9pxright43pxpaddingleft7pxlineheight15pxbackgroundposition0': 1, '1도': 1, '5px': 12, 'labpw': 1, 'ratecontoverflowhiddenwidth42pxmargin8px': 1, 'floatleftwidth163pxheight25pxpaddingleft9pxborder1px': 1, 'overflowhiddenwidth278pxheight32pxlineheight35pxbordertop1px': 1, '숨': 1, '시간': 1, 'icohot': 2, 'floatnonemargin0padding0': 1, 'width179pxheight233px': 1, '14pxlineheight15pxcolor477ae4letterspacing1px': 1, '90px': 3, 'innerevent': 1, 'contbnrdisplayblock': 1, '서울': 1, 'overflowhiddenwidth515pxbordertop1px': 1, 'colorf73a40': 1, 'padding15px': 1, 'bnrtype2width58pxheight27pxpadding12px': 1, 'ecececfontsize0lineheight0': 2, 'infocont': 4, 'floatleftwidth228pxheight159pxbordertop1px': 1, '환율': 1, '46475bclearboth': 1, 'btnvdorelay': 1, '775pxcolorf25334cursorpointer': 1, 'wrapmy': 1, '카페홈': 1, 'width64pxbackgroundposition340px': 1, '특별감사': 1, 'sectionmulti': 47, 'icosteadybackgroundposition0': 1, 'overflowhiddenpositionabsolutetop7pxright7pxwidth54pxheight25pxtextindent9999px': 1, '개인': 1, 'btndaum': 1, '510px': 1, 'floatleftmarginright10px': 1, 'positionrelativezindex0width181pxheight118pxmargin15px': 1, 'overflowhiddenpositionabsolutetop0left0zindex1width15pxheight15pxtextindent9999px': 1, 'wrapmovie': 1, 'bestlikeon': 2, 'txtexchange': 1, 'width144pxmarginright0padding12px': 1, 'w08': 2, 'w09': 2, 'txtweather': 2, 'w04': 2, 'w05': 2, 'w06': 2, 'w07': 2, 'w01': 2, 'w02': 2, 'w03': 2, 'utiltop': 3, '후': 1, '350px': 1, '807px': 1, 'left179px': 1, '바뀌었다': 1, '26pxcolor5f6876verticalaligntop': 1, 'admid': 3, 'wraptiercont': 1, '메인': 1, '430px': 1, 'linknum': 1, 'plategtop85pxheight20pxwidth166pxpadding0': 1, 'titappimport': 1, '장시호': 2, 'letterspacing1px': 2, '939px': 1, '9pxbackgroundurlhttpi1daumcdnnetdecocomicstopdeco2014v2imgdaumvertv9pngv1664': 1, 'width111pxheight66px': 2, '2위': 2, 'floatleftpositionrelativewidth446pxmargintop28px': 1, 'numdday8backgroundposition0': 1, 'numtime0backgroundposition50px': 1, '정교해': 1, 'width94px': 1, 'txtinfomarginright9px': 1, 'e5e5e5': 1, 'width258pxmarginright5px': 1, 'icow03backgroundposition0': 2, '0lineheight15pxverticalalignmiddletextalignleft': 1, 'titbestreader': 1, 'floatleftwidth31pxlineheight17px': 1, '105': 2, 'overflowhiddenfloatleftheight40pxmargintop0backgroundposition0': 1, '설정': 3, 'width80pxheight14pxlineheight14pxbackgroundcolortransparentbackgroundposition185px': 1, '22pxfontsize11pxlineheight14pxletterspacing1px': 1, 'newson': 2, 'infonotice': 1, 'norepeattextindent9999pxverticalaligntop': 2, 'backgroundposition0': 53, '96pxbackgroundurlhttpi1daumcdnnetdecocomicstopdeco2014v2electionbgelection2016top2gif': 1, 'paddingleft53pxbackgroundposition0': 1, '청주': 1, '10pxbackgroundposition100': 1, 'iconormal': 1, '시간을': 1, '자연과': 1, 'layoutverticalt4': 9, '로드뷰': 1, 'splitg': 1, '455px': 1, 'overflowhiddenwidth383pxheight14pxpaddingtop8pxlineheight15pxtextaligncenter': 1, 'fontweightboldcolorfff': 5, 'marginbottom5px': 3, 'overflowhiddenwidth200pxheight221pxmargintop11px': 1, 'zindex1backgroundcolor4e82eebackgroundposition225px': 1, '170pxverticalaligntoptextaligncenter': 1, '클릭상품': 1, 'padding12px': 2, '4pxcolor444verticalaligntop': 1, 'width42pxbackgroundposition90px': 2, 'icobnrfloatleftfontsize0lineheight0backgroundnorepeat': 1, 'nonebackgroundcolorfff': 1, '서비스': 7, 'overflowvisibleoverflowxhiddenwidth399pxheight160pxhorizontalimg': 1, 'width83px': 1, 'num40': 1, 'top7pxright10px': 1, 'colorfff': 2, 'contentcontentnone': 1, '바로': 22, 'blockquotebefore': 1, '480px': 1, 'positionrelativezindex103': 1, 'contmenuoverflowhiddenheight40pxpaddingleft24pxbackgroundcolor078dff': 1, 'positionrelative': 6, 'linkkids': 1, 'linkcontvisited': 2, 'ececec': 3, 'btnprev': 2, '431px': 1, '간과하고': 1, 'overflowhiddenfloatleftwidth113pxmarginright24pxlineheight14pxtextaligncenter': 1, 'floatleftpadding4px': 1, 'colord40400': 1, '440px': 1, 'myblogon': 3, 'stockdown': 2, 'displayinlineblockheight14pxmargin19px': 1, '동영상': 7, 'backgroundposition90px': 8, 'loadingon': 1, 'paddingleft10pxcolor383b42backgroundcolortransparent': 1, 'floatleftmargintop7pxpaddingright2pxcolor3a5fb9letterspacing1px': 1, 'numtime8backgroundposition50px': 1, '297px': 1, '3pxlineheight55pxbackgroundcolortransparentbackgroundposition0': 1, 'tittv': 4, 'ageguisortablehelper': 1, 'overflowhiddenpositionabsolutebottom10pxleft11pxwidth167pxcursorpointerwhitespacenowraptextoverflowellipsis': 1, 'linkapp': 1, 'overflowhiddenfloatleftwidth100pxheight22pxpadding4px': 1, 'topautobottom63pxleft169px': 1, 'icotag': 3, '351pxcolor196adb': 1, 'margintop1px': 1, '300px': 1, 'floatleftmarginright14pxlineheight15px': 1, '주제로': 1, '9℃': 3, 'width10pxmargintop1pxbackgroundposition218px': 1, 'bnrtype1width58pxheight27pxpadding12px': 1, 'layermycont': 14, 'overflowhiddenpositionabsoluteright3pxbottom3pxwidth20pxheight20pxtextindent9999px': 1, 'top20px': 1, 'overflowhiddenheight1pxmargin7px': 1, '31pxborder1px': 1, '396px': 1, 'displayinlinepaddingleft18pxbackgroundposition9px': 1, 'numelection2016displayinlineblockoverflowhiddenfontsize0lineheight0backgroundurlhttpi1daumcdnnetdecocomicstopdeco2014v2electionnumelection2016gif': 1, '230px': 4, 'Feat': 1, '11px': 2, '532pxwhitespacenowrap': 1, 'paddingtop13px': 1, '270px': 1, 'icolivewidth33pxheight16pxmarginright8px': 1, 'height60px': 1, 'linkprogram': 1, 'color005dde': 1, 'top21pxright0': 1, '4pxborder1px': 1, 'positionrelativewidth940pxzindex100': 1, 'displayblockcolor959595': 1, '1198px': 1, 'width158pxheight50pxcursorpointer': 1, 'colorde207b': 1, 'width54pxbackgroundposition492px': 1, 'titcont': 2, '39아동': 1, '광대놀음middot별신굿시국': 1, '10위': 2, '링크를': 22, 'iconewright5px': 1, 'linkpolicy': 2, '한국문화원': 1, 'displayblockpadding8px': 1, 'overflowhiddenwidth427px': 2, 'transparentcolor222lineheight25pxbackgroundcolortransparentimemodedisabled': 1, '같이가치': 3, 'titbrandspe': 1, '540px': 1, '연인': 2, 'btnsearchhover': 1, '347px': 1, 'wrapgame': 3, '해외의': 1, 'width235pxpaddingright23px': 1, '50타임세일': 1, 'backgroundposition477px': 2, 'txtinfo': 2, 'displayblockwidth66pxheight18pxbackgroundcolortransparentbackgroundposition69px': 1, '190px': 8, 'positionrelativewidth200pxheight245pxpadding24px': 1, 'icosuggestpaddingleft51pxbackgroundurlhttpsearch1daumcdnnetsearchstaticscommonpiicoweatherm160616gif': 1, '1275px': 1, 'f2f2f4': 1, 'height63pxmargintop12px': 1, '225px': 3, 'margintop5pxlineheight15px': 1, 'EPL랭킹': 1, '50textindent9999px': 1, 'tiertopalpha': 1, 'numrate3backgroundposition25px': 1, 'paddingleft11pxbackgroundposition0': 2, 'displayblockheight54pxpaddingtop7px': 1, '0backgroundposition100': 1, 'w17': 2, 'e1e1e1borderbottom1px': 2, 'listinventory': 13, '하락': 1, 'linkmysvchover': 1, 'mobileweblink': 3, 'iconewarr': 1, 'infothesong': 3, 'icow06backgroundposition0': 2, '은행에서': 1, 'contcopy': 6, 'backgroundurlhttpi1daumcdnnetdecotop2012startcafenone20121023png': 1, 'top16px': 1, 'color262626textdecorationnone': 1, '이렇게편해': 1, 'w31': 2, 'w30': 2, 'w33': 2, 'w32': 2, 'left387px': 1, 'w34': 2, 'w37': 2, 'w36': 2, 'w39': 2, 'w38': 2, 'fontsize11pxcolor477ae4letterspacing1px': 1, 'btnreset': 1, '비빔밥류에': 1, '0textindent9999px': 3, 'marginbottom': 1, 'floatleftmarginright16pxlineheight15px': 1, 'FUN': 1, 'tittabcont': 7, 'width34pxbackgroundposition90px': 1, 'height16pxpaddingtop7pxlineheight16px': 1, 'overflowhiddenwidth446pxbackgroundcolortransparentbackgroundposition0': 1, 'rank9': 1, 'rank8': 1, 'rank3': 1, 'rank2': 1, '240px': 8, 'rank7': 1, 'rank6': 1, 'rank5': 1, 'rank4': 1, '생활하는': 1, 'displayblockwidth181pxfontsize16pxlineheight25pxclearboth': 1, '일이': 1, 'CJmall': 1, 'floatleftwidth655pxmarginright5pxbordertop1px': 1, 'floatleftfontsize11pxmargin3px': 1, 'txttime': 3, '리더': 1, 'linkrel': 1, 'linknewapp': 1, 'recomlink': 1, 'shop5on': 3, 'backgroundposition330px': 1, 'numdday3backgroundposition0': 1, 'eon': 1, 'icotheme': 1, 'overflowhiddenwidth272pxheight30pxpadding9px': 1, 'displayblockoverflowhiddenclearboth': 1, '로그인': 5, 'blogg': 5}\n"
     ]
    }
   ],
   "source": [
    "project(\"http://www.daum.net\")"
   ]
  },
  {
   "cell_type": "code",
   "execution_count": 45,
   "metadata": {
    "collapsed": false
   },
   "outputs": [
    {
     "name": "stdout",
     "output_type": "stream",
     "text": [
      "{'Lead': 1, '6px': 3, 'NYT': 3, 'four': 1, 'Burgess': 1, 'NYC': 3, 'RealLife': 1, 'containersetAttributeclasssignedin': 1, 'votes': 3, '31px': 1, 'pageManagertrackingFireEventQueue': 1, 'eligible': 1, 'Nytimescom': 1, 'voted': 2, 'updated': 1, 'void': 1, 'GE': 1, 'Co': 1, 'contentCollection': 1, 'school': 1, 'cnew': 1, 'Campaign': 3, 'Presence': 1, '9px': 1, 'abovebannerregion': 6, 'fontweight': 11, 'Cowboys': 1, 'Go': 5, 'likely': 1, 'Strange': 1, 'Bypass': 1, 'functionSubscriber': 1, 'gcandtoplineestfontsize23pxgmodelpromo': 1, 'windowlocationsearchmatchrePreviewTime': 1, 'preferences': 1, 'bipolar': 1, 'Otherworldly': 1, 'new': 5, 'widget': 1, 'Made': 1, 'wrapping': 1, 'kicker': 4, '100': 2, 'httpsa1nytcomassetshomepage20161031131206imagesfoundationlogos': 1, 'Yeast': 1, '135rem': 1, 'Home': 3, 'Opportune': 1, 'sansserif': 8, 'campaign': 3, 'Privacy': 1, 'htmlshowAllGeoAb': 5, 'Book': 2, 'Health': 8, 'margin0': 2, 'acolumn': 2, 'ghppromobox': 1, 'emailaddress': 1, 'strike': 1, 'type': 1, 'until': 1, 'lineheight18px': 1, 'Rule': 1, '90': 1, '92': 2, 'blocking': 1, 'me': 1, 'work': 2, 'avisited': 3, 'geoipresolver': 1, 'Datenew': 1, 'entertainer': 1, 'Advertisers': 1, 'A81817': 2, 'registeredWelcome': 1, 'gbargclintonbackground3989cbgmodelpromohppromoccol': 1, 'IRWIN': 1, 'Heds': 1, 'httpsintnytcomapplicationsportalsassetsportalappfae5bf8f555d0a81e22cc783dee04c3bjs': 1, 'Bruni': 1, 'Digital': 1, 'reFormat': 1, 'PETERS': 1, 'absolute': 1, 'Editorials': 1, '8pximportant': 1, 'Watching': 2, 'Killing': 1, 'globalization': 1, 'writers': 1, 'Trials': 2, 'env': 1, 'A': 9, 'Dylan': 1, 'earlier': 1, 'Interrupted': 1, 'Can': 1, 'Rarity': 1, 'Will': 5, 'texttransform': 5, 'All': 1, 'Campaign’s': 1, 'Touring': 1, 'Another': 2, 'enter': 1, '1000': 1, 'textalignright': 1, 'office': 1, 'over': 1, 'registeredButton': 1, 'before': 1, 'His': 5, 'somewhere': 1, 'Smarter': 1, 'fix': 1, 'Here': 1, 'Filing': 1, 'gaiPstyle4': 1, 'gaiPstyle0': 1, 'gaiPstyle1': 1, 'gaiPstyle2': 1, '400': 2, 'Judge': 1, 'videoFactory': 1, 'Him': 1, 'OpEd': 3, 'ij0idjjifvoid': 1, 'Mobile': 3, 'ucfslhtdocumentcookiematch': 1, 'Thomas': 2, 'dirtyform': 1, 'structural': 1, 'Control': 1, 'Noah': 1, 'Four': 1, 'jquerynyt': 1, '‘Insecure’': 1, 'STOLBERG': 1, 'financial': 1, 'series': 1, '13px': 10, 'notifyemail': 1, 'Won': 1, 'BEGIN': 1, 'emailPreferencesLinkText': 1, 'whitespace': 1, 'APPELBAUM': 1, 'Promo': 1, 'content': 4, 'authgrowl': 1, 'gaiAbs': 1, 'foundation': 1, 'nythpElection2016Header': 23, 'University': 2, 'Work': 2, 'standard': 1, '0dcountrycodereturn': 1, 'W': 3, 'Earth’': 1, 'Clinton': 9, 'Contributors': 1, 'Photo': 1, 'Calculator': 1, 'days': 2, 'filter': 3, 'tdocumentcreateElementscripttasync0ttypetextjavascriptvar': 1, 'unregisteredButton': 1, 'Impact': 1, 'appeals': 1, 'Working': 1, 'consolelogok': 1, 'articlebefore': 2, 'Please': 2, 'primary': 1, 'Fight': 1, 'Squeezing': 2, 'requirenytintgeoip': 1, 'Website': 1, 'googletaggoogletaggoogletagcmdgoogletagcmdfunctionvar': 1, 'Mess': 1, 'top': 2, 'Desert': 1, 'Search': 5, 'Limited': 1, 'took': 1, 'width375px': 1, 'Charleston': 2, 'Set': 1, 'showed': 1, 'nations': 1, 'Version': 1, 'messagebed': 1, 'wideranging': 1, 'Chicago': 1, 'fontfamilynytfranklinarialhelveticasansserif': 1, 'breturn': 1, 'seem': 1, 'nyta2ifathrow': 1, 'Christian': 1, 'Rate': 1, 'eagerly': 1, 'They': 2, 'Ask': 1, 'Reports': 1, 'Artists’': 1, 'Comey': 1, 'notifygetAttributeplaceholder': 1, 'Rigged': 1, 'Went': 1, 'requirehttpsa1nytcomanalyticstagxsimpleminjs': 1, 'mitigate': 1, 'Whats': 1, '“They': 1, '1125rem': 1, 'Election': 6, 'Want': 1, 'voting': 1, 'Necessarily': 1, 'Union': 1, 'Helvetica': 6, 'articledatacollectionrenderstyleHpSumMediumMedia': 1, 'nythpHideKickers': 1, 'headline': 1, 'Big': 1, 'Photography': 1, 'CARRNS': 1, 'Game': 1, 'ntvar': 1, 'Google’s': 1, 'Account': 1, 'Quick': 1, 'Voting': 1, '‘House': 1, 'SHERYL': 1, 'bad': 1, 'Caribbean': 1, 'textdecoration': 3, 'testTime': 1, 'Recommended': 1, 'best': 1, 'said': 1, 'Run': 1, 'away': 1, 'actionlink': 1, 'Settings': 1, 'FLEGENHEIMER': 1, 'paddingtop': 1, 'backgroundcolor': 3, 'BERNSTEIN': 1, 'Oysters': 1, 'Among': 1, 'Dance': 1, 'gai2htmlLink': 1, 'Focus': 1, 'Waking': 1, 'geocoded': 1, 'Classifieds': 1, 'Supporter': 2, 'NumberparseIntmatches1': 1, '6187a6important': 2, 'had': 1, 'accountname': 2, 'matte': 1, '0ecforvar': 1, 'Clarence': 1, 'asks': 1, 'gsubtitledisplayblocktexttransformnonegmodelpromohppromobcol': 1, 'Early': 3, 'Wall': 1, 'Hillary': 8, 'Divisions': 2, 'rePreviewTime': 1, 'Vice': 1, 'Flop': 1, 'News': 6, 'hpHeaderhpUpshotHeader': 3, 'has': 4, 'timedBriefingHidei': 1, 'Chips': 2, 'Beware': 1, 'Manage': 1, '6288a5': 1, 'Culture': 3, 'Cleveland': 1, '3px': 6, 'is': 6, 'it': 2, 'in': 37, 'Puerto': 1, 'if': 7, 'Around': 1, 'make': 1, 'President': 2, 'voiceover': 1, 'Won’t': 1, 'Room': 3, 'Rethink': 1, 'h6active': 5, 'Ford': 1, 'on': 16, 'Parcel': 1, 'Defends': 1, '‘People': 1, 'Mind': 1, 'academic': 1, 'practices': 1, 'Dangereuses’': 2, 'the': 66, 'left': 4, 'ffeehfunctionavar': 1, 'h3gcharttitlefontsize10pxtexttransformuppercasemargin0': 1, 'previous': 1, 'family': 1, 'Subscribersetup': 1, 'Offer': 1, 'Gas': 1, 'Boss': 1, 'hpDeveloping': 3, 'ffffff': 1, 'Debt': 3, '2roasf3sf8sf14sf16forf5flflfnf0return': 1, 'Where’s': 1, 'windowNYTD': 2, 'Restaurant': 1, 'James': 2, 'Taking': 2, 'Worth': 1, 'Morning': 3, 'background': 3, 'Heart': 1, 'Art': 2, 'Trump': 8, 'windowNYTINTTESTINGee': 1, 'Newsletters': 1, 'Teenagers': 2, '21px': 1, 'Are': 1, 'sectionopinion': 2, 'What’s': 1, 'Again': 1, 'right': 1, 'Puts': 1, 'people': 1, 'election': 4, 'Off': 1, 'REYNOLDS': 1, 'Life': 2, 'for': 25, 'bottom': 1, 'notification': 2, 'backgroundposition': 1, 'h3gcharttitlehovertextdecorationunderlinegmodelpromo': 1, 'strictvar': 1, 'Let': 1, 'Cubs': 2, 'He': 1, 'Trove': 1, 'bold': 1, 'Columnists': 1, 'Dept': 1, 'Place': 2, 'Swing': 2, 'Star': 1, 'post': 1, '0px': 15, 'properties': 1, 'BINYAMIN': 1, 'MATT': 1, 'ltie10': 9, 'Commute': 1, 'Warren': 1, 'underscorenyt': 1, 'float': 4, 'Hybrid': 1, 'etnytimescom': 1, 'attrClass': 3, 'Insider': 5, '“ugly': 1, 'reducing': 1, 'Selling': 1, 'support': 1, 'width': 6, 'Elena': 1, 'was': 1, 'optsvariation': 1, 'head': 1, 'form': 1, 'January': 1, 'becoming': 1, 'Supper': 1, 'widgetsetAttributeclassclearfix': 1, '225': 1, 'true': 1, 'GMT': 1, 'Seeing': 1, 'Domestic': 1, 'foundationlegacymain': 1, 'Aren’t': 2, 'storythemesummaryheadlinemediumsummary': 5, 'Greenspan': 1, 'submitting': 1, 'Leaders’': 3, 'Surgery': 1, 'Cream': 1, 'Personal': 1, 'Six': 1, 'Malta': 1, 'libefore': 2, 'Begin': 3, 'no': 1, 'when': 1, 'Running': 1, '14px': 6, 'Leases': 1, 'timedBriefingslength': 1, 'Pages': 1, 'Trucks': 1, 'Shift': 1, 'Hunt': 1, 'Trial': 2, 'Miffed': 1, 'backgroundsize': 2, 'longer': 1, 'Estate': 4, 'Witchcraft': 1, 'Color': 1, 'vigorously': 1, 'premiums': 1, 'Nonfiction': 2, 'time': 5, '9202016': 1, 'Title': 1, 'Indians': 2, 'Winning': 1, 'leads': 1, 'Today': 1, 'Introducing': 1, 'Dak': 1, '0': 13, 'text': 2, 'Day': 1, 'Don’t': 2, 'Tech': 2, 'divnotificationwidget': 1, '1700': 1, 'Just': 1, 'Spooky': 1, 'h3collectionkicker': 5, 'p': 2, 'Shrine': 1, 'div': 10, 'Debate': 3, 'fontweight500': 2, 'Rico': 1, 'timedBriefingsisetAttributeclass': 2, '‘War’': 2, 'a81817': 3, 'LIPTAK': 1, 'bordertopleftradius': 3, 'color666666': 2, 'gnewsletterlinkfont500': 1, 'HIDE': 1, 'inlineblock': 3, 'Subscriptions': 5, 'width100': 1, 'shared': 2, 'Along': 1, 'Age': 2, 'English': 1, 'newtext': 1, 'margintop': 14, 'My': 2, 'SCHIFF': 1, 'Deal': 3, 'notifyemailerror': 1, 'MM': 1, 'Your': 8, 'Born': 1, 'Cloaked': 1, 'navigation': 2, 'Justice': 3, 'Angry': 1, 'When': 1, 'foundationmain': 1, 'nowrap': 1, 'Dies': 4, 'helvetica': 2, 'Cities': 1, 'prep': 1, 'Those': 1, 'York': 5, 'October': 1, 'These': 3, 'Weapon': 2, 'Public': 2, 'Services': 1, 'Time': 4, 'FD8249': 2, 'Errorcant': 1, 'Horror': 2, 'Celebrations': 1, 'Family': 3, 'originally': 1, 'Lebanon': 1, 'Pacific': 1, 'Down': 1, 'nowgetHours': 1, 'can': 1, 'Our': 1, 'Tells': 1, 'Out': 6, 'heart': 1, '7px': 2, 'Federal': 1, 'Media': 1, 'Issue': 4, 'Shows': 1, '0eivar': 1, 'Terms': 2, 'Who': 2, '1': 3, 'baswitch0case': 1, 'Why': 1, 'aeachfunction': 1, 'productCode': 1, 'may': 1, 'Dead’': 1, 'Emailed': 1, 'alerticon': 1, 'Pyrenees': 1, 'floatright': 1, 'Become': 1, 'Corporate': 1, 'View': 1, 'timedBriefingHide': 3, 'outline': 1, 'Series': 3, 'documentgetElementByIdmorningbriefingwidget': 1, 'displayblock': 1, 'Galanos': 2, 'opts': 2, 'Hunting': 1, 'Jay': 1, 'Hezbollah': 1, 'Breaking': 2, 'atargetefatargetundefinedtypeof': 1, 'years': 1, 'Genetic': 1, 'White': 1, 'alreadySubscribedMessage': 1, 'homepage20161031131206jsfoundation': 1, 'group': 1, 'thumb': 1, 'troubles': 1, 'Treatments': 1, 'htmlgeoregionCA': 1, 'mail': 1, 'Hiding': 2, 'matches': 2, '08125rem': 1, 'origtext': 1, 'Choices': 1, 'odocumentgetElementsByTagNamescript0oparentNodeinsertBeforeto': 1, 'She': 1, 'Vote’': 2, 'now': 1, 'First': 1, 'Stakes': 1, 'Newest': 1, 'name': 1, 'Few': 1, 'Skip': 2, 'You’re': 2, '215p': 1, 'siteindexbrandinglink': 1, 'quarter': 1, 'em': 1, 'significantly': 1, 'morningbriefingwidget': 1, 'Nicaragua’s': 1, 'paddingleft': 2, 'Exercising': 1, 'Stops': 1, 'Shorter': 1, 'electorate': 1, 'Live': 1, 'Purple’': 1, 'Reflects': 2, 'container': 2, 'h3gcharttitlemargintop2pxgmodelpromo': 1, 'Journey': 1, 'Stone': 1, '50px': 2, 'Theater': 2, 'million': 3, 'ajax': 1, 'notifyaddEventListenerkeyupfunction': 1, 'Walking': 1, 'Money': 1, '222222': 2, 'Sign': 3, '2pximportant': 1, 'Promise': 2, '1001': 1, 'Speak': 1, 'ulrefer': 2, 'testTimegetUTCMinutes': 1, '10pxmargintop5pxmarginbottom10pxgmodelpromohppromoccoldisplayblockfont500': 1, 'There': 5, 'Asia': 1, 'Black': 4, 'carry': 1, 'Hollywood': 1, 'articlestorythemesummary': 1, 'unregisteredPlaceholder': 1, 'Monday': 2, '2': 6, 'tragic': 1, 'Date': 1, 'white': 1, 'Keeping': 1, 'that': 4, 'season': 1, 'padding': 8, 'copy': 1, 'than': 2, 'History': 2, 'twiceforioau0u': 1, '10': 2, '12': 3, 'Love': 3, 'Colorado': 1, 'foundationhelpersutils': 1, 'require': 2, 'spanabledepackageregion': 3, 'Fake': 1, 'LISA': 1, 'Advertise': 1, 'Nicaragua': 1, 'browser': 1, 'and': 30, 'Combines': 1, 'Court': 2, 'windowmagnumprocessFlagslimitFabrikSavemoreFollowSuggestionsunfollowCommentsallTheEmphasesvideoVHSCovervideoVHSHomepageCovervideoVHSHomepageNewControlsvideoVHSNewControlsvideoVHSEmbeddedOnlyadditionalOpinionRegionshpViewabilityfreeTrialhpPrototypeuseCollectionApiForWellenableFlexFrameAdsweatherLocationfabrikWebsocketsOnlyNYTExperimenthpRealEstateAdjitterbugupdatedVideoPromoSmallvideoEmbed360PersonalizationApiUpdateglobalBriefingsremoveInternationalEditionclientSideABRA': 1, 'Philadelphia': 1, 'displayBriefings': 1, 'Today’s': 1, 'Do': 1, '15px': 2, '200': 1, '205': 1, 'normal': 1, 'widgetgetElementsByTagNamediv0': 1, 'aindexOfzoneabbr0bareplacezoneabbrustimezonebreakcase': 1, 'pair': 1, 'Ferrante': 1, 'Beyond': 2, 'raquo': 34, 'Goldberg': 1, 'portalcontainerheader': 1, 'Trending': 1, 'shot': 1, 'Political': 3, 'JUGAL': 1, 'Promoting': 1, 'hack': 1, 'Purifoy': 1, 'Chamberlain': 1, 'Wants': 1, 'Publishers': 1, 'We': 3, 'upgrade': 1, 'FODERARO': 1, 'RIP': 2, 'black': 1, 'nythpSmarterLiving': 13, 'Golden': 1, 'Magazine': 6, 'Discoveries': 1, 'Right': 2, 'nytcheltenhamshgeorgiatimes': 1, 'summary': 2, 'clowns': 1, 'Education': 4, 'lineheight17px': 2, 'relative': 1, 'college': 1, 'romantimesserif': 1, 'Johnson': 1, 'maxwidth': 1, 'That': 1, 'mediumthumb': 1, 'forecast': 1, 'Hours': 3, '3': 1, 'letterspacing': 2, 'Turnout': 1, 'Than': 1, 'affordable': 1, 'abcolumn': 7, 'FOR': 1, 'Chomsky': 1, 'Shouldn’t': 1, 'setTimeoutfunction': 1, 'arial': 2, 'cities': 1, 'h5font300': 1, 'Silicon': 2, 'optslimit': 1, 'many': 1, 'Malaysia': 1, 'homepage20161031131206jshomepage': 2, 'Bullpen': 2, 'Escape': 1, 'hpLive': 3, 'McPHATE': 1, 'color': 19, 'Travel': 3, 'Note': 2, '93px': 1, 'article': 12, 'storyheading': 9, 'Leader': 2, '177px': 1, 'arts': 1, 'nythpSmarterLivingbefore': 1, 'subscribed': 2, 'nythpCAToday': 6, 'But': 2, '500': 1, 'wants': 1, 'Birth': 2, '639': 1, 'offered': 1, 'gaiPstyle3': 1, 'Together': 1, 'elementToHideOnSubscribe': 1, 'happy”': 1, 'former': 2, 'those': 1, 'Kenneth': 2, 'windowlocationsearchindexOfportalvariantwatchingNoScroll': 1, 'cast': 1, 'margin': 5, 'philosophies': 1, 'themecomments': 1, 'utils': 1, 'Largest': 1, '28px': 1, 'fontweight300': 2, 'Complete': 1, 'same': 1, 'notificationsignup': 6, 'Design': 1, 'struggling': 1, 'events': 1, 'status': 1, 'nythpNYRegionPromo': 1, 'HYPERLINK': 1, 'I': 1, 'Clear': 1, 'Modules': 1, 'Sidewalk': 1, 'Own': 1, 'undefined': 2, 'Is': 13, '‘Inferno’': 1, 'nythpBreakingnythpNoRule': 1, 'It': 1, 'Bucking': 1, 'Rent': 1, 'In': 4, 'Port': 1, 'ccc': 3, '217': 1, 'Loading': 2, 'natreturn': 1, '210': 1, 'displaynone': 2, 'Ways': 2, 'glabelfloatrighttextalignrightwhitespacenowrapgmodelpromohppromoccol': 1, 'Cuomo': 1, 'Jobs': 1, 'Spot': 1, 'param': 2, 'Steaming': 1, 'windowNYTDGlobal': 1, 'GET': 1, 'Change': 2, 'NEIL': 1, 'Island': 3, 'FeesMustFall': 1, 'secondcolumnregion': 2, 'dark': 1, 'nytfranklin': 8, 'Imran': 1, 'httpsstatic01nytcomjsmtr': 1, '‘My': 1, 'subscribe': 1, 'Lifelong': 1, 'Hacks': 2, 'containergetElementsByTagNamebutton0': 1, '‘I': 1, 'London': 1, 'Sharp': 1, '中文': 1, 'Before': 1, 'Jewelry': 1, 'Gravestones': 1, 'uppercase': 4, '67': 1, 'Clinton’s': 4, 'New': 7, 'Answers': 1, 'Events': 3, 'timetimestamp': 1, 'refer': 1, 'windowNYTDGlobaldisplayBriefingstestTimegetUTCHours': 1, 'containerId': 1, 'a6a6a6': 1, 'requirehomepagemain': 2, 'Revolution': 1, 'gartboard': 1, 'of': 44, 'Scared': 1, 'documentgetElementsByClassNametimedBriefing': 1, 'Trade': 2, 'Brazile': 3, 'Paper': 2, 'Concussions': 2, 'or': 3, 'her': 1, 'Ads': 1, 'No': 1, 'Backers': 1, 'Least': 1, 'inbox': 1, 'Humor': 1, 'Pakistani': 1, 'your': 5, 'Store': 1, 'NN': 1, 'opacity0': 1, 'Visits': 1, 'hed': 1, 'NY': 2, 'italic': 1, 'Obama': 1, 'J': 2, '30px': 2, 'Kitchen': 1, 'recoil': 1, 'signedin': 2, 'Steadily': 1, 'Small': 1, 'alphaopacity75': 3, 'articlenthoftype2': 1, 'slowdown': 1, 'with': 5, 'Guide': 3, 'Audiophiles': 1, '‘The': 3, 'default': 1, 'fontsize18px': 1, 'Candidates’': 1, 'thanksMessage': 1, 'vhs': 1, 'Whoopi': 1, 'Close': 2, 'FBI': 3, 'Blow': 2, 'Delivered': 1, 'Charles': 1, '600': 1, 'videos': 1, 'Fall’': 1, 'Wordplay': 1, 'an': 5, 'How': 2, 'upending': 1, 'at': 13, 'utilsappendQueryParamshref': 1, 'reHide': 1, 'Real': 4, 'again': 1, 'Intern': 3, 'field': 1, '5': 2, 'attrEnd': 1, 'you': 2, 'nytintemailsubscriber': 1, 'Climate': 2, 'bordercolorrgba971361661': 1, 'videoPlaylist': 1, 'gdbdcatchhconloadfunctionareturn': 1, 'important': 6, 'CNN': 3, '311518500249en1rn2eon3uaero341275144aereoro882459459u15356943890f20te': 1, 'nbspComments': 6, 'gcandidatewidth50gmodelpromo': 1, 'DategetTime': 1, 'gcandidatesdisplaywebkitboxdisplaymsflexboxdisplayflexgmodelpromo': 1, 'Canada': 1, 'all': 2, '‘Westworld’': 1, 'Fix': 2, 'Obamacare': 1, 'talks': 1, 'strictfunction': 1, 'apartment': 1, 'icons': 1, 'Trees': 1, 'to': 32, 'init': 1, 'health': 2, 'homepage': 1, 'returned': 1, 'Listings': 1, 'Sale': 2, 'Headers': 1, '1px': 5, 'decide': 1, 'winning': 1, 'Noam': 1, 'Unbuttoned': 1, 'msfilterprogidDXImageTransformMicrosoftAlphaOpacity75': 3, 'celebrity': 1, 'Retire': 1, 'Binding': 1, 'notifyaddEventListenermouseoutfunction': 1, 'borderbottomleftradius': 3, 'Obtains': 1, 'messengersuggestions': 5, 'Scary': 1, 'Español': 1, 'Should': 1, 'lineheight16px': 2, 'Circle': 1, 'East': 1, 'ribbon': 1, 'Antitrust': 1, 'urlhttpsstatic01nytcomimagesiconsiconalert12x12a81817png': 1, 'Onetime': 1, 'Released': 1, 'movement': 1, 'paddingbottom': 2, 'Gift': 1, 'Susan': 1, 'K': 1, 'NFL': 3, 'Contact': 1, 'Briefing': 3, 'search': 1, 'ahead': 1, 'Open': 1, 'creepy': 1, 'Sidebar': 1, 'glinktextdecorationunderlinegmodelpromohppromoccolbeforeboxsizingcontentboxcontentdisplayblockbordertop2px': 1, 'Style': 6, 'httpsstatic01nytcomjs2buildvideoplayersextended20appRequire': 1, 'nythpDeveloping': 1, 'Things': 1, 'Top': 1, 'Sparkling': 1, 'GRETCHEN': 1, 'href': 3, 'notificationstitle': 1, 'Animal': 1, 'Opinion': 11, 'Europe': 1, 'Phys': 1, 'Explorer': 2, 'Beatty': 1, 'Automobiles': 2, 'Baseball': 1, '6': 2, 'maxwidth600px': 1, 'Doppelgänger': 3, 'textalign': 4, 'more': 3, 'Butter': 1, 'Sr': 1, 'St': 1, 'So': 1, 'Spotlight': 1, 'none': 17, 'Aghast': 2, 'learn': 1, 'bordertop': 1, '326891': 1, 'states': 2, 'matchHeight': 1, 'Clamor': 1, 'spanabcregion': 15, 'needs': 1, 'early': 1, 'Opening': 1, 'Fusion': 1, 'Fall': 1, 'previewTimed': 1, 'Television': 2, 'paddingtop11px': 1, 'Continue': 1, 'startTime': 3, 'pageManager': 2, 'capitalize': 1, 'Plans': 1, 'a': 43, 'o0i0c0raiife': 1, 'Player': 1, 'Film': 1, '175rem': 1, 'What': 1, 'help': 1, 'SignUp': 1, '187px': 1, 'already': 4, 'through': 2, 'signs': 1, 'bordertopcolor': 1, 'divdatastatusworking': 2, 'Oct': 1, 'ccolumncolumn': 3, '25': 1, 'Full': 1, '20': 2, '21': 1, '22': 1, 'polarizing': 1, 'floatleft': 1, 'Opposition': 1, 'splitlayout': 2, 'NYTDNYTDNYTDAbrafunctiontuse': 1, 'waitSeconds': 1, 'return': 3, 'food': 2, 'timestamp': 1, 'Michael': 1, 'Bad': 2, 'h3gmodelpromo': 1, 'glinkcolor326891gmodelpromohppromoccol': 1, 'eron0an1i0c0if1alength4294967296a0foreut': 1, 'Resistance': 1, '2f': 1, 'Council': 1, 'Ready': 1, 'Sounds': 2, '‘Don’t': 2, 'e2e2e2paddingleft8pxgmodelpromodisplayblockgmodelpromohppromobcolpadding7px': 1, 'hard': 1, 'Sports': 4, 'insurance': 1, '5pxgmodelpromo': 1, 'More': 8, 'Coop': 1, 'marketplaces': 1, 'Clash': 1, 'Connects': 3, 'overflowhidden': 1, 'ADAM': 1, 'Potatoes': 1, 'Report': 1, 'collectionfirstchild': 4, 'timedBriefings': 1, 'EU': 1, 'ET': 7, 'Male': 1, 'gmodelpromocontainerpositionrelativemarginbottom10pxgmodelpromocontainer': 1, 'LEARN': 1, 'People': 1, 'Ed': 1, 'Years': 2, 'Bland': 1, 'Screen': 1, 'Hugh': 1, 'number': 1, 'Droves': 1, 'Maps': 1, 'notify': 1, 'story': 3, 'gcandtoplinelabelfontsize11pxgmodelpromosolidrepgmodelpromolikelyrepgmodelpromoleaningrepbackgroundcolord75c5ccolorfffgmodelpromotossupbackgroundcolorf5f5bdgmodelpromoleaningdemgmodelpromolikelydemgmodelpromosoliddembackgroundcolor3989cbcolorfff': 1, 'interviews': 1, 'militant': 1, 'aindexOfzone0bareplacezonezonebreakcase': 1, 'NICKY': 1, 'Bullet': 1, 'You’ve': 1, 'believe': 1, 'Todayrsquos': 2, 'Puzzle': 2, 'Wing’': 3, 'DESCRIPTOR': 1, 'thisattrhref': 2, 'risks': 1, 'testTZ': 1, 'adatareactid002': 1, 'etniftvar': 1, 'lilastchild': 2, '27n4sff': 1, 'Father': 1, 'Got': 1, 'Web’': 1, 'paths': 2, 'Food': 7, 'Price': 1, 'borderbottom': 4, 'With': 16, 'AfricanAmericans': 1, 'experienced': 1, 'ZikaRelated': 1, 'Chavismo': 2, 'M': 2, 'Governor': 1, 'Savings': 1, 'smarterliving': 1, 'The': 35, 'Finds': 1, 'appear': 1, 'Bridge': 1, 'clear': 3, 'Subscribe': 4, 'reflections': 1, 'diverror': 1, 'Viewed': 1, 'standoff': 1, 'Expert': 3, '666': 1, '0backgroundcolorfffgmodelpromohppromoccol': 1, 'Had': 1, 'XMLHttpRequestdnullenulltryifdJSONparsesessionStoragegetItemadvoid': 1, 'norepeat': 2, 'marginleft': 2, 'boxshadow': 1, 'FALKOF': 1, 'Has': 2, 'Affordable': 2, 'Service': 1, '22px': 1, 'Muslim': 3, 'documentreadyfunction': 2, 'starters': 1, 'Romo’s': 1, '8': 1, 'Guys': 1, 'his': 6, 'hit': 1, 'Wife': 1, 'Genitalia': 2, 'During': 1, 'Trump’s': 1, 'banner': 1, 'Strange’': 1, 'divdatastatusinitial': 5, '4pximportant': 1, 'Hell': 1, 'Necessities': 1, 'Plays': 1, 'windowmagnumwriteLogosmall': 1, 'textaligncenter': 1, 'Venom': 1, 'are': 3, 'e2e2e2borderbottom1px': 1, 'close': 1, 'AChangin’': 1, 'Buildings': 1, 'unsettling': 1, 'electoral': 1, '312px': 1, 'distraught': 1, 'conditions': 2, 'spanabtopregion': 7, 'bordertoprightradius': 2, 'Politician': 1, 'Lindquist': 1, 'Florida': 1, 'African': 1, 'lineheight': 14, 'JULIET': 1, 'both': 1, 'ANN': 1, '20160630': 1, 'Yet': 1, 'Denies': 1, 'Friday': 1, 'point': 1, 'simple': 1, 'address': 1, 'Was': 1, 'Adviser': 1, 'Play': 2, 'Shakes': 1, 'Applications': 1, 'documentaddEventListenerDOMContentLoaded': 1, 'Trail': 1, 'California': 1, 'Plan': 1, 'Schmidt’s’': 1, 'Elite': 2, 'Care': 1, 'Polls': 1, 'slideshow': 1, 'else': 3, 'Thorny': 1, 'Donna': 3, 'Drops': 1, 'Michel': 1, '16px': 1, 'Todays': 3, 'THANASSIS': 1, 'Journeys': 1, 'solid': 9, 'Sales': 1, 'Snapchat': 1, 'Analyst': 1, 'College': 2, 'nn1nullfunction': 1, '32': 1, 'Issues': 1, 'City': 3, 'Khan': 1, 'Grounded': 1, 'voters': 1, 'backing': 1, 'nytfranklinhelveticaarialsansserif': 1, 'Krugman': 1, '36': 2, 'itself': 1, 'e2e2e2': 2, 'Transgender': 1, 'Updated': 1, '‘Les': 2, 'STACY': 1, 'articlelastchild': 1, 'Many': 1, '9': 1, 'higher': 1, 'About': 3, 'Ill': 1, 'httpwwwnytimescomelectionsresultsstatusjson': 1, 'Scenes': 1, 'Podcasts': 1, 'Movies': 3, '000': 5, 'backgroundimage': 1, '0important': 1, '1625rem': 1, 'lower': 1, 'JEREMY': 1, 'Technology': 1, 'l0var': 1, 'Son': 1, 'containersetAttributeclassnotsignedin': 1, 'nythpGeoCanada': 1, 'Tools': 1, 'Living': 2, 'Porsche': 1, 'previewTime': 2, 'FF9859': 2, 'shape': 1, 'questions': 1, 'Internet': 1, 'injuries': 1, 'Theory': 1, 'Redskins’': 1, 'Hands': 1, 'input': 2, 'Marine': 1, 'On': 5, '‘Doctor': 1, 'padding13px': 1, 'Longer': 1, '‘West': 3, 'errorMessage': 1, 'Anxious': 2, 'game': 1, 'nythpHideBylines': 1, 'entrenched': 1, 'nythpSmarterLivingafter': 2, 'Or': 1, 'modifications': 1, 'Tantalize': 1, 'Show': 2, 'Colony': 1, 'continue': 1, 'Rising': 2, '19thCentury': 1, 'Sight': 1, 'Upgrades': 1, 'disorder': 1, 'Find': 2, 'Silent': 1, 'gbaroverflowvisiblegmodelpromohppromoccol': 1, 'Plains': 1, 'added': 1, 'anytgeoipbdocumentgetElementsByTagNamehtmlc1dcontinentcodecountrycoderegiondmacodepostalcodetimezonezoneabbrefunctionbvar': 1, 'server': 1, 'Email': 2, 'Economy': 1, 'facing': 1, 'Fire': 1, 'Frank': 1, 'nythpBreaking': 3, 'Microcephaly': 1, 'be': 2, 'Liaisons': 2, 'Somber': 2, 'Economics': 1, 'Times': 15, 'Motivated': 1, 'Bob': 1, 'by': 8, 'Ron': 1, 'Voters': 2, '‘Kimmy': 1, '8px': 2, 'economic': 1, 'sweaters”': 1, 'PATEL': 1, 'block': 8, 'NewsDeveloping': 1, 'visit': 1, 'Everything': 1, 'themenewsheadlines': 2, 'Driven': 1, 'span': 1, 'windowlocationsearchindexOfdisabletagx': 1, 'positionabsolute': 1, 'Corrections': 1, 'aledepackageregion': 2, 'vendors': 1, 'networksponsored': 1, 'Uses': 2, 'User': 1, 'Come': 1, 'widgetgetElementsByClassNamenotifyemail0': 1, '3600': 1, '96px': 1, 'Opinionator': 1, 'line': 1, 'Office': 1, 'gtrump': 1, 'up': 1, 'color000000': 3, 'optspoll': 1, 'viewportmedium10': 2, 'ul': 9, 'Theaters': 1, 'Books': 3, 'Sense': 1, 'ifform': 1, 'He’s': 1, 'Upshot': 2, 'Kesha': 1, 'Manhattan': 1, 'as': 8, '959': 1, 'Map': 1, 'Murder': 2, 'Curtis': 1, 'TV': 2, 'application': 1, 'bcolumn': 9, 'actors': 1, 'Student': 2, 'Man': 2, 'Case': 1, 'Gender': 1, 'marginright8px': 1, 'AM': 3, 'httpsa1nytcomassets': 1, 'Making': 2, 'Ad': 1, 'Weddings': 1, 'nytfranklinHelveticaArialsansserifpositionabsolutezindex10bottom0left109pxcolor326891borderleft1px': 1, '2000': 2, 'At': 1, 'opacity075': 3, 'nowgetMinutes': 1, 'Newsletter': 2, 'notificationwidget': 20, 'Sell': 1, 'MIKE': 1, 'gaiImg': 1, 'glabelcolorfffpadding8pxgmodelpromohppromoccol': 1, 'Supporting': 1, 'Designer': 3, 'nytfranklinHelveticaArialsansserifgmodelpromo': 1, 'Business': 5, 'notifyemailhover': 1, 'loadercontainer': 1, '25px': 1, 'Not': 2, 'Now': 7, 'Wheels': 2, 'button': 4, 'displayinlineblock': 2, 'try': 1, 'Talking': 1, '‘Coriolanus’': 1, 'Index': 2, 'requireportalapp': 1, 'Long': 1, 'video': 1, 'fontsize13px': 1, 'GRYNBAUM': 1, 'Sections': 4, 'requiremap': 1, 'Alan': 1, 'Assault': 1, 'Reed': 1, 'America': 3, 'Baker': 1, 'impact': 1, 'Created': 1, 'gupdatedcoloraaafontsize11pxgmodelpromohppromoacoltextaligncentermargintop3pxmarginbottom10pxpadding7px': 1, 'explore': 1, 'making': 1, 'Chinese': 1, 'minheight38px': 1, '31': 2, 'functionresponse': 1, '18px': 8, 'Alien': 1, 'Ground': 1, 'Leading': 3, 'Multimedia': 2, 'Pigeon': 1, 'private': 1, 'Contributing': 1, 'Treatment': 1, 'Seeps': 1, 'from': 4, 'nythpmorningbriefingemailpromo': 1, 'Sold': 1, 'e2e2e2height1pxmargin12px': 1, 'Drives': 2, 'next': 1, 'Lens': 1, 'Matters': 1, 'nythpElectionPredictionCCol': 1, 'Lane': 1, 'Land': 1, 'bnullswitch0casejsonaresponseTypebaresponsedatabreakcase': 1, '846': 1, 'notificationtext': 2, 'Plain': 1, 'Feast': 1, 'STYLING': 1, 'divdatastatussubscribed': 2, 'Merge': 1, 'Editorial': 3, 'buttonhover': 2, 'Feedback': 1, 'this': 2, 'challenge': 1, 'Video': 8, 'Traveler': 1, 'Nevada': 1, 'Police': 3, '750000': 1, 'Feature': 1, 'Pioneer': 1, 'Parts': 2, 'ninitfunctionnovar': 1, 'Christmas': 1, 'democracy': 1, 'Commutes': 1, 'containergetAttributedatastatus': 1, 'photospotregion': 3, 'Scientist': 1, 'Deadly': 1, 'Emails': 4, 'iconbefore': 1, 'Lessee': 1, 'collection': 11, 'Letters': 1, 'Topics': 1, 'Middle': 1, 'notifyaddEventListenerfocusfunction': 1, 'Politics': 5, 'Dudley': 1, 'nullaresponseTextbJSONparsearesponseTextmessagereturn': 1, 'notifysetAttributeplaceholdernewtext': 1, 'byline': 2, 'urlhttpsstatic01nytcomnewsgraphics20150225electionnavigationassetsimageselection2016logopng': 1, 'storythemefeature': 3, 'li': 3, 'Director': 1, 'fontfamily': 11, '2016': 6, '2011': 2, '2012': 1, 'auto': 3, 'RNC’s': 2, 'Adam': 1, 'messagecontainer': 1, 'front': 1, 'homepage20161031131206jsshared': 1, 'presidential': 2, 'Help': 1, 'Supreme': 2, 'Latest': 1, 'Replica': 1, '10px': 4, 'functionafunctiontypeof': 1, 'Arts': 6, 'From': 2, 'd2d2': 1, 'pantry': 1, 'It’s': 3, '‘90210’': 1, '86': 1, 'Season': 1, 'critics': 1, 'activist': 1, 'China': 1, 'Baby': 1, 'e1gebe1conreadystatechangefunction4creadyState200cstatusconsoleerrorcstatuscopenGEThttpsgeoipnewsdevnytimescom0trycresponseTypejsoncatchhcsendffunctionavar': 1, 'supports': 1, 'Reveal': 1, 'This': 2, 'testTimetoUTCStringreplace': 1, 'approaches': 1, 'Tituss': 1, 'Meet': 3, 'spanablayoutlayout': 1, 'storythemefeaturevideopromosmallupdatedvideopromosmall': 1, 'Developed': 1, 'could': 1, 'times': 1, 'ehttpsdocumentlocationprotocoltsrcehttpshttpwwwgoogletagservicescomtagjsgptjsvar': 1, '17px': 3, 'Review': 11, 'Forecast': 2, 'Graves': 1, 'Warrant': 1, 'Contracts': 1, 'requirefoundationmain': 5, 'their': 1, 'h6hover': 5, 'Medicaid': 1, '97px': 1, 'notifysetAttributeplaceholder': 1, 'fontsize': 19, 'foundationviewspagemanager': 2, 'aindexOfcode0bareplacecodereturn': 1, 'requireconfig': 1, 'fontweight700': 1, 'elite': 1, 'Aide’s': 1, 'Thiel': 1, 'Edition': 1, 'requirejquerynyt': 2, '8pxgmodelpromohovertextdecorationnonegmodelpromo': 1, 'Peter': 1, 'mediaslideshow': 1, 'Information': 2, 'Recaps': 1, 'false': 1, 'teenagers': 1, 'Strangers': 1, 'Secret': 1, 'Writers': 1, 'have': 1, 'need': 1, 'border': 3, 'Eurozone': 1, 'Oil': 1, 'notifysetAttributeplaceholderorigtext': 1, 'reHidetestattrClass': 2, 'videopromosmallcontainer': 1, 'After': 3, 'authmtr': 1, 'Midday': 1, 'Science': 5, 'Hughes': 1, 'Blogs': 1, 'who': 2, 'Cards’': 1, 'HEADER': 1, 'eight': 1, 'masthead': 1, 'Leaked': 1, 'url': 1, 'Slim': 1, 'rgba971361665': 1, 'Donald': 2, 'nythpHideTimestamps': 1, 'relievers': 1, 'scrap': 1, 'emerging': 1, 'httpsstatic01nytcomvideovhsbuildvhs2xmin': 1, 'Goal': 2, 'please': 1, 'Error': 1, 'MultimediaPhotos': 1, 'Mate': 1, 'h3gcharttitle': 1, 'httpsintnytcomapplicationsemailsubscriberclient': 1, 'gaiPtransformed': 1, 'definedefineamddefinenytintgeoipawindownytintgeoipafunctionuse': 1, 'cache': 1, 'Update': 1, 'gbargtrumpbackgroundd75c5cgmodelpromohppromoccol': 1, 'Mon': 1, '5px': 7, 'commentspanel': 1, 'Mentally': 1, 'Homes': 2, 'watching': 1, '999': 2, 'Keep': 1, 'Stories': 1, '125': 1, 'fallout': 1, 'ghppromoArtboard1': 7, 'Forges': 1, 'Move': 1, 'whether': 1, 'endTime': 4, 'httpsstatic01nytcomjsauthgrowldefault': 1, 'lineheight20px': 1, 'Synagogue': 1, 'MACUR': 1, 'nullaresponsebJSONparsearesponsedatabreakcase': 1, 'Alterations': 1, 'legacy': 1, 'fontsize14px': 2, '165rem': 1, 'storythemesummary': 3, 'Grows': 1, 'Wisconsin': 1, 'Johnson’s': 1, 'borderwidth2px': 1, 'gtoplinemarginbottom5pxcolor333gmodelpromohppromoccol': 1, '21rem': 1, 'Affect': 1, 'Higher': 1, 'email': 5, 'PM': 5, '2px': 12, 'fontstyle': 2, 'Race': 6, 'police': 1, 'lawsuit': 1, 'gpromofooterdisplaywebkitboxdisplaymsflexboxdisplayflexwebkitboxpackjustifymsflexpackjustifyjustifycontentspacebetweenwebkitboxalignbaselinemsflexalignbaselinealignitemsbaselinefontsize13pxmargintop5pxgmodelpromohppromoccol': 1, 'Burial': 1, 'borderbottomrightradius': 2, 'career': 1, 'functionPortal': 1, 'gchartdisplaywebkitboxdisplaymsflexboxdisplayflexgmodelpromohppromoccol': 1, 'windowNYTDGlobaldisplayBriefingspreviewTime': 1, 'Campus': 1, 'Log': 1, 'widgetgetElementsByTagNameform0': 1, 'Prescott’s': 1, 'nytfranklinHelveticaArialsansserifgmodelpromohppromoccolhovertextdecorationnonegmodelpromohppromoccolhover': 1, 'LittleNoticed': 1, 'Finally': 2, 'Music': 1, 'table': 1, 'Lie’': 1, 'Get': 7, 'baseUrl': 1, 'Frills': 1, 'json': 1, 'Obituaries': 2, 'f8e9d2': 1, 'backgroundrepeat': 1, 'Worthy': 1, 'kickers': 1, 'World': 5, '375px': 1, 'general': 1, 'Navigation': 7, 'Fact': 1, 'Halloween': 2, 'Number': 1, 'nytfranklinarialhelveticasansserif': 1, 'requirenytintemailsubscriber': 1, 'MORE': 1, 'vs': 1, 'You': 1, 'Return': 1, 'GAY': 1, 'borderradius': 1, 'h2gsentencefontsize13pxgmodelpromo': 1, 'kgeohieijoinb0classListaddkc0returnfunctiontypeof': 1, 'NYTimescom': 2, 'Accuse': 1, 'Car': 1, 'attrStart': 1, 'emotionally': 1, 'WATCHING': 1, 'firstcolumnregion': 2, 'Pour': 1, 'positionrelative': 1, 'center': 4, 'i': 2, 'Staten': 2, 'Interviewers': 1, 'States': 1, 'relativeimportant': 1, 'Need': 3, 'position': 3, 'latest': 1, 'Using': 1, 'aicfsreturn': 1, 'Access': 1, 'Sunday': 3, 'Chairman': 1, 'Fourth': 1, 'Pilgrimage': 1, 'fd8249': 2, 'Be': 3, 'residential': 1, 'Company': 1, 'Jordan': 1, 'add': 1, 'Aoun': 1, 'By': 16, 'match': 1, 'bordercolor': 6, 'Abductees': 1, 'government': 2, '26px': 1, 'T': 3, 'burden': 1, 'height': 7, 'Fashion': 8, 'like': 1, 'success': 1, 'Howard’s': 1, 'Returns': 1, 'Clubs': 1, 'become': 1, '11px': 3, 'Political’': 1, 'Quit': 2, '12px': 9, '‘Around': 1, 'Comfort': 2, 'Quiz': 2, 'Crossword': 4, 'Editor': 2, 'Newly': 1, 'Vendor': 1, 'pthemecomments': 1, 'bad80a': 1, 'leader': 1, 'Inside': 1, 'MICHAEL': 1, 'Up': 5, 'Us': 3, 'offset': 2, 'about': 3, 'interactiveleadin': 1, 'hpHeader': 15, 'US': 4, 'Maine’s': 1, 'Questions': 2, 'recognizes': 1, 'fatally': 1, 'Alerts': 1, 'h6': 27, 'Most': 4, 'Contrarian': 1, 'Listening': 1, 'var': 25, 'httpsstatic01nytcomjs2buildvideo20videofactoryrequire': 1, 'CAMBANIS': 1, 'function': 14, 'NYTDAbrainitHOMEComingUp2147483648control12147483648comingup1HOMENewsEvent23865470567full1429496729control1HOMEElectionPrediction3865470567on1429496729control1ECSampleTest2147483648variantA02147483648variantB0ECDigiAbandonmentTest4294967296control1': 1, 'dataType': 1, '700': 5, 'but': 5, 'zoom1': 1, 'Unpaid': 1, 'bug': 1, 'he': 1, 'Bicycle': 1, 'h2gmodelpromo': 1, 'signed': 1, 'productionpublished': 1, 'Women': 2, 'display': 20, '»': 2, 'Portalcreatenytinthpwatching': 1, 'Pollster': 1, 'notifyaddEventListenermouseoverfunction': 1, 'marginbottom': 13, 'twist': 1, 'Doors': 1, '0bbnullgfunctionefifbreturn1trysessionStoragesetItemaJSONstringifyecatchgifvoid': 1, 'ifnotify': 1, 'Centered': 1, '47': 1, '40': 1, 'Delivery': 1, 'other': 1, 'Donkeys': 1, 'Know': 1, 'Frugal': 1, 'HPHEADER': 1, 'Secrets': 1, 'JACOB': 1, 'chance': 1, 'Act': 1, 'Page': 1, 'South': 1, '—': 5, '87817': 1, 'Refs': 1, 'Site': 10, 'maxHeight': 1, 'formsetAttributeclassdirtyform': 1, 'Contributor': 1, 'Scandal': 1, 'Shooting': 1, 'Saudi': 1}\n"
     ]
    }
   ],
   "source": [
    "project(\"http://www.nytimes.com\")"
   ]
  },
  {
   "cell_type": "markdown",
   "metadata": {},
   "source": [
    "### 소감)\n",
    "\n",
    " 각 문제가 조금 깊은 부분을 물어보는 것이 있다. 근데 이것을... 사실 그렇게 어려운 내용은 아니지만 얼마나 자세하게 설명할 지 결정하는 것이 어렵다. 6번 문제 같은 경우가 특히 그랬다. 내가 알고 있다라는 것만 증명할 수 있을 정도로 쓰는 것이 맞는지, 아니면 상대방이 아예 모르는 사람이라고 생각하고 하나하나 적는 것이 맞는지... 그렇게 적다 보면 너무 길어진다. 태생이 이과생이라 머리속에 있는 것을 글로 옮기는 것이 어려운 탓일지도 모르겠다."
   ]
  },
  {
   "cell_type": "code",
   "execution_count": null,
   "metadata": {
    "collapsed": true
   },
   "outputs": [],
   "source": []
  }
 ],
 "metadata": {
  "anaconda-cloud": {},
  "kernelspec": {
   "display_name": "Python [default]",
   "language": "python",
   "name": "python2"
  },
  "language_info": {
   "codemirror_mode": {
    "name": "ipython",
    "version": 2
   },
   "file_extension": ".py",
   "mimetype": "text/x-python",
   "name": "python",
   "nbconvert_exporter": "python",
   "pygments_lexer": "ipython2",
   "version": "2.7.12"
  }
 },
 "nbformat": 4,
 "nbformat_minor": 1
}
