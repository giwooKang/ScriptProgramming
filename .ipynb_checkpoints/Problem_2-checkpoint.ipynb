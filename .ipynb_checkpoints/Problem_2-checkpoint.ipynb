{
 "cells": [
  {
   "cell_type": "markdown",
   "metadata": {},
   "source": [
    "2016년도 2학기 스크립트프로그래밍 1분반<br/>\n",
    "\n",
    "**project_euler** 문제풀이\n",
    "\n",
    "한국기술교육대학교 컴퓨터공학부<br/>\n",
    "2010136001 4학년 강기우\n",
    "\n",
    "=======================================================================\n",
    "\n",
    "### Problem 2\n",
    "\n",
    "피보나치 수열의 각 항은 바로 앞의 항 두 개를 더한 것이 됩니다. 1과 2로 시작하는 경우 이 수열은 아래와 같습니다.\n",
    "\n",
    "1, 2, 3, 5, 8, 13, 21, 34, 55, 89, ...\n",
    "\n",
    "짝수이면서 4백만 이하인 모든 항을 더하면 얼마가 됩니까?"
   ]
  },
  {
   "cell_type": "code",
   "execution_count": 9,
   "metadata": {
    "collapsed": false
   },
   "outputs": [],
   "source": [
    "def fibonacci(a, b):\n",
    "    c = a + b\n",
    "    if c > 4000000:\n",
    "        return 0\n",
    "    else:\n",
    "        return (c % 2 == 0) * c + fibonacci(b, c)"
   ]
  },
  {
   "cell_type": "markdown",
   "metadata": {},
   "source": [
    "재귀함수를 정의한다. c 는 a, b를 더한 값이고, 피보나치 수열에서의 다음 항이 된다.<br/>\n",
    "현재 항 c가 4백만보다 크다면, 0을 리턴하여 재귀에서 벗어난다.<br/>\n",
    "이제 c가 4백만보다 작고, 짝수인 경우에만 누적하도록 하는 return 구문을 작성한다."
   ]
  },
  {
   "cell_type": "code",
   "execution_count": 10,
   "metadata": {
    "collapsed": false
   },
   "outputs": [
    {
     "name": "stdout",
     "output_type": "stream",
     "text": [
      "4613732\n"
     ]
    }
   ],
   "source": [
    "print fibonacci(0, 1)"
   ]
  }
 ],
 "metadata": {
  "kernelspec": {
   "display_name": "Python [conda root]",
   "language": "python",
   "name": "conda-root-py"
  },
  "language_info": {
   "codemirror_mode": {
    "name": "ipython",
    "version": 2
   },
   "file_extension": ".py",
   "mimetype": "text/x-python",
   "name": "python",
   "nbconvert_exporter": "python",
   "pygments_lexer": "ipython2",
   "version": "2.7.12"
  }
 },
 "nbformat": 4,
 "nbformat_minor": 0
}
