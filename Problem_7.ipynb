{
 "cells": [
  {
   "cell_type": "markdown",
   "metadata": {
    "collapsed": true
   },
   "source": [
    "2016년도 2학기 스크립트프로그래밍 1분반<br/>\n",
    "\n",
    "**project_euler** 문제풀이\n",
    "\n",
    "한국기술교육대학교 컴퓨터공학부<br/>\n",
    "2010136001 4학년 강기우\n",
    "\n",
    "=======================================================================\n",
    "\n",
    "### Problem 7\n",
    "\n",
    "소수를 크기 순으로 나열하면 2, 3, 5, 7, 11, 13, ... 과 같이 됩니다.\n",
    "\n",
    "이 때 10,001번째의 소수를 구하세요."
   ]
  },
  {
   "cell_type": "code",
   "execution_count": 10,
   "metadata": {
    "collapsed": true
   },
   "outputs": [],
   "source": [
    "def factorization(num):\n",
    "    count = pow(num, 0.5) + 1\n",
    "    i = 2\n",
    "    if num==2:\n",
    "        return True\n",
    "    while i < count:\n",
    "        if num%i==0:\n",
    "            return False\n",
    "        i += 1\n",
    "    return True"
   ]
  },
  {
   "cell_type": "markdown",
   "metadata": {},
   "source": [
    " 맞는지 아닌지를 출력해주는 함수이다. 2~root(n) 까지의 수로 나누어지지 않았을 경우, n은 소수이므로, true를 리턴한다. 그렇지 않고 어떤 수로든 나누어졌다면, false를 리턴한다.\n",
    "\n",
    "위 코드에서는, 해당 방식으로 숫자 2를 걸러내기가 어려우므로 별도의 조건문으로 예외를 처리했다. 물론 조금 더 생각해보면 2도 소수로 거를 수 있는 함수를 만들 수 있지만 지금의 경우 조건문을 추가하는것보다 코드가 더 복잡해질 가능성이 있다. 간결한 코드를 위해서 권장할 만하지는 않은 방법을 썼다."
   ]
  },
  {
   "cell_type": "code",
   "execution_count": 14,
   "metadata": {
    "collapsed": false
   },
   "outputs": [
    {
     "name": "stdout",
     "output_type": "stream",
     "text": [
      "104743\n"
     ]
    }
   ],
   "source": [
    "i = 2\n",
    "count = 0\n",
    "while True:\n",
    "    if factorization(i):\n",
    "        count += 1\n",
    "        if count==10001:\n",
    "            break\n",
    "    i+=1\n",
    "    \n",
    "print i"
   ]
  },
  {
   "cell_type": "markdown",
   "metadata": {},
   "source": [
    "함수를 정의했다면 다음은 간단하다. 무한반복(while True:) 구문을 돌면서, i를 증가시키고, 만약 i가 소수라면 그 개수를 센다. 10001개째의 소수를 발견했을 때 반복문을 탈출하고 해당 소수를 출력한다."
   ]
  },
  {
   "cell_type": "code",
   "execution_count": null,
   "metadata": {
    "collapsed": true
   },
   "outputs": [],
   "source": []
  }
 ],
 "metadata": {
  "anaconda-cloud": {},
  "kernelspec": {
   "display_name": "Python [Root]",
   "language": "python",
   "name": "Python [Root]"
  },
  "language_info": {
   "codemirror_mode": {
    "name": "ipython",
    "version": 2
   },
   "file_extension": ".py",
   "mimetype": "text/x-python",
   "name": "python",
   "nbconvert_exporter": "python",
   "pygments_lexer": "ipython2",
   "version": "2.7.12"
  }
 },
 "nbformat": 4,
 "nbformat_minor": 0
}
