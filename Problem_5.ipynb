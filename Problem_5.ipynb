{
 "cells": [
  {
   "cell_type": "markdown",
   "metadata": {},
   "source": [
    "2016년도 2학기 스크립트프로그래밍 1분반<br/>\n",
    "\n",
    "**project_euler** 문제풀이\n",
    "\n",
    "한국기술교육대학교 컴퓨터공학부<br/>\n",
    "2010136001 4학년 강기우\n",
    "\n",
    "=======================================================================\n",
    "\n",
    "### Problem 5\n",
    "\n",
    "1 ~ 10 사이의 어떤 수로도 나누어 떨어지는 가장 작은 수는 2520입니다.\n",
    "\n",
    "그러면 1 ~ 20 사이의 어떤 수로도 나누어 떨어지는 가장 작은 수는 얼마입니까?"
   ]
  },
  {
   "cell_type": "code",
   "execution_count": 20,
   "metadata": {
    "collapsed": false,
    "scrolled": true
   },
   "outputs": [],
   "source": [
    "def factorization(num, list):\n",
    "    count = pow(num, 0.5) + 1\n",
    "    i = 2\n",
    "    while i < count:\n",
    "        if num%i==0:\n",
    "            list[i] += 1\n",
    "            num = num/i\n",
    "            return factorization(num,list)\n",
    "        i += 1\n",
    "    list[num] += 1\n",
    "    return num"
   ]
  },
  {
   "cell_type": "markdown",
   "metadata": {},
   "source": [
    "문제 3에서 사용하였던 소인수분해 재귀함수의 변형이다. \n",
    "\n",
    "list를 파라미터로 계속 가지고 다니면서, 입력받은 수 num을 소인수분해하고 그 소인수들의 개수를 세어 list에 누적한다. 가령, num = 8 인 경우 소인수분해하면 2^3 이며, 이 때 list[2] = 3 인 리스트를 리턴한다."
   ]
  },
  {
   "cell_type": "code",
   "execution_count": 23,
   "metadata": {
    "collapsed": false
   },
   "outputs": [],
   "source": [
    "a = [0] * 21\n",
    "\n",
    "for i in range(1, 21):\n",
    "    list = [0] * 21\n",
    "    factorization(i, list)\n",
    "    for j in range(1, 21):\n",
    "        if(a[j] < list[j]):\n",
    "            a[j] = list[j]"
   ]
  },
  {
   "cell_type": "markdown",
   "metadata": {},
   "source": [
    "문제는 1 ~ 20 사이의 모든 수로 나누어질 것을 요구한다. 이는 다시 말해, 문제에서 원하는 수 x를 소인수분해 하고, 그 결과인 인수들만으로 1 ~ 20 사이의 모든 수를 만들어낼 수 있음을 뜻한다는 것이 중요하다.\n",
    "\n",
    "따라서 여기서는 1 ~ 20 사이의 수를 소인수분해하고, 소인수분해된 수의 개수를 센다. 그리고 각 소인수의 최대 개수를 a 배열에 저장하는것이다. 이유는 다음과 같다. 만약 소인수만의 조합으로 8을 만들고자 할 때, 2는 최소한 3개 이상 필요하다. 하지만 8을 만들 수 있는 조건 하에서라면 4 또는 2를 만들 수 있다는 것은 자명하다. 마찬가지로 18을 소인수분해하면 3*3*2 인데, 18을 이미 소인수분해 할 수 있는 조건 하에서라면 2, 3, 6, 9 와 같은 이들은 모두 2개 이하의 [3]인수와 1개 이하의 [2]인수를 가지므로 고려 대상에서 제외된다.\n",
    "\n",
    "문제에서 바라는 것은 가장 작은 수 이므로, 다른 불필요한 인수를 가질 필요가 없다. 따라서 필요최소한의 값을 a에 저장하는 것이다. 이 과정을 1 ~ 20 을 거쳐 반복한다."
   ]
  },
  {
   "cell_type": "code",
   "execution_count": 24,
   "metadata": {
    "collapsed": false
   },
   "outputs": [
    {
     "name": "stdout",
     "output_type": "stream",
     "text": [
      "232792560\n"
     ]
    }
   ],
   "source": [
    "acc = 1\n",
    "for i in range(1, 21):\n",
    "    if a[i] != 0:\n",
    "        for j in range(0, a[i]):\n",
    "            acc = acc * i\n",
    "            \n",
    "print acc"
   ]
  },
  {
   "cell_type": "markdown",
   "metadata": {},
   "source": [
    "이후, 얻어낸 모든 소인수들은 그들 서로를 조합하여 1 ~ 20 사이의 모든 수를 만들어 낼 수 있는 필요최소한의 인수들이다. 이들을 모두 곱하면 답을 얻을 수 있다."
   ]
  }
 ],
 "metadata": {
  "anaconda-cloud": {},
  "kernelspec": {
   "display_name": "Python [conda root]",
   "language": "python",
   "name": "conda-root-py"
  },
  "language_info": {
   "codemirror_mode": {
    "name": "ipython",
    "version": 2
   },
   "file_extension": ".py",
   "mimetype": "text/x-python",
   "name": "python",
   "nbconvert_exporter": "python",
   "pygments_lexer": "ipython2",
   "version": "2.7.12"
  }
 },
 "nbformat": 4,
 "nbformat_minor": 0
}
