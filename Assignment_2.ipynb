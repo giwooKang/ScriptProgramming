{
 "cells": [
  {
   "cell_type": "markdown",
   "metadata": {},
   "source": [
    "<h1>Assignment 2</h1>\n",
    "<h3>한국기술교육대 컴퓨터공학부 \n",
    "<br/>스크립트프로그래밍 1분반 \n",
    "<br/>2010136001 강기우</h3>"
   ]
  },
  {
   "cell_type": "markdown",
   "metadata": {},
   "source": [
    "<h3>문제 1)</h3> \n",
    "<br/>\n",
    "다음 6 개의 Expression에 대해 Evaluation 결과 값을 출력하고, 해당 결과가 나온 이유에 대해 설명하시오\n",
    "<br/>\n",
    "- 1 and 2 and 3 and 4\n",
    "- 1 or 2 or 3 or 4\n",
    "- 1 and 2 or 3 and 4\n",
    "- (1 and 2) or (3 and 4)\n",
    "- 1 or 2 and 3 or 4\n",
    "- (1 or 2) and (3 or 4)"
   ]
  },
  {
   "cell_type": "code",
   "execution_count": 1,
   "metadata": {
    "collapsed": false
   },
   "outputs": [
    {
     "name": "stdout",
     "output_type": "stream",
     "text": [
      "4\n",
      "1\n",
      "2\n",
      "2\n",
      "1\n",
      "3\n"
     ]
    }
   ],
   "source": [
    "print 1 and 2 and 3 and 4\n",
    "print 1 or 2 or 3 or 4\n",
    "print 1 and 2 or 3 and 4\n",
    "print (1 and 2) or (3 and 4)\n",
    "print 1 or 2 and 3 or 4\n",
    "print (1 or 2) and (3 or 4)"
   ]
  },
  {
   "cell_type": "markdown",
   "metadata": {},
   "source": [
    "<font color=blue>\n",
    "먼저 파이썬에서의 and, or 연산에 대해 정리한다. x and y 에 대해서, 이 논리식의 진위여부를 왼쪽에서 오른쪽으로 읽으며 판단하기 위한 경우의 수는 두 가지다. \n",
    "<br/><br/>\n",
    "1. x가 거짓인 경우, 이 식의 진위여부는 x만으로 거짓임을 판단할 수 있다. 그러므로 x를 곧장 리턴한다.\n",
    "<br/>\n",
    "2. x가 참인 경우, 이 식의 진위여부는 y에 의존한다. 즉 y가 거짓이면 거짓, 참이면 참이다. 이 경우, y를 리턴한다.\n",
    "<br/><br/>\n",
    "반면에 or 연산의 경우, and 연산과는 반대다.\n",
    "<br/><br/>\n",
    "1. x가 거짓인 경우, 이 식의 진위여부는 y에 의존한다. 따라서 y를 리턴한다.\n",
    "<br/>\n",
    "2. x가 참인 경우, 이 식의 진위여부는 x만 확인하는 것으로 충분하다. 그러므로 x를 리턴한다.\n",
    "<br/><br/>\n",
    "위 식을 해석하기 위해, 두 가지 개념이 더 필요하다. 먼저, 숫자의 경우 참거짓 판별은 0 에서 false, 그 외 true이다. 그리고 and, or 연산은 and 연산이 우선순위가 높다. 따라서 괄호() 가 없는 평문에서의 계산은 먼저 and연산을 모두 수행한 후에 or 연산이 수행된다. 이제 위 식을 계산할 수 있다.\n",
    "<br/><br/>\n",
    "\n",
    "<font color=black>\n",
    "1 and 2 and 3 and 4</font><br/>\n",
    " 왼쪽에서부터 식을 순서대로 읽으며 계산한다. 1 and 2 에서 1 이 참이므로 2를 리턴. 2 and 3 에서 2가 참이므로 3을 리턴. 3 and 4 에서 3 이 참이므로 4를 리턴. 따라서 출력은 4가 된다.\n",
    "<br/><br/>\n",
    "\n",
    "<font color=black>\n",
    "1 or 2 or 3 or 4</font><br/>\n",
    " 역시 왼쪽에서부터 읽는다. 1 or 2 에서 1이 참이므로 뒤를 확인할 필요 없이 1을 리턴. 1 or 3 에서, 역시 1을 리턴. 1 or 4 에서, 역시 1을 리턴한다. 따라서 출력은 1이 된다.\n",
    "<br/><br/>\n",
    "\n",
    "<font color=black>\n",
    "1 and 2 or 3 and 4</font><br/>\n",
    " and 연산이 or 연산보다 우선순위가 높기에 and 연산을 먼저 계산한다. 1 and 2 에서 2를 리턴. 3 and 4에서 4를 리턴한다. 이제 2 or 4 에서 2를 리턴하게 되므로 출력은 2가 된다.\n",
    "<br/><br/>\n",
    "\n",
    "<font color=black>\n",
    "(1 and 2) or (3 and 4)</font><br/>\n",
    " 괄호가 있으므로 괄호를 먼저 계산한다. 이전 수식과 비교했을 때 괄호가 있거나 없거나 계산 순서가 동일하므로, 결과도 동일하다. 출력은 2가 된다.\n",
    "<br/><br/>\n",
    "\n",
    "<font color=black>\n",
    "1 or 2 and 3 or 4</font><br/>\n",
    " 역시 and 연산을 먼저 계산하고, or 연산을 이후에 계산한다. 2 and 3 에서 3을 리턴하여, 전체 수식은 1 or 3 or 4 가 된다. 2번에서와 같이, 이 수식의 결과값은 1이다.\n",
    "<br/><br/>\n",
    "\n",
    "\n",
    "<font color=black>\n",
    "(1 or 2) and (3 or 4)</font><br/>\n",
    " 괄호가 있으므로 괄호를 먼저 계산해야 한다. x or y 에서 x가 참일 경우 리턴값이 x임을 이용해 풀면, 1 and 3 이다. 이 때 출력값은 3이 된다.\n",
    "</font>"
   ]
  },
  {
   "cell_type": "markdown",
   "metadata": {},
   "source": [
    "<h3>문제 2)</h3> \n",
    "<br/>\n",
    "경로에 해당하는 문자열 1개를 입력 받아 그 안에 디렉토리 경로명과 파일명을 분리하여 리스트로 반환하는 함수 div_path(s)를 작성하시오.\n",
    "<br/>\n",
    "- 인자로 전달하는 문자열은 경로만 들어간다고 가정한다.\n",
    "- 각 디렉토리와 파일을 구분하는 문자는 '/'로 가정한다.\n",
    "- 반환하는 리스트의 첫번째 원소는 디렉토리이고 두번째 원소는 파일명이다.\n",
    "- 다음과 같은 실행 및 출력 결과가 도출되어야 한다.\n",
    "- div_path('/usr/local/bin/python')\n",
    "    * ['/usr/local/bin', 'python']\n",
    "- div_path('/home/chulsoo/test.txt')\n",
    "    * ['/home/chulsoo', 'test.txt']\n",
    "- [참고] 리스트(l) 내에 새로운 정수값 (예를 들어 10)을 넣는 방법은 l.append(10) 이다."
   ]
  },
  {
   "cell_type": "code",
   "execution_count": 2,
   "metadata": {
    "collapsed": true
   },
   "outputs": [],
   "source": [
    "def div_path(str):\n",
    "    list = str.split('/')\n",
    "    file = list[len(list)-1]\n",
    "    directory = str[0:len(str)-len(file)-1]\n",
    "    return [directory, file]"
   ]
  },
  {
   "cell_type": "code",
   "execution_count": 3,
   "metadata": {
    "collapsed": false
   },
   "outputs": [
    {
     "name": "stdout",
     "output_type": "stream",
     "text": [
      "['/usr/local/bin', 'python']\n"
     ]
    }
   ],
   "source": [
    "print div_path('/usr/local/bin/python')"
   ]
  },
  {
   "cell_type": "code",
   "execution_count": 4,
   "metadata": {
    "collapsed": false
   },
   "outputs": [
    {
     "name": "stdout",
     "output_type": "stream",
     "text": [
      "['/home/chulsoo', 'test.txt']\n"
     ]
    }
   ],
   "source": [
    "print div_path('/home/chulsoo/test.txt')"
   ]
  },
  {
   "cell_type": "markdown",
   "metadata": {},
   "source": [
    "<font color=blue>\n",
    " 더 간단한 방법도 있을 법 하지만 일단은 머리에 떠오르는 방법으로 풀었다. 우선 전체 경로를 '/' 문자 기준으로 split 하면, 리스트의 가장 마지막 요소가 파일명일 것이다. 그리고 디렉토리명은 경로에서 파일명+1 만큼의 값을 잘라낸 만큼이 될 것이다. 이를 리스트의 형태로 바꿔 출력하면 문제의 것과 같은 출력 결과를 얻을 수 있다. split의 두 번째 파라미터를 사용하여 더 간결하게 쓸 수 있을 듯도 한데... 이것은 나중에 더 알아봐야 겠다.\n",
    "</font>"
   ]
  },
  {
   "cell_type": "markdown",
   "metadata": {},
   "source": [
    "<h3>문제 3)</h3> \n",
    "<br/>\n",
    "두 개의 리스트를 인자로 받아서 그 두 개의 리스트에 대한 '합집합'을 반환하는 함수 list_union(lista, listb)를 작성하시오.\n",
    "<br/>\n",
    "- 인자로 전달하는 리스트 2 개에는 정수값만 들어간다고 가정하자.\n",
    "- 함수 내에서 새로운 리스트를 만들어 그 리스트 내에 인자로 받은 두 리스트의 모든 원소를 넣어 반환한다.\n",
    "- 반환하는 리스트에는 절대로 중복된 원소가 들어 있으면 안된다 (집합의 조건).\n",
    "- 반환하는 리스트는 정렬이 되어 있어야 한다.\n",
    "- 다음과 같은 실행 및 출력 결과가 도출되어야 한다.\n",
    "    * list_union([1, 2, 3], [1, 2, 4])\n",
    "        * [1, 2, 3, 4]\n",
    "    * list_union([-10, -5, 0, -1], [100, 9, 0, 9])\n",
    "        * [-10, -5, -1, 0, 9, 100]\n",
    "    * list_union([0, 1, 2], [0, 1, 2])\n",
    "        * [0, 1, 2]\n",
    "- [참고] 리스트(l) 내에 새로운 정수값 (예를 들어 10)을 넣는 방법은 l.append(10) 이다.\n",
    "- [참고] 임의의 정수값 (x)이 리스트 (l) 내에 존재하는지 판단하는 방법은 x in l 이다."
   ]
  },
  {
   "cell_type": "code",
   "execution_count": 5,
   "metadata": {
    "collapsed": true
   },
   "outputs": [],
   "source": [
    "def list_union(lista, listb):\n",
    "    return set(lista + listb)"
   ]
  },
  {
   "cell_type": "code",
   "execution_count": 6,
   "metadata": {
    "collapsed": false
   },
   "outputs": [
    {
     "name": "stdout",
     "output_type": "stream",
     "text": [
      "set([1, 2, 3, 4])\n"
     ]
    }
   ],
   "source": [
    "print list_union([1, 2, 3], [1, 2, 4])"
   ]
  },
  {
   "cell_type": "code",
   "execution_count": 7,
   "metadata": {
    "collapsed": false
   },
   "outputs": [
    {
     "name": "stdout",
     "output_type": "stream",
     "text": [
      "set([0, 100, 9, -10, -5, -1])\n"
     ]
    }
   ],
   "source": [
    "print list_union([-10, -5, 0, -1], [100, 9, 0, 9])"
   ]
  },
  {
   "cell_type": "code",
   "execution_count": 8,
   "metadata": {
    "collapsed": false
   },
   "outputs": [
    {
     "name": "stdout",
     "output_type": "stream",
     "text": [
      "set([0, 1, 2])\n"
     ]
    }
   ],
   "source": [
    "print list_union([0, 1, 2], [0, 1, 2])"
   ]
  },
  {
   "cell_type": "markdown",
   "metadata": {},
   "source": [
    "<font color=blue>\n",
    " 두 리스트 사이의 덧셈 연산을 통해, 중복을 허용하는 합 리스트를 얻을 수 있다. 여기에 set 함수를 이용하면 중복을 허용하지 않는 리스트를 결과로 얻는다. 따라서 위 문제는 간단하게 set(lista+listb) 한 문장으로 해결할 수 있다.\n",
    "</font>"
   ]
  },
  {
   "cell_type": "markdown",
   "metadata": {},
   "source": [
    "<h3>문제 4 - Project Euler 4번)</h3> \n",
    "<br/>\n",
    "앞에서부터 읽을 때나 뒤에서부터 읽을 때나 모양이 같은 수를 대칭수(palindrome)라고 부릅니다.\n",
    "\n",
    "두 자리 수를 곱해 만들 수 있는 대칭수 중 가장 큰 수는 9009 (= 91 × 99) 입니다.\n",
    "\n",
    "세 자리 수를 곱해 만들 수 있는 가장 큰 대칭수는 얼마입니까?"
   ]
  },
  {
   "cell_type": "code",
   "execution_count": 9,
   "metadata": {
    "collapsed": false
   },
   "outputs": [
    {
     "name": "stdout",
     "output_type": "stream",
     "text": [
      "906609\n"
     ]
    }
   ],
   "source": [
    "def isPalindrome(num):\n",
    "    num_s = str(num)\n",
    "    l = len(num_s)\n",
    "    count = l/2\n",
    "    for i in range(0, count):\n",
    "        if num_s[i] != num_s[l-i-1]:\n",
    "            return False\n",
    "    return True\n",
    "\n",
    "max = -1\n",
    "for i in range(100, 1000, 1):\n",
    "    for j in range(i, 1000, 1):\n",
    "        mul = i*j\n",
    "        if isPalindrome(mul) and max < mul :\n",
    "            max = mul\n",
    "\n",
    "print max"
   ]
  },
  {
   "cell_type": "markdown",
   "metadata": {},
   "source": [
    "<font color=blue>\n",
    "isPalindrome은 해당 수가 대칭수인지 구하는 함수의 정의이다. 파라미터 num을 string 자료형으로 바꾸고, 문자열의 길이를 구해, 길이 len/2 만큼의 인덱스를 앞뒤로 보면서 한번이라도 다른 값이 나오면 False를, 나오지 않으면 대칭수이므로 True를 리턴한다.<br/><br/>\n",
    "\n",
    "999 x 998 과 998 x 999는 같은 수이다. 따라서 중복 곱셈을 허용할 필요가 없다. 또한 세 자리 수는 100~999 이므로 위와 같은 반복문을 구성할 수 있다. 두 값을 곱하고, 해당 값이 대칭수이면서 현재까지의 최대값보다 크다면, 최대값을 갱신한다.\n",
    "</font>"
   ]
  },
  {
   "cell_type": "markdown",
   "metadata": {},
   "source": [
    "<h3>문제 5 - Project Euler 5번)</h3> \n",
    "<br/>\n",
    "1 ~ 10 사이의 어떤 수로도 나누어 떨어지는 가장 작은 수는 2520입니다.\n",
    "\n",
    "그러면 1 ~ 20 사이의 어떤 수로도 나누어 떨어지는 가장 작은 수는 얼마입니까?"
   ]
  },
  {
   "cell_type": "code",
   "execution_count": 10,
   "metadata": {
    "collapsed": false
   },
   "outputs": [
    {
     "name": "stdout",
     "output_type": "stream",
     "text": [
      "232792560\n"
     ]
    }
   ],
   "source": [
    "def factorization(num, list):\n",
    "    count = pow(num, 0.5) + 1\n",
    "    i = 2\n",
    "    while i < count:\n",
    "        if num%i==0:\n",
    "            list[i] += 1\n",
    "            num = num/i\n",
    "            return factorization(num,list)\n",
    "        i += 1\n",
    "    list[num] += 1\n",
    "    return num\n",
    "\n",
    "a = [0] * 21\n",
    "\n",
    "for i in range(1, 21):\n",
    "    list = [0] * 21\n",
    "    factorization(i, list)\n",
    "    for j in range(1, 21):\n",
    "        if(a[j] < list[j]):\n",
    "            a[j] = list[j]\n",
    "            \n",
    "acc = 1\n",
    "for i in range(1, 21):\n",
    "    if a[i] != 0:\n",
    "        for j in range(0, a[i]):\n",
    "            acc = acc * i\n",
    "            \n",
    "print acc"
   ]
  },
  {
   "cell_type": "markdown",
   "metadata": {},
   "source": [
    "<font color=blue>\n",
    "\n",
    "factorization은 list를 파라미터로 계속 가지고 다니면서, 입력받은 수 num을 소인수분해하고 그 소인수들의 개수를 세어 list에 누적하는 함수이다. 가령, num = 8 인 경우 소인수분해하면 2^3 이며, 이 때 list[2] = 3 인 리스트를 리턴한다.\n",
    "<br/><br/>\n",
    "문제는 1 ~ 20 사이의 모든 수로 나누어질 것을 요구한다. 이는 다시 말해, 문제에서 원하는 수 x를 소인수분해 하고, 그 결과인 인수들만으로 1 ~ 20 사이의 모든 수를 만들어낼 수 있음을 뜻한다는 것이 중요하다.\n",
    "<br/><br/>\n",
    "따라서 여기서는 1 ~ 20 사이의 수를 소인수분해하고, 소인수분해된 수의 개수를 센다. 그리고 각 소인수의 최대 개수를 a 배열에 저장하는것이다. 이유는 다음과 같다. 만약 소인수만의 조합으로 8을 만들고자 할 때, 2는 최소한 3개 이상 필요하다. 하지만 8을 만들 수 있는 조건 하에서라면 4 또는 2를 만들 수 있다는 것은 자명하다. 마찬가지로 18을 소인수분해하면 3*3*2 인데, 18을 이미 소인수분해 할 수 있는 조건 하에서라면 2, 3, 6, 9 와 같은 이들은 모두 2개 이하의 [3]인수와 1개 이하의 [2]인수를 가지므로 고려 대상에서 제외된다.\n",
    "<br/><br/>\n",
    "문제에서 바라는 것은 가장 작은 수 이므로, 다른 불필요한 인수를 가질 필요가 없다. 따라서 필요최소한의 값을 a에 저장하는 것이다. 이 과정을 1 ~ 20 을 거쳐 반복한다.\n",
    "<br/><br/>\n",
    "이후, 얻어낸 모든 소인수들은 그들 서로를 조합하여 1 ~ 20 사이의 모든 수를 만들어 낼 수 있는 필요최소한의 인수들이다. 이들을 모두 곱하면 답을 얻을 수 있다.\n",
    "\n",
    "</font>"
   ]
  },
  {
   "cell_type": "markdown",
   "metadata": {},
   "source": [
    "<h3>문제 6 - Project Euler 6번)</h3> \n",
    "<br/>\n",
    "1부터 10까지 자연수를 각각 제곱해 더하면 다음과 같습니다 (제곱의 합).\n",
    "\n",
    "12 + 22 + ... + 102 = 385\n",
    "1부터 10을 먼저 더한 다음에 그 결과를 제곱하면 다음과 같습니다 (합의 제곱).\n",
    "\n",
    "(1 + 2 + ... + 10)2 = 552 = 3025\n",
    "따라서 1부터 10까지 자연수에 대해 \"합의 제곱\"과 \"제곱의 합\" 의 차이는 3025 - 385 = 2640 이 됩니다.\n",
    "\n",
    "그러면 1부터 100까지 자연수에 대해 \"합의 제곱\"과 \"제곱의 합\"의 차이는 얼마입니까?"
   ]
  },
  {
   "cell_type": "code",
   "execution_count": 11,
   "metadata": {
    "collapsed": false
   },
   "outputs": [
    {
     "name": "stdout",
     "output_type": "stream",
     "text": [
      "25164150\n"
     ]
    }
   ],
   "source": [
    "zhsum = 0\n",
    "hzsum = 0\n",
    "for i in range(1, 101):\n",
    "    zhsum += i*i\n",
    "    hzsum += i\n",
    "    \n",
    "print abs(hzsum * hzsum - zhsum)"
   ]
  },
  {
   "cell_type": "markdown",
   "metadata": {},
   "source": [
    "<font color=blue>\n",
    "6번 문제는 너무 쉬워서 별다른 설명이 필요치 않다. 문제 내용 그대로, 제곱의 합을 1~100 을 반복하며 누적하고. 이 반복과 동시에 1~100의 합을 계산하여 반복문이 끝난 후 해당 합을 제곱하여 합의 제곱을 얻는다. 두 수의 차를 계산하면 답을 얻을 수 있다.\n",
    "</font>"
   ]
  },
  {
   "cell_type": "markdown",
   "metadata": {},
   "source": [
    "<h3>문제 7)</h3> \n",
    "<br/>\n",
    "웹 URL로 지정된 웹페이지를 문자열로 가져와 1) 모든 HTML 태그를 제외한 순수 텍스트 문자열만을 걸러내고, 2) 그 순수 텍스트 문자열 안에 존재하는 단어가 총 몇개인지 출력하는 프로그램을 작성하시오.\n",
    "<br/>\n",
    "\n",
    "- HTML 태그는 다음 조건을 가지는 것이다.\n",
    "    * < 로 시작하여 >로 끝난다.\n",
    "    * 예를 들어, 아래와 같은 HTML 내용 내에 한 줄이 있다고 가정하자.<br/><br/>\n",
    "    &lt;label for=\"keep_signed\">로그인 유지&lt;/label><br/><br/>\n",
    "    * 위 소스에서 HTML 태그를 제외한 순수 텍스트 문자열은 아래와 같다.\n",
    "    <br/><br/>\n",
    "    로그인 유지<br/><br/>\n",
    "    * 한편, 아래와 같은 HTML 한 줄이 있다고 가정하자.<br/><br/>\n",
    "    &lt;link rel=\"stylesheet\" href=\"/common/css/xe.min.css?20150910092654\" /><br/><br/>\n",
    "    * 위 소스는 HTML 태그로만 구성된 것이며 걸러낼 수 있는 순수 텍스 문자열은 존재하지 않는다.<br/><br/>\n",
    "- 단어를 나누는 기준은 오로지 공백문자 (whitespace)이다.\n",
    "\n",
    "    * 즉, 위 순수 텍스트 문자열인 \"로그인 유지\"에서 분리한 단어는 \"로그인\"과 \"유지\"이다.<br/><br/>\n",
    "- 다음은 URL로 지정된 웹페이지를 특정 문자열로 가져오는 코드이다.\n",
    "    * 즉, 숙제 코드는 아래 코드로 부터 시작해야 한다."
   ]
  },
  {
   "cell_type": "code",
   "execution_count": 12,
   "metadata": {
    "collapsed": false
   },
   "outputs": [],
   "source": [
    "import urllib2\n",
    "\n",
    "source = urllib2.urlopen(\"http://cse.kut.ac.kr/\").read()\n",
    "\n",
    "#print source # 추후 숙제 답안 제출 때엔 왼쪽 라인은 주석처리할 것"
   ]
  },
  {
   "cell_type": "code",
   "execution_count": 13,
   "metadata": {
    "collapsed": false,
    "scrolled": false
   },
   "outputs": [
    {
     "name": "stdout",
     "output_type": "stream",
     "text": [
      "464\n"
     ]
    }
   ],
   "source": [
    "str = \"\"\n",
    "for sub in source.split('<'):\n",
    "    index = sub.find('>')\n",
    "    if index == -1 or index == len(sub)-1: \n",
    "        continue\n",
    "    str += sub[index+1:] + \" \"\n",
    "\n",
    "num = 0\n",
    "for sub in str.split():\n",
    "    num += 1\n",
    "print num"
   ]
  },
  {
   "cell_type": "markdown",
   "metadata": {},
   "source": [
    "<font color=blue>\n",
    " 알고리즘을 설명하자면, 먼저 &lt;를 기준으로 문자열을 split한다. 이렇게 얻은 리스트에는 &gt; 만을 갖고있는 문자열만이 포함될것이며, 이 &gt;를 기준으로 좌측은 HTML 태그의 내용이고 우측은 순수 문자열임을 알 수 있다.<br/><br/>\n",
    " 이제 &gt; 의 우측에 존재하는 문자열 전부를 str에 누적한다. 이 반복문이 끝나면 str에는 오직 공백과 순수 문자열만이 남는다. 이 str를 공백을 기준으로 다시 split하면 오직 순수 문자열의 단어 단위로만 구성된 리스트를 얻는다. 이 리스트 하나당 값을 세면 전체 단어의 갯수를 알 수 있다.\n",
    "</font>"
   ]
  }
 ],
 "metadata": {
  "anaconda-cloud": {},
  "kernelspec": {
   "display_name": "Python [default]",
   "language": "python",
   "name": "python2"
  },
  "language_info": {
   "codemirror_mode": {
    "name": "ipython",
    "version": 2
   },
   "file_extension": ".py",
   "mimetype": "text/x-python",
   "name": "python",
   "nbconvert_exporter": "python",
   "pygments_lexer": "ipython2",
   "version": "2.7.12"
  }
 },
 "nbformat": 4,
 "nbformat_minor": 1
}
