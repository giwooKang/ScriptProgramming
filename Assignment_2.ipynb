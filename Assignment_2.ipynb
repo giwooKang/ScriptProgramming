{
 "cells": [
  {
   "cell_type": "markdown",
   "metadata": {},
   "source": [
    "<h1>Assignment 2</h1>\n",
    "<h3>한국기술교육대 컴퓨터공학부 \n",
    "<br/>스크립트프로그래밍 1분반 \n",
    "<br/>2010136001 강기우</h3>"
   ]
  },
  {
   "cell_type": "markdown",
   "metadata": {},
   "source": [
    "<h3>문제 1)</h3> \n",
    "<br/>\n",
    "다음 6 개의 Expression에 대해 Evaluation 결과 값을 출력하고, 해당 결과가 나온 이유에 대해 설명하시오\n",
    "<br/>\n",
    "- 1 and 2 and 3 and 4\n",
    "- 1 or 2 or 3 or 4\n",
    "- 1 and 2 or 3 and 4\n",
    "- (1 and 2) or (3 and 4)\n",
    "- 1 or 2 and 3 or 4\n",
    "- (1 or 2) and (3 or 4)"
   ]
  },
  {
   "cell_type": "code",
   "execution_count": 9,
   "metadata": {
    "collapsed": false
   },
   "outputs": [
    {
     "name": "stdout",
     "output_type": "stream",
     "text": [
      "4\n",
      "1\n",
      "2\n",
      "2\n",
      "1\n",
      "3\n"
     ]
    }
   ],
   "source": [
    "print 1 and 2 and 3 and 4\n",
    "print 1 or 2 or 3 or 4\n",
    "print 1 and 2 or 3 and 4\n",
    "print (1 and 2) or (3 and 4)\n",
    "print 1 or 2 and 3 or 4\n",
    "print (1 or 2) and (3 or 4)"
   ]
  },
  {
   "cell_type": "markdown",
   "metadata": {},
   "source": [
    "<font color=blue>\n",
    "먼저 파이썬에서의 and, or 연산에 대해 정리한다. x and y 에 대해서, 이 논리식의 진위여부를 왼쪽에서 오른쪽으로 읽으며 판단하기 위한 경우의 수는 두 가지다. \n",
    "<br/><br/>\n",
    "1. x가 거짓인 경우, 이 식의 진위여부는 x만으로 거짓임을 판단할 수 있다. 그러므로 x를 곧장 리턴한다.\n",
    "<br/>\n",
    "2. x가 참인 경우, 이 식의 진위여부는 y에 의존한다. 즉 y가 거짓이면 거짓, 참이면 참이다. 이 경우, y를 리턴한다.\n",
    "<br/><br/>\n",
    "반면에 or 연산의 경우, and 연산과는 반대다.\n",
    "<br/><br/>\n",
    "1. x가 거짓인 경우, 이 식의 진위여부는 y에 의존한다. 따라서 y를 리턴한다.\n",
    "<br/>\n",
    "2. x가 참인 경우, 이 식의 진위여부는 x만 확인하는 것으로 충분하다. 그러므로 x를 리턴한다.\n",
    "<br/><br/>\n",
    "위 식을 해석하기 위해, 두 가지 개념이 더 필요하다. 먼저, 숫자의 경우 참거짓 판별은 0 에서 false, 그 외 true이다. 그리고 and, or 연산은 and 연산이 우선순위가 높다. 따라서 괄호() 가 없는 평문에서의 계산은 먼저 and연산을 모두 수행한 후에 or 연산이 수행된다. 이제 위 식을 계산할 수 있다.\n",
    "<br/><br/>\n",
    "\n",
    "<font color=black>\n",
    "1 and 2 and 3 and 4</font><br/>\n",
    " 왼쪽에서부터 식을 순서대로 읽으며 계산한다. 1 and 2 에서 1 이 참이므로 2를 리턴. 2 and 3 에서 2가 참이므로 3을 리턴. 3 and 4 에서 3 이 참이므로 4를 리턴. 따라서 출력은 4가 된다.\n",
    "<br/><br/>\n",
    "\n",
    "<font color=black>\n",
    "1 or 2 or 3 or 4</font><br/>\n",
    " 역시 왼쪽에서부터 읽는다. 1 or 2 에서 1이 참이므로 뒤를 확인할 필요 없이 1을 리턴. 1 or 3 에서, 역시 1을 리턴. 1 or 4 에서, 역시 1을 리턴한다. 따라서 출력은 1이 된다.\n",
    "<br/><br/>\n",
    "\n",
    "<font color=black>\n",
    "1 and 2 or 3 and 4</font><br/>\n",
    " and 연산이 or 연산보다 우선순위가 높기에 and 연산을 먼저 계산한다. 1 and 2 에서 2를 리턴. 3 and 4에서 4를 리턴한다. 이제 2 or 4 에서 2를 리턴하게 되므로 출력은 2가 된다.\n",
    "<br/><br/>\n",
    "\n",
    "<font color=black>\n",
    "(1 and 2) or (3 and 4)</font><br/>\n",
    " 괄호가 있으므로 괄호를 먼저 계산한다. 이전 수식과 비교했을 때 괄호가 있거나 없거나 계산 순서가 동일하므로, 결과도 동일하다. 출력은 2가 된다.\n",
    "<br/><br/>\n",
    "\n",
    "<font color=black>\n",
    "1 or 2 and 3 or 4</font><br/>\n",
    " 역시 and 연산을 먼저 계산하고, or 연산을 이후에 계산한다. 2 and 3 에서 3을 리턴하여, 전체 수식은 1 or 3 or 4 가 된다. 2번에서와 같이, 이 수식의 결과값은 1이다.\n",
    "<br/><br/>\n",
    "\n",
    "\n",
    "<font color=black>\n",
    "(1 or 2) and (3 or 4)</font><br/>\n",
    " 괄호가 있으므로 괄호를 먼저 계산해야 한다. x or y 에서 x가 참일 경우 리턴값이 x임을 이용해 풀면, 1 and 3 이다. 이 때 출력값은 3이 된다.\n",
    "</font>"
   ]
  },
  {
   "cell_type": "markdown",
   "metadata": {},
   "source": [
    "<h3>문제 2)</h3> \n",
    "<br/>\n",
    "경로에 해당하는 문자열 1개를 입력 받아 그 안에 디렉토리 경로명과 파일명을 분리하여 리스트로 반환하는 함수 div_path(s)를 작성하시오.\n",
    "<br/>\n",
    "- 인자로 전달하는 문자열은 경로만 들어간다고 가정한다.\n",
    "- 각 디렉토리와 파일을 구분하는 문자는 '/'로 가정한다.\n",
    "- 반환하는 리스트의 첫번째 원소는 디렉토리이고 두번째 원소는 파일명이다.\n",
    "- 다음과 같은 실행 및 출력 결과가 도출되어야 한다.\n",
    "- div_path('/usr/local/bin/python')\n",
    "    * ['/usr/local/bin', 'python']\n",
    "- div_path('/home/chulsoo/test.txt')\n",
    "    * ['/home/chulsoo', 'test.txt']\n",
    "- [참고] 리스트(l) 내에 새로운 정수값 (예를 들어 10)을 넣는 방법은 l.append(10) 이다."
   ]
  },
  {
   "cell_type": "code",
   "execution_count": 27,
   "metadata": {
    "collapsed": true
   },
   "outputs": [],
   "source": [
    "def div_path(str):\n",
    "    list = str.split('/')\n",
    "    file = list[len(list)-1]\n",
    "    directory = str[0:len(str)-len(file)-1]\n",
    "    return [directory, file]"
   ]
  },
  {
   "cell_type": "code",
   "execution_count": 28,
   "metadata": {
    "collapsed": false
   },
   "outputs": [
    {
     "name": "stdout",
     "output_type": "stream",
     "text": [
      "['/usr/local/bin', 'python']\n"
     ]
    }
   ],
   "source": [
    "print div_path('/usr/local/bin/python')"
   ]
  },
  {
   "cell_type": "code",
   "execution_count": 29,
   "metadata": {
    "collapsed": false
   },
   "outputs": [
    {
     "name": "stdout",
     "output_type": "stream",
     "text": [
      "['/home/chulsoo', 'test.txt']\n"
     ]
    }
   ],
   "source": [
    "print div_path('/home/chulsoo/test.txt')"
   ]
  },
  {
   "cell_type": "markdown",
   "metadata": {},
   "source": [
    "<font color=blue>\n",
    " 더 간단한 방법도 있을 법 하지만 일단은 머리에 떠오르는 방법으로 풀었다. 우선 전체 경로를 '/' 문자 기준으로 split 하면, 리스트의 가장 마지막 요소가 파일명일 것이다. 그리고 디렉토리명은 경로에서 파일명+1 만큼의 값을 잘라낸 만큼이 될 것이다. 이를 리스트의 형태로 바꿔 출력하면 문제의 것과 같은 출력 결과를 얻을 수 있다. split의 두 번째 파라미터를 사용하여 더 간결하게 쓸 수 있을 듯도 한데... 이것은 나중에 더 알아봐야 겠다.\n",
    "</font>"
   ]
  },
  {
   "cell_type": "markdown",
   "metadata": {},
   "source": [
    "<h3>문제 3)</h3> \n",
    "<br/>\n",
    "두 개의 리스트를 인자로 받아서 그 두 개의 리스트에 대한 '합집합'을 반환하는 함수 list_union(lista, listb)를 작성하시오.\n",
    "<br/>\n",
    "- 인자로 전달하는 리스트 2 개에는 정수값만 들어간다고 가정하자.\n",
    "- 함수 내에서 새로운 리스트를 만들어 그 리스트 내에 인자로 받은 두 리스트의 모든 원소를 넣어 반환한다.\n",
    "- 반환하는 리스트에는 절대로 중복된 원소가 들어 있으면 안된다 (집합의 조건).\n",
    "- 반환하는 리스트는 정렬이 되어 있어야 한다.\n",
    "- 다음과 같은 실행 및 출력 결과가 도출되어야 한다.\n",
    "    * list_union([1, 2, 3], [1, 2, 4])\n",
    "        * [1, 2, 3, 4]\n",
    "    * list_union([-10, -5, 0, -1], [100, 9, 0, 9])\n",
    "        * [-10, -5, -1, 0, 9, 100]\n",
    "    * list_union([0, 1, 2], [0, 1, 2])\n",
    "        * [0, 1, 2]\n",
    "- [참고] 리스트(l) 내에 새로운 정수값 (예를 들어 10)을 넣는 방법은 l.append(10) 이다.\n",
    "- [참고] 임의의 정수값 (x)이 리스트 (l) 내에 존재하는지 판단하는 방법은 x in l 이다."
   ]
  },
  {
   "cell_type": "code",
   "execution_count": 31,
   "metadata": {
    "collapsed": true
   },
   "outputs": [],
   "source": [
    "def list_union(lista, listb):\n",
    "    return set(lista + listb)"
   ]
  },
  {
   "cell_type": "code",
   "execution_count": 32,
   "metadata": {
    "collapsed": false
   },
   "outputs": [
    {
     "name": "stdout",
     "output_type": "stream",
     "text": [
      "set([1, 2, 3, 4])\n"
     ]
    }
   ],
   "source": [
    "print list_union([1, 2, 3], [1, 2, 4])"
   ]
  },
  {
   "cell_type": "code",
   "execution_count": 33,
   "metadata": {
    "collapsed": false
   },
   "outputs": [
    {
     "name": "stdout",
     "output_type": "stream",
     "text": [
      "set([0, 100, 9, -10, -5, -1])\n"
     ]
    }
   ],
   "source": [
    "print list_union([-10, -5, 0, -1], [100, 9, 0, 9])"
   ]
  },
  {
   "cell_type": "code",
   "execution_count": 34,
   "metadata": {
    "collapsed": false
   },
   "outputs": [
    {
     "name": "stdout",
     "output_type": "stream",
     "text": [
      "set([0, 1, 2])\n"
     ]
    }
   ],
   "source": [
    "print list_union([0, 1, 2], [0, 1, 2])"
   ]
  },
  {
   "cell_type": "markdown",
   "metadata": {},
   "source": [
    "<font color=blue>\n",
    " 두 리스트 사이의 덧셈 연산을 통해, 중복을 허용하는 합 리스트를 얻을 수 있다. 여기에 set 함수를 이용하면 중복을 허용하지 않는 리스트를 결과로 얻는다. 따라서 위 문제는 간단하게 set(lista+listb) 한 문장으로 해결할 수 있다.\n",
    "</font>"
   ]
  },
  {
   "cell_type": "markdown",
   "metadata": {},
   "source": [
    "<h3>문제 3)</h3> \n",
    "<br/>\n",
    "두 개의 리스트를 인자로 받아서 그 두 개의 리스트에 대한 '합집합'을 반환하는 함수 list_union(lista, listb)를 작성하시오.\n",
    "<br/>\n",
    "- 인자로 전달하는 리스트 2 개에는 정수값만 들어간다고 가정하자.\n",
    "- 함수 내에서 새로운 리스트를 만들어 그 리스트 내에 인자로 받은 두 리스트의 모든 원소를 넣어 반환한다.\n",
    "- 반환하는 리스트에는 절대로 중복된 원소가 들어 있으면 안된다 (집합의 조건).\n",
    "- 반환하는 리스트는 정렬이 되어 있어야 한다.\n",
    "- 다음과 같은 실행 및 출력 결과가 도출되어야 한다.\n",
    "    * list_union([1, 2, 3], [1, 2, 4])\n",
    "        * [1, 2, 3, 4]\n",
    "    * list_union([-10, -5, 0, -1], [100, 9, 0, 9])\n",
    "        * [-10, -5, -1, 0, 9, 100]\n",
    "    * list_union([0, 1, 2], [0, 1, 2])\n",
    "        * [0, 1, 2]\n",
    "- [참고] 리스트(l) 내에 새로운 정수값 (예를 들어 10)을 넣는 방법은 l.append(10) 이다.\n",
    "- [참고] 임의의 정수값 (x)이 리스트 (l) 내에 존재하는지 판단하는 방법은 x in l 이다."
   ]
  }
 ],
 "metadata": {
  "anaconda-cloud": {},
  "kernelspec": {
   "display_name": "Python [default]",
   "language": "python",
   "name": "python2"
  },
  "language_info": {
   "codemirror_mode": {
    "name": "ipython",
    "version": 2
   },
   "file_extension": ".py",
   "mimetype": "text/x-python",
   "name": "python",
   "nbconvert_exporter": "python",
   "pygments_lexer": "ipython2",
   "version": "2.7.12"
  }
 },
 "nbformat": 4,
 "nbformat_minor": 1
}
