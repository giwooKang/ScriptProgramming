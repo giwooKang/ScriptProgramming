{
 "cells": [
  {
   "cell_type": "markdown",
   "metadata": {},
   "source": [
    "2016년도 2학기 스크립트프로그래밍 1분반<br/>\n",
    "\n",
    "**project_euler** 문제풀이\n",
    "\n",
    "한국기술교육대학교 컴퓨터공학부<br/>\n",
    "2010136001 4학년 강기우\n",
    "\n",
    "=======================================================================\n",
    "\n",
    "### Problem 3\n",
    "\n",
    "어떤 수를 소수의 곱으로만 나타내는 것을 소인수분해라 하고, 이 소수들을 그 수의 소인수라고 합니다.\n",
    "예를 들면 13195의 소인수는 5, 7, 13, 29 입니다.\n",
    "\n",
    "600851475143의 소인수 중에서 가장 큰 수를 구하세요."
   ]
  },
  {
   "cell_type": "code",
   "execution_count": 1,
   "metadata": {
    "collapsed": false
   },
   "outputs": [],
   "source": [
    "n = 600851475143"
   ]
  },
  {
   "cell_type": "code",
   "execution_count": 2,
   "metadata": {
    "collapsed": false
   },
   "outputs": [],
   "source": [
    "def factorization(num):\n",
    "    count = pow(num, 0.5) + 1\n",
    "    i = 2\n",
    "    while i < count:\n",
    "        if num%i==0:\n",
    "            num = num/i\n",
    "            return factorization(num)\n",
    "        i += 1\n",
    "    return num"
   ]
  },
  {
   "cell_type": "markdown",
   "metadata": {},
   "source": [
    "소수 문제의 경우 보통 일정 크기 이상을 넘어가는 수에 대해서는 인접 값 사이의 거리가 매우 넓어 소수 배열을 정적으로 할당한 후 해당 배열을 이용해 문제를 푸는 것이 효율적일 때가 많다. 하지만 이 문제에서는 간단하게 재귀함수 + 반복문으로 해결하였다. <br/><br/>\n",
    "소수임을 판별하는 여러가지 방법이 있는데 그 중 하나는 2부터 root(n)까지 나누어 보는 것이다. 2 ~ root(n) 사이에 반복에서, 만약 나누어지는 값이 있다면 그 수는 n의 소인수라는 것을 알 수 있다(2부터 순차적으로 나누어 나가기 때문에 나누어진 값은 반드시 소수가 된다). 만약 나눠지지 않는다면, 그 수는 1과 n을 소인수로 갖는다. 즉 n은 소수이다.<br/><br/>\n",
    "이 알고리즘은 1과 자기 자신만을 소인수로 갖는, 600851475143 의 가장 큰 소인수를 찾는 알고리즘이다. 첫 반복은 2 ~ root(n)에서 시작한다. 만약 나누어지는 수가 발견된다면, \n",
    "n 을 i로 나누고 그 몫을 다시 n으로 재설정한다. 만약 i가 나누어진다면 i는 n의 소인수라는 뜻이기 때문이다. 또 이에 대해 2 ~ root(n) 을 반복한다. 이를 반복하면 root(n)까지 나누어지지 않는 순간이 온다. 이 때의 마지막 인수 n은 1과 n만으로 나누어지는, 가장 큰 소인수일것이다. 이 값 n을 리턴한다."
   ]
  },
  {
   "cell_type": "code",
   "execution_count": 3,
   "metadata": {
    "collapsed": false
   },
   "outputs": [
    {
     "name": "stdout",
     "output_type": "stream",
     "text": [
      "6857\n"
     ]
    }
   ],
   "source": [
    "print factorization(n)"
   ]
  }
 ],
 "metadata": {
  "anaconda-cloud": {},
  "kernelspec": {
   "display_name": "Python [conda root]",
   "language": "python",
   "name": "conda-root-py"
  },
  "language_info": {
   "codemirror_mode": {
    "name": "ipython",
    "version": 2
   },
   "file_extension": ".py",
   "mimetype": "text/x-python",
   "name": "python",
   "nbconvert_exporter": "python",
   "pygments_lexer": "ipython2",
   "version": "2.7.12"
  }
 },
 "nbformat": 4,
 "nbformat_minor": 0
}
